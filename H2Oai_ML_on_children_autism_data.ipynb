{
  "nbformat": 4,
  "nbformat_minor": 0,
  "metadata": {
    "colab": {
      "name": "Untitled2.ipynb",
      "provenance": [],
      "include_colab_link": true
    },
    "kernelspec": {
      "name": "python3",
      "display_name": "Python 3"
    },
    "accelerator": "GPU"
  },
  "cells": [
    {
      "cell_type": "markdown",
      "metadata": {
        "id": "view-in-github",
        "colab_type": "text"
      },
      "source": [
        "<a href=\"https://colab.research.google.com/github/bbchen33/Machine-Learning/blob/master/H2Oai_ML_on_children_autism_data.ipynb\" target=\"_parent\"><img src=\"https://colab.research.google.com/assets/colab-badge.svg\" alt=\"Open In Colab\"/></a>"
      ]
    },
    {
      "cell_type": "code",
      "metadata": {
        "id": "EF6OzxrwjF3_",
        "colab_type": "code",
        "colab": {
          "base_uri": "https://localhost:8080/",
          "height": 224
        },
        "outputId": "e9059065-df9a-4cab-a38f-622eff49ba54"
      },
      "source": [
        "!pip install requests\n",
        "!pip install tabulate\n",
        "!pip install \"colorama>=0.3.8\"\n",
        "!pip install future"
      ],
      "execution_count": 1,
      "outputs": [
        {
          "output_type": "stream",
          "text": [
            "Requirement already satisfied: requests in /usr/local/lib/python3.6/dist-packages (2.21.0)\n",
            "Requirement already satisfied: chardet<3.1.0,>=3.0.2 in /usr/local/lib/python3.6/dist-packages (from requests) (3.0.4)\n",
            "Requirement already satisfied: idna<2.9,>=2.5 in /usr/local/lib/python3.6/dist-packages (from requests) (2.8)\n",
            "Requirement already satisfied: certifi>=2017.4.17 in /usr/local/lib/python3.6/dist-packages (from requests) (2019.9.11)\n",
            "Requirement already satisfied: urllib3<1.25,>=1.21.1 in /usr/local/lib/python3.6/dist-packages (from requests) (1.24.3)\n",
            "Requirement already satisfied: tabulate in /usr/local/lib/python3.6/dist-packages (0.8.5)\n",
            "Collecting colorama>=0.3.8\n",
            "  Downloading https://files.pythonhosted.org/packages/4f/a6/728666f39bfff1719fc94c481890b2106837da9318031f71a8424b662e12/colorama-0.4.1-py2.py3-none-any.whl\n",
            "Installing collected packages: colorama\n",
            "Successfully installed colorama-0.4.1\n",
            "Requirement already satisfied: future in /usr/local/lib/python3.6/dist-packages (0.16.0)\n"
          ],
          "name": "stdout"
        }
      ]
    },
    {
      "cell_type": "code",
      "metadata": {
        "id": "ghULpZ-wjUiZ",
        "colab_type": "code",
        "colab": {
          "base_uri": "https://localhost:8080/",
          "height": 377
        },
        "outputId": "e3f76d5d-1624-4008-e196-fedf92c65d02"
      },
      "source": [
        "!pip install -f http://h2o-release.s3.amazonaws.com/h2o/latest_stable_Py.html h2o"
      ],
      "execution_count": 2,
      "outputs": [
        {
          "output_type": "stream",
          "text": [
            "Looking in links: http://h2o-release.s3.amazonaws.com/h2o/latest_stable_Py.html\n",
            "Collecting h2o\n",
            "\u001b[33m  WARNING: The repository located at h2o-release.s3.amazonaws.com is not a trusted or secure host and is being ignored. If this repository is available via HTTPS we recommend you use HTTPS instead, otherwise you may silence this warning and allow it anyway with '--trusted-host h2o-release.s3.amazonaws.com'.\u001b[0m\n",
            "\u001b[?25l  Downloading https://files.pythonhosted.org/packages/ff/24/c20dc233e0d85b36a66544377c01c2740219a74f78f82872f2f503a39774/h2o-3.26.0.6.tar.gz (123.6MB)\n",
            "\u001b[K     |████████████████████████████████| 123.6MB 294kB/s \n",
            "\u001b[?25hRequirement already satisfied: requests in /usr/local/lib/python3.6/dist-packages (from h2o) (2.21.0)\n",
            "Requirement already satisfied: tabulate in /usr/local/lib/python3.6/dist-packages (from h2o) (0.8.5)\n",
            "Requirement already satisfied: future in /usr/local/lib/python3.6/dist-packages (from h2o) (0.16.0)\n",
            "Requirement already satisfied: colorama>=0.3.8 in /usr/local/lib/python3.6/dist-packages (from h2o) (0.4.1)\n",
            "Requirement already satisfied: certifi>=2017.4.17 in /usr/local/lib/python3.6/dist-packages (from requests->h2o) (2019.9.11)\n",
            "Requirement already satisfied: chardet<3.1.0,>=3.0.2 in /usr/local/lib/python3.6/dist-packages (from requests->h2o) (3.0.4)\n",
            "Requirement already satisfied: idna<2.9,>=2.5 in /usr/local/lib/python3.6/dist-packages (from requests->h2o) (2.8)\n",
            "Requirement already satisfied: urllib3<1.25,>=1.21.1 in /usr/local/lib/python3.6/dist-packages (from requests->h2o) (1.24.3)\n",
            "Building wheels for collected packages: h2o\n",
            "  Building wheel for h2o (setup.py) ... \u001b[?25l\u001b[?25hdone\n",
            "  Created wheel for h2o: filename=h2o-3.26.0.6-py2.py3-none-any.whl size=123690782 sha256=9f988e2cbbf85dec4236474b858adee9dcd06d763cfba91dc7058344cd9cb95a\n",
            "  Stored in directory: /root/.cache/pip/wheels/eb/1a/72/252857fc093eaad70a7f91ddbcabf1dafd38fb5e6c02bcf9b3\n",
            "Successfully built h2o\n",
            "Installing collected packages: h2o\n",
            "Successfully installed h2o-3.26.0.6\n"
          ],
          "name": "stdout"
        }
      ]
    },
    {
      "cell_type": "code",
      "metadata": {
        "id": "UNE2Ryd_jXQc",
        "colab_type": "code",
        "colab": {
          "base_uri": "https://localhost:8080/",
          "height": 1000
        },
        "outputId": "73e8a653-90b3-47a8-a522-e1f0f8478776"
      },
      "source": [
        "import h2o\n",
        "h2o.init()"
      ],
      "execution_count": 5,
      "outputs": [
        {
          "output_type": "stream",
          "text": [
            "Checking whether there is an H2O instance running at http://localhost:54321 ..... not found.\n",
            "Attempting to start a local H2O server...\n",
            "  Java Version: openjdk version \"11.0.4\" 2019-07-16; OpenJDK Runtime Environment (build 11.0.4+11-post-Ubuntu-1ubuntu218.04.3); OpenJDK 64-Bit Server VM (build 11.0.4+11-post-Ubuntu-1ubuntu218.04.3, mixed mode, sharing)\n",
            "  Starting server from /usr/local/lib/python3.6/dist-packages/h2o/backend/bin/h2o.jar\n",
            "  Ice root: /tmp/tmpg7d8ma26\n",
            "  JVM stdout: /tmp/tmpg7d8ma26/h2o_unknownUser_started_from_python.out\n",
            "  JVM stderr: /tmp/tmpg7d8ma26/h2o_unknownUser_started_from_python.err\n",
            "  Server is running at http://127.0.0.1:54321\n",
            "Connecting to H2O server at http://127.0.0.1:54321 ... successful.\n"
          ],
          "name": "stdout"
        },
        {
          "output_type": "display_data",
          "data": {
            "text/html": [
              "<div style=\"overflow:auto\"><table style=\"width:50%\"><tr><td>H2O cluster uptime:</td>\n",
              "<td>02 secs</td></tr>\n",
              "<tr><td>H2O cluster timezone:</td>\n",
              "<td>Etc/UTC</td></tr>\n",
              "<tr><td>H2O data parsing timezone:</td>\n",
              "<td>UTC</td></tr>\n",
              "<tr><td>H2O cluster version:</td>\n",
              "<td>3.26.0.6</td></tr>\n",
              "<tr><td>H2O cluster version age:</td>\n",
              "<td>9 days </td></tr>\n",
              "<tr><td>H2O cluster name:</td>\n",
              "<td>H2O_from_python_unknownUser_8sxy7r</td></tr>\n",
              "<tr><td>H2O cluster total nodes:</td>\n",
              "<td>1</td></tr>\n",
              "<tr><td>H2O cluster free memory:</td>\n",
              "<td>2.938 Gb</td></tr>\n",
              "<tr><td>H2O cluster total cores:</td>\n",
              "<td>2</td></tr>\n",
              "<tr><td>H2O cluster allowed cores:</td>\n",
              "<td>2</td></tr>\n",
              "<tr><td>H2O cluster status:</td>\n",
              "<td>accepting new members, healthy</td></tr>\n",
              "<tr><td>H2O connection url:</td>\n",
              "<td>http://127.0.0.1:54321</td></tr>\n",
              "<tr><td>H2O connection proxy:</td>\n",
              "<td>None</td></tr>\n",
              "<tr><td>H2O internal security:</td>\n",
              "<td>False</td></tr>\n",
              "<tr><td>H2O API Extensions:</td>\n",
              "<td>Amazon S3, XGBoost, Algos, AutoML, Core V3, TargetEncoder, Core V4</td></tr>\n",
              "<tr><td>Python version:</td>\n",
              "<td>3.6.8 final</td></tr></table></div>"
            ],
            "text/plain": [
              "--------------------------  ------------------------------------------------------------------\n",
              "H2O cluster uptime:         02 secs\n",
              "H2O cluster timezone:       Etc/UTC\n",
              "H2O data parsing timezone:  UTC\n",
              "H2O cluster version:        3.26.0.6\n",
              "H2O cluster version age:    9 days\n",
              "H2O cluster name:           H2O_from_python_unknownUser_8sxy7r\n",
              "H2O cluster total nodes:    1\n",
              "H2O cluster free memory:    2.938 Gb\n",
              "H2O cluster total cores:    2\n",
              "H2O cluster allowed cores:  2\n",
              "H2O cluster status:         accepting new members, healthy\n",
              "H2O connection url:         http://127.0.0.1:54321\n",
              "H2O connection proxy:\n",
              "H2O internal security:      False\n",
              "H2O API Extensions:         Amazon S3, XGBoost, Algos, AutoML, Core V3, TargetEncoder, Core V4\n",
              "Python version:             3.6.8 final\n",
              "--------------------------  ------------------------------------------------------------------"
            ]
          },
          "metadata": {
            "tags": []
          }
        }
      ]
    },
    {
      "cell_type": "code",
      "metadata": {
        "id": "pkrKFvzrnolP",
        "colab_type": "code",
        "colab": {
          "base_uri": "https://localhost:8080/",
          "height": 224
        },
        "outputId": "e99ba3ab-8710-48e1-c6bf-c1ab1886709e"
      },
      "source": [
        "!wget https://archive.ics.uci.edu/ml/machine-learning-databases/00419/Autism-Screening-Child-Data%20Plus%20Description.zip"
      ],
      "execution_count": 3,
      "outputs": [
        {
          "output_type": "stream",
          "text": [
            "--2019-10-11 02:21:22--  https://archive.ics.uci.edu/ml/machine-learning-databases/00419/Autism-Screening-Child-Data%20Plus%20Description.zip\n",
            "Resolving archive.ics.uci.edu (archive.ics.uci.edu)... 128.195.10.252\n",
            "Connecting to archive.ics.uci.edu (archive.ics.uci.edu)|128.195.10.252|:443... connected.\n",
            "HTTP request sent, awaiting response... 200 OK\n",
            "Length: 40081 (39K) [application/x-httpd-php]\n",
            "Saving to: ‘Autism-Screening-Child-Data Plus Description.zip’\n",
            "\n",
            "Autism-Screening-Ch 100%[===================>]  39.14K  --.-KB/s    in 0.1s    \n",
            "\n",
            "2019-10-11 02:21:23 (281 KB/s) - ‘Autism-Screening-Child-Data Plus Description.zip’ saved [40081/40081]\n",
            "\n"
          ],
          "name": "stdout"
        }
      ]
    },
    {
      "cell_type": "code",
      "metadata": {
        "id": "GFsfExUBnzfn",
        "colab_type": "code",
        "colab": {
          "base_uri": "https://localhost:8080/",
          "height": 68
        },
        "outputId": "4f14b072-e172-4706-f99d-b7e7ca6251fd"
      },
      "source": [
        "!unzip 'Autism-Screening-Child-Data Plus Description.zip'"
      ],
      "execution_count": 7,
      "outputs": [
        {
          "output_type": "stream",
          "text": [
            "Archive:  Autism-Screening-Child-Data Plus Description.zip\n",
            "  inflating: Autism-Child-Data.arff  \n",
            "  inflating: Autism-Screening-Child-Data Description.docx  \n"
          ],
          "name": "stdout"
        }
      ]
    },
    {
      "cell_type": "code",
      "metadata": {
        "id": "gROm7gaWnvVO",
        "colab_type": "code",
        "colab": {
          "base_uri": "https://localhost:8080/",
          "height": 85
        },
        "outputId": "ba383e5f-76e4-4036-99d5-6f6524853374"
      },
      "source": [
        "!ls"
      ],
      "execution_count": 8,
      "outputs": [
        {
          "output_type": "stream",
          "text": [
            " Autism-Child-Data.arff\n",
            "'Autism-Screening-Child-Data Description.docx'\n",
            "'Autism-Screening-Child-Data Plus Description.zip'\n",
            " sample_data\n"
          ],
          "name": "stdout"
        }
      ]
    },
    {
      "cell_type": "code",
      "metadata": {
        "id": "ZYVZelDUn3Ns",
        "colab_type": "code",
        "colab": {
          "base_uri": "https://localhost:8080/",
          "height": 457
        },
        "outputId": "d10d3bd7-cb80-40ac-8f55-53fc490e1ec5"
      },
      "source": [
        "df = h2o.import_file('Autism-Child-Data.arff')\n",
        "df.head()"
      ],
      "execution_count": 10,
      "outputs": [
        {
          "output_type": "stream",
          "text": [
            "Parse progress: |█████████████████████████████████████████████████████████| 100%\n"
          ],
          "name": "stdout"
        },
        {
          "output_type": "display_data",
          "data": {
            "text/html": [
              "<table>\n",
              "<thead>\n",
              "<tr><th style=\"text-align: right;\">  A1_Score</th><th style=\"text-align: right;\">  A2_Score</th><th style=\"text-align: right;\">  A3_Score</th><th style=\"text-align: right;\">  A4_Score</th><th style=\"text-align: right;\">  A5_Score</th><th style=\"text-align: right;\">  A6_Score</th><th style=\"text-align: right;\">  A7_Score</th><th style=\"text-align: right;\">  A8_Score</th><th style=\"text-align: right;\">  A9_Score</th><th style=\"text-align: right;\">  A10_Score</th><th style=\"text-align: right;\">  age</th><th>gender  </th><th>ethnicity        </th><th>jundice  </th><th>austim  </th><th>contry_of_res   </th><th>used_app_before  </th><th style=\"text-align: right;\">  result</th><th>age_desc    </th><th>relation  </th><th>Class/ASD  </th></tr>\n",
              "</thead>\n",
              "<tbody>\n",
              "<tr><td style=\"text-align: right;\">         1</td><td style=\"text-align: right;\">         1</td><td style=\"text-align: right;\">         0</td><td style=\"text-align: right;\">         0</td><td style=\"text-align: right;\">         1</td><td style=\"text-align: right;\">         1</td><td style=\"text-align: right;\">         0</td><td style=\"text-align: right;\">         1</td><td style=\"text-align: right;\">         0</td><td style=\"text-align: right;\">          0</td><td style=\"text-align: right;\">    6</td><td>m       </td><td>Others           </td><td>no       </td><td>no      </td><td>Jordan          </td><td>no               </td><td style=\"text-align: right;\">       5</td><td>'4-11 years'</td><td>Parent    </td><td>NO         </td></tr>\n",
              "<tr><td style=\"text-align: right;\">         1</td><td style=\"text-align: right;\">         1</td><td style=\"text-align: right;\">         0</td><td style=\"text-align: right;\">         0</td><td style=\"text-align: right;\">         1</td><td style=\"text-align: right;\">         1</td><td style=\"text-align: right;\">         0</td><td style=\"text-align: right;\">         1</td><td style=\"text-align: right;\">         0</td><td style=\"text-align: right;\">          0</td><td style=\"text-align: right;\">    6</td><td>m       </td><td>'Middle Eastern '</td><td>no       </td><td>no      </td><td>Jordan          </td><td>no               </td><td style=\"text-align: right;\">       5</td><td>'4-11 years'</td><td>Parent    </td><td>NO         </td></tr>\n",
              "<tr><td style=\"text-align: right;\">         1</td><td style=\"text-align: right;\">         1</td><td style=\"text-align: right;\">         0</td><td style=\"text-align: right;\">         0</td><td style=\"text-align: right;\">         0</td><td style=\"text-align: right;\">         1</td><td style=\"text-align: right;\">         1</td><td style=\"text-align: right;\">         1</td><td style=\"text-align: right;\">         0</td><td style=\"text-align: right;\">          0</td><td style=\"text-align: right;\">    6</td><td>m       </td><td>                 </td><td>no       </td><td>no      </td><td>Jordan          </td><td>yes              </td><td style=\"text-align: right;\">       5</td><td>'4-11 years'</td><td>          </td><td>NO         </td></tr>\n",
              "<tr><td style=\"text-align: right;\">         0</td><td style=\"text-align: right;\">         1</td><td style=\"text-align: right;\">         0</td><td style=\"text-align: right;\">         0</td><td style=\"text-align: right;\">         1</td><td style=\"text-align: right;\">         1</td><td style=\"text-align: right;\">         0</td><td style=\"text-align: right;\">         0</td><td style=\"text-align: right;\">         0</td><td style=\"text-align: right;\">          1</td><td style=\"text-align: right;\">    5</td><td>f       </td><td>                 </td><td>yes      </td><td>no      </td><td>Jordan          </td><td>no               </td><td style=\"text-align: right;\">       4</td><td>'4-11 years'</td><td>          </td><td>NO         </td></tr>\n",
              "<tr><td style=\"text-align: right;\">         1</td><td style=\"text-align: right;\">         1</td><td style=\"text-align: right;\">         1</td><td style=\"text-align: right;\">         1</td><td style=\"text-align: right;\">         1</td><td style=\"text-align: right;\">         1</td><td style=\"text-align: right;\">         1</td><td style=\"text-align: right;\">         1</td><td style=\"text-align: right;\">         1</td><td style=\"text-align: right;\">          1</td><td style=\"text-align: right;\">    5</td><td>m       </td><td>Others           </td><td>yes      </td><td>no      </td><td>'United States' </td><td>no               </td><td style=\"text-align: right;\">      10</td><td>'4-11 years'</td><td>Parent    </td><td>YES        </td></tr>\n",
              "<tr><td style=\"text-align: right;\">         0</td><td style=\"text-align: right;\">         0</td><td style=\"text-align: right;\">         1</td><td style=\"text-align: right;\">         0</td><td style=\"text-align: right;\">         1</td><td style=\"text-align: right;\">         1</td><td style=\"text-align: right;\">         0</td><td style=\"text-align: right;\">         1</td><td style=\"text-align: right;\">         0</td><td style=\"text-align: right;\">          1</td><td style=\"text-align: right;\">    4</td><td>m       </td><td>                 </td><td>no       </td><td>yes     </td><td>Egypt           </td><td>no               </td><td style=\"text-align: right;\">       5</td><td>'4-11 years'</td><td>          </td><td>NO         </td></tr>\n",
              "<tr><td style=\"text-align: right;\">         1</td><td style=\"text-align: right;\">         0</td><td style=\"text-align: right;\">         1</td><td style=\"text-align: right;\">         1</td><td style=\"text-align: right;\">         1</td><td style=\"text-align: right;\">         1</td><td style=\"text-align: right;\">         0</td><td style=\"text-align: right;\">         1</td><td style=\"text-align: right;\">         0</td><td style=\"text-align: right;\">          1</td><td style=\"text-align: right;\">    5</td><td>m       </td><td>White-European   </td><td>no       </td><td>no      </td><td>'United Kingdom'</td><td>no               </td><td style=\"text-align: right;\">       7</td><td>'4-11 years'</td><td>Parent    </td><td>YES        </td></tr>\n",
              "<tr><td style=\"text-align: right;\">         1</td><td style=\"text-align: right;\">         1</td><td style=\"text-align: right;\">         1</td><td style=\"text-align: right;\">         1</td><td style=\"text-align: right;\">         1</td><td style=\"text-align: right;\">         1</td><td style=\"text-align: right;\">         1</td><td style=\"text-align: right;\">         1</td><td style=\"text-align: right;\">         0</td><td style=\"text-align: right;\">          0</td><td style=\"text-align: right;\">    5</td><td>f       </td><td>'Middle Eastern '</td><td>no       </td><td>no      </td><td>Bahrain         </td><td>no               </td><td style=\"text-align: right;\">       8</td><td>'4-11 years'</td><td>Parent    </td><td>YES        </td></tr>\n",
              "<tr><td style=\"text-align: right;\">         1</td><td style=\"text-align: right;\">         1</td><td style=\"text-align: right;\">         1</td><td style=\"text-align: right;\">         1</td><td style=\"text-align: right;\">         1</td><td style=\"text-align: right;\">         1</td><td style=\"text-align: right;\">         1</td><td style=\"text-align: right;\">         0</td><td style=\"text-align: right;\">         0</td><td style=\"text-align: right;\">          0</td><td style=\"text-align: right;\">   11</td><td>f       </td><td>'Middle Eastern '</td><td>no       </td><td>no      </td><td>Bahrain         </td><td>no               </td><td style=\"text-align: right;\">       7</td><td>'4-11 years'</td><td>Parent    </td><td>YES        </td></tr>\n",
              "<tr><td style=\"text-align: right;\">         0</td><td style=\"text-align: right;\">         0</td><td style=\"text-align: right;\">         1</td><td style=\"text-align: right;\">         1</td><td style=\"text-align: right;\">         1</td><td style=\"text-align: right;\">         0</td><td style=\"text-align: right;\">         1</td><td style=\"text-align: right;\">         1</td><td style=\"text-align: right;\">         0</td><td style=\"text-align: right;\">          0</td><td style=\"text-align: right;\">   11</td><td>f       </td><td>                 </td><td>no       </td><td>yes     </td><td>Austria         </td><td>no               </td><td style=\"text-align: right;\">       5</td><td>'4-11 years'</td><td>          </td><td>NO         </td></tr>\n",
              "</tbody>\n",
              "</table>"
            ]
          },
          "metadata": {
            "tags": []
          }
        },
        {
          "output_type": "execute_result",
          "data": {
            "text/plain": [
              ""
            ]
          },
          "metadata": {
            "tags": []
          },
          "execution_count": 10
        }
      ]
    },
    {
      "cell_type": "code",
      "metadata": {
        "id": "n_vFce5ToiD3",
        "colab_type": "code",
        "colab": {
          "base_uri": "https://localhost:8080/",
          "height": 655
        },
        "outputId": "8b1bb595-f36c-4c6e-9a74-af137a64e7d0"
      },
      "source": [
        "df.describe()"
      ],
      "execution_count": 11,
      "outputs": [
        {
          "output_type": "stream",
          "text": [
            "Rows:292\n",
            "Cols:21\n",
            "\n",
            "\n"
          ],
          "name": "stdout"
        },
        {
          "output_type": "display_data",
          "data": {
            "text/html": [
              "<table>\n",
              "<thead>\n",
              "<tr><th>       </th><th>A1_Score  </th><th>A2_Score  </th><th>A3_Score  </th><th>A4_Score  </th><th>A5_Score  </th><th>A6_Score  </th><th>A7_Score  </th><th>A8_Score  </th><th>A9_Score  </th><th>A10_Score  </th><th>age               </th><th>gender  </th><th>ethnicity        </th><th>jundice  </th><th>austim  </th><th>contry_of_res   </th><th>used_app_before  </th><th>result            </th><th>age_desc    </th><th>relation  </th><th>Class/ASD  </th></tr>\n",
              "</thead>\n",
              "<tbody>\n",
              "<tr><td>type   </td><td>enum      </td><td>enum      </td><td>enum      </td><td>enum      </td><td>enum      </td><td>enum      </td><td>enum      </td><td>enum      </td><td>enum      </td><td>enum       </td><td>int               </td><td>enum    </td><td>enum             </td><td>enum     </td><td>enum    </td><td>enum            </td><td>enum             </td><td>int               </td><td>enum        </td><td>enum      </td><td>enum       </td></tr>\n",
              "<tr><td>mins   </td><td>          </td><td>          </td><td>          </td><td>          </td><td>          </td><td>          </td><td>          </td><td>          </td><td>          </td><td>           </td><td>4.0               </td><td>        </td><td>                 </td><td>         </td><td>        </td><td>                </td><td>                 </td><td>0.0               </td><td>            </td><td>          </td><td>           </td></tr>\n",
              "<tr><td>mean   </td><td>          </td><td>          </td><td>          </td><td>          </td><td>          </td><td>          </td><td>          </td><td>          </td><td>          </td><td>           </td><td>6.354166666666665 </td><td>        </td><td>                 </td><td>         </td><td>        </td><td>                </td><td>                 </td><td>6.2397260273972615</td><td>            </td><td>          </td><td>           </td></tr>\n",
              "<tr><td>maxs   </td><td>          </td><td>          </td><td>          </td><td>          </td><td>          </td><td>          </td><td>          </td><td>          </td><td>          </td><td>           </td><td>11.0              </td><td>        </td><td>                 </td><td>         </td><td>        </td><td>                </td><td>                 </td><td>10.0              </td><td>            </td><td>          </td><td>           </td></tr>\n",
              "<tr><td>sigma  </td><td>          </td><td>          </td><td>          </td><td>          </td><td>          </td><td>          </td><td>          </td><td>          </td><td>          </td><td>           </td><td>2.3654562509717483</td><td>        </td><td>                 </td><td>         </td><td>        </td><td>                </td><td>                 </td><td>2.2848817170180924</td><td>            </td><td>          </td><td>           </td></tr>\n",
              "<tr><td>zeros  </td><td>          </td><td>          </td><td>          </td><td>          </td><td>          </td><td>          </td><td>          </td><td>          </td><td>          </td><td>           </td><td>0                 </td><td>        </td><td>                 </td><td>         </td><td>        </td><td>                </td><td>                 </td><td>1                 </td><td>            </td><td>          </td><td>           </td></tr>\n",
              "<tr><td>missing</td><td>0         </td><td>0         </td><td>0         </td><td>0         </td><td>0         </td><td>0         </td><td>0         </td><td>0         </td><td>0         </td><td>0          </td><td>4                 </td><td>0       </td><td>43               </td><td>0        </td><td>0       </td><td>0               </td><td>0                </td><td>0                 </td><td>0           </td><td>43        </td><td>0          </td></tr>\n",
              "<tr><td>0      </td><td>1         </td><td>1         </td><td>0         </td><td>0         </td><td>1         </td><td>1         </td><td>0         </td><td>1         </td><td>0         </td><td>0          </td><td>6.0               </td><td>m       </td><td>Others           </td><td>no       </td><td>no      </td><td>Jordan          </td><td>no               </td><td>5.0               </td><td>'4-11 years'</td><td>Parent    </td><td>NO         </td></tr>\n",
              "<tr><td>1      </td><td>1         </td><td>1         </td><td>0         </td><td>0         </td><td>1         </td><td>1         </td><td>0         </td><td>1         </td><td>0         </td><td>0          </td><td>6.0               </td><td>m       </td><td>'Middle Eastern '</td><td>no       </td><td>no      </td><td>Jordan          </td><td>no               </td><td>5.0               </td><td>'4-11 years'</td><td>Parent    </td><td>NO         </td></tr>\n",
              "<tr><td>2      </td><td>1         </td><td>1         </td><td>0         </td><td>0         </td><td>0         </td><td>1         </td><td>1         </td><td>1         </td><td>0         </td><td>0          </td><td>6.0               </td><td>m       </td><td>                 </td><td>no       </td><td>no      </td><td>Jordan          </td><td>yes              </td><td>5.0               </td><td>'4-11 years'</td><td>          </td><td>NO         </td></tr>\n",
              "<tr><td>3      </td><td>0         </td><td>1         </td><td>0         </td><td>0         </td><td>1         </td><td>1         </td><td>0         </td><td>0         </td><td>0         </td><td>1          </td><td>5.0               </td><td>f       </td><td>                 </td><td>yes      </td><td>no      </td><td>Jordan          </td><td>no               </td><td>4.0               </td><td>'4-11 years'</td><td>          </td><td>NO         </td></tr>\n",
              "<tr><td>4      </td><td>1         </td><td>1         </td><td>1         </td><td>1         </td><td>1         </td><td>1         </td><td>1         </td><td>1         </td><td>1         </td><td>1          </td><td>5.0               </td><td>m       </td><td>Others           </td><td>yes      </td><td>no      </td><td>'United States' </td><td>no               </td><td>10.0              </td><td>'4-11 years'</td><td>Parent    </td><td>YES        </td></tr>\n",
              "<tr><td>5      </td><td>0         </td><td>0         </td><td>1         </td><td>0         </td><td>1         </td><td>1         </td><td>0         </td><td>1         </td><td>0         </td><td>1          </td><td>4.0               </td><td>m       </td><td>                 </td><td>no       </td><td>yes     </td><td>Egypt           </td><td>no               </td><td>5.0               </td><td>'4-11 years'</td><td>          </td><td>NO         </td></tr>\n",
              "<tr><td>6      </td><td>1         </td><td>0         </td><td>1         </td><td>1         </td><td>1         </td><td>1         </td><td>0         </td><td>1         </td><td>0         </td><td>1          </td><td>5.0               </td><td>m       </td><td>White-European   </td><td>no       </td><td>no      </td><td>'United Kingdom'</td><td>no               </td><td>7.0               </td><td>'4-11 years'</td><td>Parent    </td><td>YES        </td></tr>\n",
              "<tr><td>7      </td><td>1         </td><td>1         </td><td>1         </td><td>1         </td><td>1         </td><td>1         </td><td>1         </td><td>1         </td><td>0         </td><td>0          </td><td>5.0               </td><td>f       </td><td>'Middle Eastern '</td><td>no       </td><td>no      </td><td>Bahrain         </td><td>no               </td><td>8.0               </td><td>'4-11 years'</td><td>Parent    </td><td>YES        </td></tr>\n",
              "<tr><td>8      </td><td>1         </td><td>1         </td><td>1         </td><td>1         </td><td>1         </td><td>1         </td><td>1         </td><td>0         </td><td>0         </td><td>0          </td><td>11.0              </td><td>f       </td><td>'Middle Eastern '</td><td>no       </td><td>no      </td><td>Bahrain         </td><td>no               </td><td>7.0               </td><td>'4-11 years'</td><td>Parent    </td><td>YES        </td></tr>\n",
              "<tr><td>9      </td><td>0         </td><td>0         </td><td>1         </td><td>1         </td><td>1         </td><td>0         </td><td>1         </td><td>1         </td><td>0         </td><td>0          </td><td>11.0              </td><td>f       </td><td>                 </td><td>no       </td><td>yes     </td><td>Austria         </td><td>no               </td><td>5.0               </td><td>'4-11 years'</td><td>          </td><td>NO         </td></tr>\n",
              "</tbody>\n",
              "</table>"
            ]
          },
          "metadata": {
            "tags": []
          }
        }
      ]
    },
    {
      "cell_type": "code",
      "metadata": {
        "id": "KOIzo2MBpfQt",
        "colab_type": "code",
        "colab": {}
      },
      "source": [
        "df['Class/ASD'] = df['Class/ASD'].asfactor()\n"
      ],
      "execution_count": 0,
      "outputs": []
    },
    {
      "cell_type": "code",
      "metadata": {
        "id": "X4STGkvjry8W",
        "colab_type": "code",
        "colab": {}
      },
      "source": [
        "df_split = df.split_frame(ratios = [0.7])\n",
        "df_train = df_split[0]\n",
        "df_test = df_split[1]"
      ],
      "execution_count": 0,
      "outputs": []
    },
    {
      "cell_type": "code",
      "metadata": {
        "id": "ah96Ntogsium",
        "colab_type": "code",
        "colab": {}
      },
      "source": [
        "feature_columns = df.columns\n",
        "feature_columns.remove('Class/ASD')\n",
        "y_column = 'Class/ASD'"
      ],
      "execution_count": 0,
      "outputs": []
    },
    {
      "cell_type": "code",
      "metadata": {
        "id": "raqChGKcsqTt",
        "colab_type": "code",
        "colab": {
          "base_uri": "https://localhost:8080/",
          "height": 54
        },
        "outputId": "51b09cfb-4f06-4c36-ed4b-94de2030a428"
      },
      "source": [
        "print(feature_columns)"
      ],
      "execution_count": 32,
      "outputs": [
        {
          "output_type": "stream",
          "text": [
            "['A1_Score', 'A2_Score', 'A3_Score', 'A4_Score', 'A5_Score', 'A6_Score', 'A7_Score', 'A8_Score', 'A9_Score', 'A10_Score', 'age', 'gender', 'ethnicity', 'jundice', 'austim', 'contry_of_res', 'used_app_before', 'result', 'age_desc', 'relation']\n"
          ],
          "name": "stdout"
        }
      ]
    },
    {
      "cell_type": "code",
      "metadata": {
        "id": "jU3eLx4ippH8",
        "colab_type": "code",
        "colab": {
          "base_uri": "https://localhost:8080/",
          "height": 54
        },
        "outputId": "e1301c86-d5eb-48c9-a224-04f2f27c1fa5"
      },
      "source": [
        "from h2o.automl import H2OAutoML\n",
        "model1 = H2OAutoML(max_models = 10, max_runtime_secs = 60)\n",
        "model1.train(x = feature_columns, y = y_column, training_frame = df_train)"
      ],
      "execution_count": 35,
      "outputs": [
        {
          "output_type": "stream",
          "text": [
            "AutoML progress: |████████████████████████████████████████████████████████| 100%\n"
          ],
          "name": "stdout"
        }
      ]
    },
    {
      "cell_type": "code",
      "metadata": {
        "id": "hZCjeGBNrKzz",
        "colab_type": "code",
        "colab": {
          "base_uri": "https://localhost:8080/",
          "height": 372
        },
        "outputId": "31f1b8d6-2787-4587-df00-a6784cd7f293"
      },
      "source": [
        "model1.leaderboard"
      ],
      "execution_count": 21,
      "outputs": [
        {
          "output_type": "display_data",
          "data": {
            "text/html": [
              "<table>\n",
              "<thead>\n",
              "<tr><th>model_id                                           </th><th style=\"text-align: right;\">  auc</th><th style=\"text-align: right;\">    logloss</th><th style=\"text-align: right;\">  mean_per_class_error</th><th style=\"text-align: right;\">       rmse</th><th style=\"text-align: right;\">        mse</th></tr>\n",
              "</thead>\n",
              "<tbody>\n",
              "<tr><td>DRF_1_AutoML_20191011_023442                       </td><td style=\"text-align: right;\">    1</td><td style=\"text-align: right;\">0.065743   </td><td style=\"text-align: right;\">                     0</td><td style=\"text-align: right;\">0.0910089  </td><td style=\"text-align: right;\">0.00828262 </td></tr>\n",
              "<tr><td>XGBoost_3_AutoML_20191011_023442                   </td><td style=\"text-align: right;\">    1</td><td style=\"text-align: right;\">0.0338164  </td><td style=\"text-align: right;\">                     0</td><td style=\"text-align: right;\">0.0367975  </td><td style=\"text-align: right;\">0.00135406 </td></tr>\n",
              "<tr><td>GBM_1_AutoML_20191011_023442                       </td><td style=\"text-align: right;\">    1</td><td style=\"text-align: right;\">1.69689e-14</td><td style=\"text-align: right;\">                     0</td><td style=\"text-align: right;\">1.23728e-13</td><td style=\"text-align: right;\">1.53085e-26</td></tr>\n",
              "<tr><td>StackedEnsemble_AllModels_AutoML_20191011_023442   </td><td style=\"text-align: right;\">    1</td><td style=\"text-align: right;\">0.0011624  </td><td style=\"text-align: right;\">                     0</td><td style=\"text-align: right;\">0.00127185 </td><td style=\"text-align: right;\">1.61759e-06</td></tr>\n",
              "<tr><td>GBM_2_AutoML_20191011_023442                       </td><td style=\"text-align: right;\">    1</td><td style=\"text-align: right;\">1.41439e-15</td><td style=\"text-align: right;\">                     0</td><td style=\"text-align: right;\">7.59765e-15</td><td style=\"text-align: right;\">5.77243e-29</td></tr>\n",
              "<tr><td>GBM_4_AutoML_20191011_023442                       </td><td style=\"text-align: right;\">    1</td><td style=\"text-align: right;\">1.22183e-08</td><td style=\"text-align: right;\">                     0</td><td style=\"text-align: right;\">4.11636e-08</td><td style=\"text-align: right;\">1.69444e-15</td></tr>\n",
              "<tr><td>GBM_3_AutoML_20191011_023442                       </td><td style=\"text-align: right;\">    1</td><td style=\"text-align: right;\">8.10235e-16</td><td style=\"text-align: right;\">                     0</td><td style=\"text-align: right;\">4.34927e-15</td><td style=\"text-align: right;\">1.89162e-29</td></tr>\n",
              "<tr><td>XGBoost_1_AutoML_20191011_023442                   </td><td style=\"text-align: right;\">    1</td><td style=\"text-align: right;\">0.0761198  </td><td style=\"text-align: right;\">                     0</td><td style=\"text-align: right;\">0.0778214  </td><td style=\"text-align: right;\">0.00605618 </td></tr>\n",
              "<tr><td>XGBoost_2_AutoML_20191011_023442                   </td><td style=\"text-align: right;\">    1</td><td style=\"text-align: right;\">0.171277   </td><td style=\"text-align: right;\">                     0</td><td style=\"text-align: right;\">0.1606     </td><td style=\"text-align: right;\">0.0257922  </td></tr>\n",
              "<tr><td>StackedEnsemble_BestOfFamily_AutoML_20191011_023442</td><td style=\"text-align: right;\">    1</td><td style=\"text-align: right;\">0.00185357 </td><td style=\"text-align: right;\">                     0</td><td style=\"text-align: right;\">0.00235332 </td><td style=\"text-align: right;\">5.53811e-06</td></tr>\n",
              "</tbody>\n",
              "</table>"
            ]
          },
          "metadata": {
            "tags": []
          }
        },
        {
          "output_type": "execute_result",
          "data": {
            "text/plain": [
              ""
            ]
          },
          "metadata": {
            "tags": []
          },
          "execution_count": 21
        }
      ]
    },
    {
      "cell_type": "markdown",
      "metadata": {
        "id": "iKDVPT0CtPEJ",
        "colab_type": "text"
      },
      "source": [
        "All of the top models have AUC of 1. Could it be overfitting the train data?"
      ]
    },
    {
      "cell_type": "code",
      "metadata": {
        "id": "TH12pT-Yta48",
        "colab_type": "code",
        "colab": {
          "base_uri": "https://localhost:8080/",
          "height": 54
        },
        "outputId": "664e9d64-e5c8-4dd8-a78c-06eee7394ef0"
      },
      "source": [
        "y_pred = model1.predict(df_test)"
      ],
      "execution_count": 36,
      "outputs": [
        {
          "output_type": "stream",
          "text": [
            "xgboost prediction progress: |████████████████████████████████████████████| 100%\n"
          ],
          "name": "stdout"
        }
      ]
    },
    {
      "cell_type": "code",
      "metadata": {
        "id": "HyRW5gN4y6P3",
        "colab_type": "code",
        "colab": {
          "base_uri": "https://localhost:8080/",
          "height": 267
        },
        "outputId": "f2d39278-fb5b-4168-a8c2-f064df08e236"
      },
      "source": [
        "print(y_pred)"
      ],
      "execution_count": 51,
      "outputs": [
        {
          "output_type": "display_data",
          "data": {
            "text/html": [
              "<table>\n",
              "<thead>\n",
              "<tr><th>predict  </th><th style=\"text-align: right;\">       NO</th><th style=\"text-align: right;\">      YES</th></tr>\n",
              "</thead>\n",
              "<tbody>\n",
              "<tr><td>NO       </td><td style=\"text-align: right;\">0.929524 </td><td style=\"text-align: right;\">0.0704763</td></tr>\n",
              "<tr><td>NO       </td><td style=\"text-align: right;\">0.944038 </td><td style=\"text-align: right;\">0.0559619</td></tr>\n",
              "<tr><td>NO       </td><td style=\"text-align: right;\">0.943852 </td><td style=\"text-align: right;\">0.0561477</td></tr>\n",
              "<tr><td>YES      </td><td style=\"text-align: right;\">0.0541513</td><td style=\"text-align: right;\">0.945849 </td></tr>\n",
              "<tr><td>YES      </td><td style=\"text-align: right;\">0.0654969</td><td style=\"text-align: right;\">0.934503 </td></tr>\n",
              "<tr><td>NO       </td><td style=\"text-align: right;\">0.876408 </td><td style=\"text-align: right;\">0.123592 </td></tr>\n",
              "<tr><td>YES      </td><td style=\"text-align: right;\">0.0525338</td><td style=\"text-align: right;\">0.947466 </td></tr>\n",
              "<tr><td>YES      </td><td style=\"text-align: right;\">0.0541513</td><td style=\"text-align: right;\">0.945849 </td></tr>\n",
              "<tr><td>NO       </td><td style=\"text-align: right;\">0.923958 </td><td style=\"text-align: right;\">0.0760416</td></tr>\n",
              "<tr><td>YES      </td><td style=\"text-align: right;\">0.0576175</td><td style=\"text-align: right;\">0.942382 </td></tr>\n",
              "</tbody>\n",
              "</table>"
            ]
          },
          "metadata": {
            "tags": []
          }
        },
        {
          "output_type": "stream",
          "text": [
            "\n"
          ],
          "name": "stdout"
        }
      ]
    },
    {
      "cell_type": "code",
      "metadata": {
        "id": "Uh26_aJBzQ3V",
        "colab_type": "code",
        "colab": {
          "base_uri": "https://localhost:8080/",
          "height": 51
        },
        "outputId": "8793b840-aefa-41ea-d8bd-248add722760"
      },
      "source": [
        "test_feature = df_test['Class/ASD']\n",
        "pred_feature = y_pred['predict']\n",
        "print(test_feature.shape)\n",
        "print(pred_feature.shape)"
      ],
      "execution_count": 52,
      "outputs": [
        {
          "output_type": "stream",
          "text": [
            "(84, 1)\n",
            "(84, 1)\n"
          ],
          "name": "stdout"
        }
      ]
    },
    {
      "cell_type": "code",
      "metadata": {
        "id": "9LxRhqgNzizv",
        "colab_type": "code",
        "colab": {}
      },
      "source": [
        "accuracy = 100*test_feature[test_feature == pred_feature].shape[0]/test_feature.shape[0]"
      ],
      "execution_count": 0,
      "outputs": []
    },
    {
      "cell_type": "code",
      "metadata": {
        "id": "UMiBwYjf0Nr4",
        "colab_type": "code",
        "colab": {
          "base_uri": "https://localhost:8080/",
          "height": 34
        },
        "outputId": "8bf94f0c-ca00-417f-ee93-043db3603a28"
      },
      "source": [
        "print(accuracy)"
      ],
      "execution_count": 61,
      "outputs": [
        {
          "output_type": "stream",
          "text": [
            "100.0\n"
          ],
          "name": "stdout"
        }
      ]
    },
    {
      "cell_type": "markdown",
      "metadata": {
        "id": "1ZmT4x9T0QeT",
        "colab_type": "text"
      },
      "source": [
        "Ok. The test accuracy using the trained model also yielded 100% accuracy without much manipulation. That's creepy."
      ]
    }
  ]
}