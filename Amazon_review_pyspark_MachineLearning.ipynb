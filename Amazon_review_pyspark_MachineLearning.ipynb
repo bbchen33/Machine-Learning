{
  "nbformat": 4,
  "nbformat_minor": 0,
  "metadata": {
    "colab": {
      "name": "Untitled1.ipynb",
      "provenance": [],
      "include_colab_link": true
    },
    "kernelspec": {
      "name": "python3",
      "display_name": "Python 3"
    },
    "accelerator": "GPU"
  },
  "cells": [
    {
      "cell_type": "markdown",
      "metadata": {
        "id": "view-in-github",
        "colab_type": "text"
      },
      "source": [
        "<a href=\"https://colab.research.google.com/github/bbchen33/Machine-Learning/blob/master/Amazon_review_pyspark_MachineLearning.ipynb\" target=\"_parent\"><img src=\"https://colab.research.google.com/assets/colab-badge.svg\" alt=\"Open In Colab\"/></a>"
      ]
    },
    {
      "cell_type": "markdown",
      "metadata": {
        "id": "Hu9mwhtbd2Ix",
        "colab_type": "text"
      },
      "source": [
        "Amazon cellphone reviews data from https://www.kaggle.com/grikomsn/amazon-cell-phones-reviews\n",
        "\n",
        "My goal is to use PySpark and machine learning to determine if it's possible to predict the ratings based on review contents."
      ]
    },
    {
      "cell_type": "code",
      "metadata": {
        "id": "owC3Wp0W_oje",
        "colab_type": "code",
        "outputId": "ca00d7aa-fbc5-4a16-8770-ccceaeabf169",
        "colab": {
          "resources": {
            "http://localhost:8080/nbextensions/google.colab/files.js": {
              "data": "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",
              "ok": true,
              "headers": [
                [
                  "content-type",
                  "application/javascript"
                ]
              ],
              "status": 200,
              "status_text": ""
            }
          },
          "base_uri": "https://localhost:8080/",
          "height": 91
        }
      },
      "source": [
        "from google.colab import files\n",
        "upload_file = files.upload()"
      ],
      "execution_count": 1,
      "outputs": [
        {
          "output_type": "display_data",
          "data": {
            "text/html": [
              "\n",
              "     <input type=\"file\" id=\"files-d432c70b-d989-4ba5-aa59-4c40cb62190a\" name=\"files[]\" multiple disabled />\n",
              "     <output id=\"result-d432c70b-d989-4ba5-aa59-4c40cb62190a\">\n",
              "      Upload widget is only available when the cell has been executed in the\n",
              "      current browser session. Please rerun this cell to enable.\n",
              "      </output>\n",
              "      <script src=\"/nbextensions/google.colab/files.js\"></script> "
            ],
            "text/plain": [
              "<IPython.core.display.HTML object>"
            ]
          },
          "metadata": {
            "tags": []
          }
        },
        {
          "output_type": "stream",
          "text": [
            "Saving amazon-cell-phones-reviews.zip to amazon-cell-phones-reviews.zip\n"
          ],
          "name": "stdout"
        }
      ]
    },
    {
      "cell_type": "code",
      "metadata": {
        "id": "aFGk2LWbdXR4",
        "colab_type": "code",
        "outputId": "f44b4f1a-0451-40e0-fdeb-a77ceec8c335",
        "colab": {
          "base_uri": "https://localhost:8080/",
          "height": 68
        }
      },
      "source": [
        "!unzip amazon-cell-phones-reviews.zip"
      ],
      "execution_count": 2,
      "outputs": [
        {
          "output_type": "stream",
          "text": [
            "Archive:  amazon-cell-phones-reviews.zip\n",
            "  inflating: 20190928-items.csv      \n",
            "  inflating: 20190928-reviews.csv    \n"
          ],
          "name": "stdout"
        }
      ]
    },
    {
      "cell_type": "code",
      "metadata": {
        "id": "5lQ0hMksOVmM",
        "colab_type": "code",
        "outputId": "c3f9e612-1da5-467d-9265-bb24256feac6",
        "colab": {
          "base_uri": "https://localhost:8080/",
          "height": 1000
        }
      },
      "source": [
        "!sudo apt install openjdk-8-jdk\n",
        "!sudo update-alternatives --config java"
      ],
      "execution_count": 3,
      "outputs": [
        {
          "output_type": "stream",
          "text": [
            "Reading package lists... Done\n",
            "Building dependency tree       \n",
            "Reading state information... Done\n",
            "The following additional packages will be installed:\n",
            "  fonts-dejavu-core fonts-dejavu-extra libatk-wrapper-java\n",
            "  libatk-wrapper-java-jni libgail-common libgail18 libgtk2.0-0 libgtk2.0-bin\n",
            "  libgtk2.0-common libxxf86dga1 openjdk-8-jre x11-utils\n",
            "Suggested packages:\n",
            "  gvfs openjdk-8-demo openjdk-8-source visualvm icedtea-8-plugin mesa-utils\n",
            "The following NEW packages will be installed:\n",
            "  fonts-dejavu-core fonts-dejavu-extra libatk-wrapper-java\n",
            "  libatk-wrapper-java-jni libgail-common libgail18 libgtk2.0-0 libgtk2.0-bin\n",
            "  libgtk2.0-common libxxf86dga1 openjdk-8-jdk openjdk-8-jre x11-utils\n",
            "0 upgraded, 13 newly installed, 0 to remove and 35 not upgraded.\n",
            "Need to get 7,119 kB of archives.\n",
            "After this operation, 20.1 MB of additional disk space will be used.\n",
            "Get:1 http://archive.ubuntu.com/ubuntu bionic/main amd64 libxxf86dga1 amd64 2:1.1.4-1 [13.7 kB]\n",
            "Get:2 http://archive.ubuntu.com/ubuntu bionic/main amd64 fonts-dejavu-core all 2.37-1 [1,041 kB]\n",
            "Get:3 http://archive.ubuntu.com/ubuntu bionic/main amd64 fonts-dejavu-extra all 2.37-1 [1,953 kB]\n",
            "Get:4 http://archive.ubuntu.com/ubuntu bionic/main amd64 x11-utils amd64 7.7+3build1 [196 kB]\n",
            "Get:5 http://archive.ubuntu.com/ubuntu bionic/main amd64 libatk-wrapper-java all 0.33.3-20ubuntu0.1 [34.7 kB]\n",
            "Get:6 http://archive.ubuntu.com/ubuntu bionic/main amd64 libatk-wrapper-java-jni amd64 0.33.3-20ubuntu0.1 [28.3 kB]\n",
            "Get:7 http://archive.ubuntu.com/ubuntu bionic/main amd64 libgtk2.0-common all 2.24.32-1ubuntu1 [125 kB]\n",
            "Get:8 http://archive.ubuntu.com/ubuntu bionic/main amd64 libgtk2.0-0 amd64 2.24.32-1ubuntu1 [1,769 kB]\n",
            "Get:9 http://archive.ubuntu.com/ubuntu bionic/main amd64 libgail18 amd64 2.24.32-1ubuntu1 [14.2 kB]\n",
            "Get:10 http://archive.ubuntu.com/ubuntu bionic/main amd64 libgail-common amd64 2.24.32-1ubuntu1 [112 kB]\n",
            "Get:11 http://archive.ubuntu.com/ubuntu bionic/main amd64 libgtk2.0-bin amd64 2.24.32-1ubuntu1 [7,536 B]\n",
            "Get:12 http://archive.ubuntu.com/ubuntu bionic-updates/universe amd64 openjdk-8-jre amd64 8u222-b10-1ubuntu1~18.04.1 [69.3 kB]\n",
            "Get:13 http://archive.ubuntu.com/ubuntu bionic-updates/universe amd64 openjdk-8-jdk amd64 8u222-b10-1ubuntu1~18.04.1 [1,756 kB]\n",
            "Fetched 7,119 kB in 1s (9,454 kB/s)\n",
            "debconf: unable to initialize frontend: Dialog\n",
            "debconf: (No usable dialog-like program is installed, so the dialog based frontend cannot be used. at /usr/share/perl5/Debconf/FrontEnd/Dialog.pm line 76, <> line 13.)\n",
            "debconf: falling back to frontend: Readline\n",
            "debconf: unable to initialize frontend: Readline\n",
            "debconf: (This frontend requires a controlling tty.)\n",
            "debconf: falling back to frontend: Teletype\n",
            "dpkg-preconfigure: unable to re-open stdin: \n",
            "Selecting previously unselected package libxxf86dga1:amd64.\n",
            "(Reading database ... 132684 files and directories currently installed.)\n",
            "Preparing to unpack .../00-libxxf86dga1_2%3a1.1.4-1_amd64.deb ...\n",
            "Unpacking libxxf86dga1:amd64 (2:1.1.4-1) ...\n",
            "Selecting previously unselected package fonts-dejavu-core.\n",
            "Preparing to unpack .../01-fonts-dejavu-core_2.37-1_all.deb ...\n",
            "Unpacking fonts-dejavu-core (2.37-1) ...\n",
            "Selecting previously unselected package fonts-dejavu-extra.\n",
            "Preparing to unpack .../02-fonts-dejavu-extra_2.37-1_all.deb ...\n",
            "Unpacking fonts-dejavu-extra (2.37-1) ...\n",
            "Selecting previously unselected package x11-utils.\n",
            "Preparing to unpack .../03-x11-utils_7.7+3build1_amd64.deb ...\n",
            "Unpacking x11-utils (7.7+3build1) ...\n",
            "Selecting previously unselected package libatk-wrapper-java.\n",
            "Preparing to unpack .../04-libatk-wrapper-java_0.33.3-20ubuntu0.1_all.deb ...\n",
            "Unpacking libatk-wrapper-java (0.33.3-20ubuntu0.1) ...\n",
            "Selecting previously unselected package libatk-wrapper-java-jni:amd64.\n",
            "Preparing to unpack .../05-libatk-wrapper-java-jni_0.33.3-20ubuntu0.1_amd64.deb ...\n",
            "Unpacking libatk-wrapper-java-jni:amd64 (0.33.3-20ubuntu0.1) ...\n",
            "Selecting previously unselected package libgtk2.0-common.\n",
            "Preparing to unpack .../06-libgtk2.0-common_2.24.32-1ubuntu1_all.deb ...\n",
            "Unpacking libgtk2.0-common (2.24.32-1ubuntu1) ...\n",
            "Selecting previously unselected package libgtk2.0-0:amd64.\n",
            "Preparing to unpack .../07-libgtk2.0-0_2.24.32-1ubuntu1_amd64.deb ...\n",
            "Unpacking libgtk2.0-0:amd64 (2.24.32-1ubuntu1) ...\n",
            "Selecting previously unselected package libgail18:amd64.\n",
            "Preparing to unpack .../08-libgail18_2.24.32-1ubuntu1_amd64.deb ...\n",
            "Unpacking libgail18:amd64 (2.24.32-1ubuntu1) ...\n",
            "Selecting previously unselected package libgail-common:amd64.\n",
            "Preparing to unpack .../09-libgail-common_2.24.32-1ubuntu1_amd64.deb ...\n",
            "Unpacking libgail-common:amd64 (2.24.32-1ubuntu1) ...\n",
            "Selecting previously unselected package libgtk2.0-bin.\n",
            "Preparing to unpack .../10-libgtk2.0-bin_2.24.32-1ubuntu1_amd64.deb ...\n",
            "Unpacking libgtk2.0-bin (2.24.32-1ubuntu1) ...\n",
            "Selecting previously unselected package openjdk-8-jre:amd64.\n",
            "Preparing to unpack .../11-openjdk-8-jre_8u222-b10-1ubuntu1~18.04.1_amd64.deb ...\n",
            "Unpacking openjdk-8-jre:amd64 (8u222-b10-1ubuntu1~18.04.1) ...\n",
            "Selecting previously unselected package openjdk-8-jdk:amd64.\n",
            "Preparing to unpack .../12-openjdk-8-jdk_8u222-b10-1ubuntu1~18.04.1_amd64.deb ...\n",
            "Unpacking openjdk-8-jdk:amd64 (8u222-b10-1ubuntu1~18.04.1) ...\n",
            "Setting up libgtk2.0-common (2.24.32-1ubuntu1) ...\n",
            "Processing triggers for mime-support (3.60ubuntu1) ...\n",
            "Setting up fonts-dejavu-core (2.37-1) ...\n",
            "Setting up libxxf86dga1:amd64 (2:1.1.4-1) ...\n",
            "Processing triggers for libc-bin (2.27-3ubuntu1) ...\n",
            "Processing triggers for man-db (2.8.3-2ubuntu0.1) ...\n",
            "Setting up fonts-dejavu-extra (2.37-1) ...\n",
            "Processing triggers for hicolor-icon-theme (0.17-2) ...\n",
            "Processing triggers for fontconfig (2.12.6-0ubuntu2) ...\n",
            "Setting up libgtk2.0-0:amd64 (2.24.32-1ubuntu1) ...\n",
            "Setting up libgail18:amd64 (2.24.32-1ubuntu1) ...\n",
            "Setting up x11-utils (7.7+3build1) ...\n",
            "Setting up libgail-common:amd64 (2.24.32-1ubuntu1) ...\n",
            "Setting up libatk-wrapper-java (0.33.3-20ubuntu0.1) ...\n",
            "Setting up libgtk2.0-bin (2.24.32-1ubuntu1) ...\n",
            "Setting up libatk-wrapper-java-jni:amd64 (0.33.3-20ubuntu0.1) ...\n",
            "Setting up openjdk-8-jre:amd64 (8u222-b10-1ubuntu1~18.04.1) ...\n",
            "update-alternatives: using /usr/lib/jvm/java-8-openjdk-amd64/jre/bin/policytool to provide /usr/bin/policytool (policytool) in auto mode\n",
            "Setting up openjdk-8-jdk:amd64 (8u222-b10-1ubuntu1~18.04.1) ...\n",
            "update-alternatives: using /usr/lib/jvm/java-8-openjdk-amd64/bin/appletviewer to provide /usr/bin/appletviewer (appletviewer) in auto mode\n",
            "update-alternatives: using /usr/lib/jvm/java-8-openjdk-amd64/bin/jconsole to provide /usr/bin/jconsole (jconsole) in auto mode\n",
            "Processing triggers for libc-bin (2.27-3ubuntu1) ...\n",
            "There are 2 choices for the alternative java (providing /usr/bin/java).\n",
            "\n",
            "  Selection    Path                                            Priority   Status\n",
            "------------------------------------------------------------\n",
            "* 0            /usr/lib/jvm/java-11-openjdk-amd64/bin/java      1111      auto mode\n",
            "  1            /usr/lib/jvm/java-11-openjdk-amd64/bin/java      1111      manual mode\n",
            "  2            /usr/lib/jvm/java-8-openjdk-amd64/jre/bin/java   1081      manual mode\n",
            "\n",
            "Press <enter> to keep the current choice[*], or type selection number: 2\n",
            "update-alternatives: using /usr/lib/jvm/java-8-openjdk-amd64/jre/bin/java to provide /usr/bin/java (java) in manual mode\n"
          ],
          "name": "stdout"
        }
      ]
    },
    {
      "cell_type": "code",
      "metadata": {
        "id": "W993uyoBObHd",
        "colab_type": "code",
        "outputId": "1e11b40e-03ee-4df3-ca00-b39394050f99",
        "colab": {
          "base_uri": "https://localhost:8080/",
          "height": 68
        }
      },
      "source": [
        "!java -version"
      ],
      "execution_count": 4,
      "outputs": [
        {
          "output_type": "stream",
          "text": [
            "openjdk version \"1.8.0_222\"\n",
            "OpenJDK Runtime Environment (build 1.8.0_222-8u222-b10-1ubuntu1~18.04.1-b10)\n",
            "OpenJDK 64-Bit Server VM (build 25.222-b10, mixed mode)\n"
          ],
          "name": "stdout"
        }
      ]
    },
    {
      "cell_type": "code",
      "metadata": {
        "id": "feeU0v_dN0dI",
        "colab_type": "code",
        "outputId": "889624b7-645a-4206-e8f7-dd6d1deb9876",
        "colab": {
          "base_uri": "https://localhost:8080/",
          "height": 258
        }
      },
      "source": [
        "!pip install pyspark"
      ],
      "execution_count": 5,
      "outputs": [
        {
          "output_type": "stream",
          "text": [
            "Collecting pyspark\n",
            "\u001b[?25l  Downloading https://files.pythonhosted.org/packages/87/21/f05c186f4ddb01d15d0ddc36ef4b7e3cedbeb6412274a41f26b55a650ee5/pyspark-2.4.4.tar.gz (215.7MB)\n",
            "\u001b[K     |████████████████████████████████| 215.7MB 59kB/s \n",
            "\u001b[?25hCollecting py4j==0.10.7\n",
            "\u001b[?25l  Downloading https://files.pythonhosted.org/packages/e3/53/c737818eb9a7dc32a7cd4f1396e787bd94200c3997c72c1dbe028587bd76/py4j-0.10.7-py2.py3-none-any.whl (197kB)\n",
            "\u001b[K     |████████████████████████████████| 204kB 56.5MB/s \n",
            "\u001b[?25hBuilding wheels for collected packages: pyspark\n",
            "  Building wheel for pyspark (setup.py) ... \u001b[?25l\u001b[?25hdone\n",
            "  Created wheel for pyspark: filename=pyspark-2.4.4-py2.py3-none-any.whl size=216130387 sha256=9abb68a74322fcad6d7e9dd10bf8de4be22fa8a0ba8baa95ce5e08cdb645666e\n",
            "  Stored in directory: /root/.cache/pip/wheels/ab/09/4d/0d184230058e654eb1b04467dbc1292f00eaa186544604b471\n",
            "Successfully built pyspark\n",
            "Installing collected packages: py4j, pyspark\n",
            "Successfully installed py4j-0.10.7 pyspark-2.4.4\n"
          ],
          "name": "stdout"
        }
      ]
    },
    {
      "cell_type": "code",
      "metadata": {
        "id": "ue-75_fyN25A",
        "colab_type": "code",
        "colab": {}
      },
      "source": [
        "from pyspark.sql import SparkSession\n",
        "spark = SparkSession.builder.master('local').appName('phone_reviews').getOrCreate()"
      ],
      "execution_count": 0,
      "outputs": []
    },
    {
      "cell_type": "code",
      "metadata": {
        "id": "Cz_Emn8EOCcZ",
        "colab_type": "code",
        "colab": {}
      },
      "source": [
        "df = spark.read.csv('20190928-reviews.csv', header = True, inferSchema = True)"
      ],
      "execution_count": 0,
      "outputs": []
    },
    {
      "cell_type": "code",
      "metadata": {
        "id": "mhzL2rfhOIzN",
        "colab_type": "code",
        "outputId": "c625263a-a208-480d-b56c-5a9341e612be",
        "colab": {
          "base_uri": "https://localhost:8080/",
          "height": 187
        }
      },
      "source": [
        "df.printSchema()"
      ],
      "execution_count": 8,
      "outputs": [
        {
          "output_type": "stream",
          "text": [
            "root\n",
            " |-- asin: string (nullable = true)\n",
            " |-- name: string (nullable = true)\n",
            " |-- rating: integer (nullable = true)\n",
            " |-- date: string (nullable = true)\n",
            " |-- verified: boolean (nullable = true)\n",
            " |-- title: string (nullable = true)\n",
            " |-- body: string (nullable = true)\n",
            " |-- helpfulVotes: string (nullable = true)\n",
            "\n"
          ],
          "name": "stdout"
        }
      ]
    },
    {
      "cell_type": "code",
      "metadata": {
        "id": "fxZ55NipOLJi",
        "colab_type": "code",
        "outputId": "9cbbd714-7c6d-4db4-ecb3-754f5e886173",
        "colab": {
          "base_uri": "https://localhost:8080/",
          "height": 207
        }
      },
      "source": [
        "df.describe().show()"
      ],
      "execution_count": 9,
      "outputs": [
        {
          "output_type": "stream",
          "text": [
            "+-------+----------+------------------+------------------+-----------------+------------------+--------+--------------------+\n",
            "|summary|      asin|              name|            rating|             date|             title|    body|        helpfulVotes|\n",
            "+-------+----------+------------------+------------------+-----------------+------------------+--------+--------------------+\n",
            "|  count|     82815|             82815|             82815|            82815|             82815|   82799|               33859|\n",
            "|   mean|      null|          Infinity|3.7603574231721306|             null|246.04250000000002|    null|   6.561823802163833|\n",
            "| stddev|      null|               NaN|  1.60564358002101|             null| 614.6793183459753|    null|  25.759316802565234|\n",
            "|    min|B0000SX2UC|\"\"\"Mark\"\" Anthony\"|                 1|    April 1, 2010|                 !| \"\" ...\"| \"\" Hand Candy\"\"U...|\n",
            "|    max|B07X51T2VK|       🥜 Potplant|                 5|September 9, 2019|            🥰🥰🥰|      🧐|                time|\n",
            "+-------+----------+------------------+------------------+-----------------+------------------+--------+--------------------+\n",
            "\n"
          ],
          "name": "stdout"
        }
      ]
    },
    {
      "cell_type": "markdown",
      "metadata": {
        "id": "p7v4e4pjet8v",
        "colab_type": "text"
      },
      "source": [
        "By using describe(), one can see that some of the review body is missing with 82799 entries rather than 82815 like the most of the columns. "
      ]
    },
    {
      "cell_type": "code",
      "metadata": {
        "id": "b0DOPq5FPBga",
        "colab_type": "code",
        "colab": {}
      },
      "source": [
        "new_df = df.select('rating','body')"
      ],
      "execution_count": 0,
      "outputs": []
    },
    {
      "cell_type": "markdown",
      "metadata": {
        "id": "ydMlX6EZfIEe",
        "colab_type": "text"
      },
      "source": [
        "We can filter out rows with null body. "
      ]
    },
    {
      "cell_type": "code",
      "metadata": {
        "id": "SBacJIj0fAYl",
        "colab_type": "code",
        "colab": {}
      },
      "source": [
        "new_df = new_df.filter(df.body.isNotNull())"
      ],
      "execution_count": 0,
      "outputs": []
    },
    {
      "cell_type": "markdown",
      "metadata": {
        "id": "E5QxYp5NfRpb",
        "colab_type": "text"
      },
      "source": [
        "Now we can process the text in the body for machine learning."
      ]
    },
    {
      "cell_type": "code",
      "metadata": {
        "id": "Lca1CZIfPocT",
        "colab_type": "code",
        "outputId": "2257a0c3-cee2-4cbb-d3b6-4fb3c00f7025",
        "colab": {
          "base_uri": "https://localhost:8080/",
          "height": 34
        }
      },
      "source": [
        "new_df.columns"
      ],
      "execution_count": 12,
      "outputs": [
        {
          "output_type": "execute_result",
          "data": {
            "text/plain": [
              "['rating', 'body']"
            ]
          },
          "metadata": {
            "tags": []
          },
          "execution_count": 12
        }
      ]
    },
    {
      "cell_type": "code",
      "metadata": {
        "id": "d6uC4J6kP77v",
        "colab_type": "code",
        "colab": {}
      },
      "source": [
        "from pyspark.ml.feature import RegexTokenizer, CountVectorizer, IDF, StringIndexer"
      ],
      "execution_count": 0,
      "outputs": []
    },
    {
      "cell_type": "code",
      "metadata": {
        "id": "rLJXsaZ6QMkD",
        "colab_type": "code",
        "colab": {
          "base_uri": "https://localhost:8080/",
          "height": 54
        },
        "outputId": "9cc16995-a73f-40de-b148-b79fa5b5c49d"
      },
      "source": [
        "regexTokenize = RegexTokenizer(inputCol = 'body', outputCol = 'words', pattern = '\\\\W')\n",
        "new_df = regexTokenize.transform(new_df)\n",
        "new_df.head()"
      ],
      "execution_count": 14,
      "outputs": [
        {
          "output_type": "execute_result",
          "data": {
            "text/plain": [
              "Row(rating=3, body=\"I had the Samsung A600 for awhile which is absolute doo doo. You can read my review on it and detect my rage at the stupid thing. It finally died on me so I used this Nokia phone I bought in a garage sale for $1. I wonder y she sold it so cheap?... Bad: ===> I hate the menu. It takes forever to get to what you want because you have to scroll endlessly. Usually phones have numbered categories so u can simply press the # and get where you want to go. ===> It's a pain to put it on silent or vibrate. If you're in class and it rings, you have to turn it off immediately. There's no fast way to silence the damn thing. Always remember to put it on silent! I learned that the hard way. ===> It's so true about the case. It's a mission to get off and will break ur nails in the process. Also, you'll damage the case each time u try. For some reason the phone started giving me problems once I did succeed in opening it. ===> Buttons could be a bit bigger. Vibration could be stronger. Good: ===> Reception is not too shabby. I was using it in the elevator which is a remarkable feat considering my old phone would lose service by simply putting it in my pocket. ===> Compared to my old Samsung, this phone works quite well. The ring tones are loud enough to hear and the phone actually charges quickly and has great battery life. It doesn't heat up like a potatoe in the oven either during long phone convos. ===> Nice bright, large screen. ===> Cute ways to customize it. Scroll bar can be set to purple, pink, aqua, orange, etc. Overall: Okay phone. It serves its purpose but definitely pales in comparison to these new phones coming out from Sprint. Why get so so when you can get great?\", words=['i', 'had', 'the', 'samsung', 'a600', 'for', 'awhile', 'which', 'is', 'absolute', 'doo', 'doo', 'you', 'can', 'read', 'my', 'review', 'on', 'it', 'and', 'detect', 'my', 'rage', 'at', 'the', 'stupid', 'thing', 'it', 'finally', 'died', 'on', 'me', 'so', 'i', 'used', 'this', 'nokia', 'phone', 'i', 'bought', 'in', 'a', 'garage', 'sale', 'for', '1', 'i', 'wonder', 'y', 'she', 'sold', 'it', 'so', 'cheap', 'bad', 'i', 'hate', 'the', 'menu', 'it', 'takes', 'forever', 'to', 'get', 'to', 'what', 'you', 'want', 'because', 'you', 'have', 'to', 'scroll', 'endlessly', 'usually', 'phones', 'have', 'numbered', 'categories', 'so', 'u', 'can', 'simply', 'press', 'the', 'and', 'get', 'where', 'you', 'want', 'to', 'go', 'it', 's', 'a', 'pain', 'to', 'put', 'it', 'on', 'silent', 'or', 'vibrate', 'if', 'you', 're', 'in', 'class', 'and', 'it', 'rings', 'you', 'have', 'to', 'turn', 'it', 'off', 'immediately', 'there', 's', 'no', 'fast', 'way', 'to', 'silence', 'the', 'damn', 'thing', 'always', 'remember', 'to', 'put', 'it', 'on', 'silent', 'i', 'learned', 'that', 'the', 'hard', 'way', 'it', 's', 'so', 'true', 'about', 'the', 'case', 'it', 's', 'a', 'mission', 'to', 'get', 'off', 'and', 'will', 'break', 'ur', 'nails', 'in', 'the', 'process', 'also', 'you', 'll', 'damage', 'the', 'case', 'each', 'time', 'u', 'try', 'for', 'some', 'reason', 'the', 'phone', 'started', 'giving', 'me', 'problems', 'once', 'i', 'did', 'succeed', 'in', 'opening', 'it', 'buttons', 'could', 'be', 'a', 'bit', 'bigger', 'vibration', 'could', 'be', 'stronger', 'good', 'reception', 'is', 'not', 'too', 'shabby', 'i', 'was', 'using', 'it', 'in', 'the', 'elevator', 'which', 'is', 'a', 'remarkable', 'feat', 'considering', 'my', 'old', 'phone', 'would', 'lose', 'service', 'by', 'simply', 'putting', 'it', 'in', 'my', 'pocket', 'compared', 'to', 'my', 'old', 'samsung', 'this', 'phone', 'works', 'quite', 'well', 'the', 'ring', 'tones', 'are', 'loud', 'enough', 'to', 'hear', 'and', 'the', 'phone', 'actually', 'charges', 'quickly', 'and', 'has', 'great', 'battery', 'life', 'it', 'doesn', 't', 'heat', 'up', 'like', 'a', 'potatoe', 'in', 'the', 'oven', 'either', 'during', 'long', 'phone', 'convos', 'nice', 'bright', 'large', 'screen', 'cute', 'ways', 'to', 'customize', 'it', 'scroll', 'bar', 'can', 'be', 'set', 'to', 'purple', 'pink', 'aqua', 'orange', 'etc', 'overall', 'okay', 'phone', 'it', 'serves', 'its', 'purpose', 'but', 'definitely', 'pales', 'in', 'comparison', 'to', 'these', 'new', 'phones', 'coming', 'out', 'from', 'sprint', 'why', 'get', 'so', 'so', 'when', 'you', 'can', 'get', 'great'])"
            ]
          },
          "metadata": {
            "tags": []
          },
          "execution_count": 14
        }
      ]
    },
    {
      "cell_type": "code",
      "metadata": {
        "id": "X52dsgG6Qy-h",
        "colab_type": "code",
        "colab": {
          "base_uri": "https://localhost:8080/",
          "height": 54
        },
        "outputId": "73bb17b0-b645-4f06-8146-d5cfe777672b"
      },
      "source": [
        "new_df.select('words').head()"
      ],
      "execution_count": 15,
      "outputs": [
        {
          "output_type": "execute_result",
          "data": {
            "text/plain": [
              "Row(words=['i', 'had', 'the', 'samsung', 'a600', 'for', 'awhile', 'which', 'is', 'absolute', 'doo', 'doo', 'you', 'can', 'read', 'my', 'review', 'on', 'it', 'and', 'detect', 'my', 'rage', 'at', 'the', 'stupid', 'thing', 'it', 'finally', 'died', 'on', 'me', 'so', 'i', 'used', 'this', 'nokia', 'phone', 'i', 'bought', 'in', 'a', 'garage', 'sale', 'for', '1', 'i', 'wonder', 'y', 'she', 'sold', 'it', 'so', 'cheap', 'bad', 'i', 'hate', 'the', 'menu', 'it', 'takes', 'forever', 'to', 'get', 'to', 'what', 'you', 'want', 'because', 'you', 'have', 'to', 'scroll', 'endlessly', 'usually', 'phones', 'have', 'numbered', 'categories', 'so', 'u', 'can', 'simply', 'press', 'the', 'and', 'get', 'where', 'you', 'want', 'to', 'go', 'it', 's', 'a', 'pain', 'to', 'put', 'it', 'on', 'silent', 'or', 'vibrate', 'if', 'you', 're', 'in', 'class', 'and', 'it', 'rings', 'you', 'have', 'to', 'turn', 'it', 'off', 'immediately', 'there', 's', 'no', 'fast', 'way', 'to', 'silence', 'the', 'damn', 'thing', 'always', 'remember', 'to', 'put', 'it', 'on', 'silent', 'i', 'learned', 'that', 'the', 'hard', 'way', 'it', 's', 'so', 'true', 'about', 'the', 'case', 'it', 's', 'a', 'mission', 'to', 'get', 'off', 'and', 'will', 'break', 'ur', 'nails', 'in', 'the', 'process', 'also', 'you', 'll', 'damage', 'the', 'case', 'each', 'time', 'u', 'try', 'for', 'some', 'reason', 'the', 'phone', 'started', 'giving', 'me', 'problems', 'once', 'i', 'did', 'succeed', 'in', 'opening', 'it', 'buttons', 'could', 'be', 'a', 'bit', 'bigger', 'vibration', 'could', 'be', 'stronger', 'good', 'reception', 'is', 'not', 'too', 'shabby', 'i', 'was', 'using', 'it', 'in', 'the', 'elevator', 'which', 'is', 'a', 'remarkable', 'feat', 'considering', 'my', 'old', 'phone', 'would', 'lose', 'service', 'by', 'simply', 'putting', 'it', 'in', 'my', 'pocket', 'compared', 'to', 'my', 'old', 'samsung', 'this', 'phone', 'works', 'quite', 'well', 'the', 'ring', 'tones', 'are', 'loud', 'enough', 'to', 'hear', 'and', 'the', 'phone', 'actually', 'charges', 'quickly', 'and', 'has', 'great', 'battery', 'life', 'it', 'doesn', 't', 'heat', 'up', 'like', 'a', 'potatoe', 'in', 'the', 'oven', 'either', 'during', 'long', 'phone', 'convos', 'nice', 'bright', 'large', 'screen', 'cute', 'ways', 'to', 'customize', 'it', 'scroll', 'bar', 'can', 'be', 'set', 'to', 'purple', 'pink', 'aqua', 'orange', 'etc', 'overall', 'okay', 'phone', 'it', 'serves', 'its', 'purpose', 'but', 'definitely', 'pales', 'in', 'comparison', 'to', 'these', 'new', 'phones', 'coming', 'out', 'from', 'sprint', 'why', 'get', 'so', 'so', 'when', 'you', 'can', 'get', 'great'])"
            ]
          },
          "metadata": {
            "tags": []
          },
          "execution_count": 15
        }
      ]
    },
    {
      "cell_type": "code",
      "metadata": {
        "id": "-LdCGW0gRrEU",
        "colab_type": "code",
        "colab": {}
      },
      "source": [
        "countVectorize = CountVectorizer(inputCol = 'words', outputCol = 'TF')\n",
        "countVectorize_model = countVectorize.fit(new_df)\n",
        "new_df = countVectorize_model.transform(new_df)"
      ],
      "execution_count": 0,
      "outputs": []
    },
    {
      "cell_type": "markdown",
      "metadata": {
        "id": "fxWECLlVTawT",
        "colab_type": "text"
      },
      "source": [
        "CountVectorize created a sparsevector to vectorize the word count."
      ]
    },
    {
      "cell_type": "code",
      "metadata": {
        "id": "-Kl0ejBITF5q",
        "colab_type": "code",
        "colab": {
          "base_uri": "https://localhost:8080/",
          "height": 54
        },
        "outputId": "fdda9c89-216a-4f93-ba67-32527546a9f5"
      },
      "source": [
        "new_df.head()"
      ],
      "execution_count": 17,
      "outputs": [
        {
          "output_type": "execute_result",
          "data": {
            "text/plain": [
              "Row(rating=3, body=\"I had the Samsung A600 for awhile which is absolute doo doo. You can read my review on it and detect my rage at the stupid thing. It finally died on me so I used this Nokia phone I bought in a garage sale for $1. I wonder y she sold it so cheap?... Bad: ===> I hate the menu. It takes forever to get to what you want because you have to scroll endlessly. Usually phones have numbered categories so u can simply press the # and get where you want to go. ===> It's a pain to put it on silent or vibrate. If you're in class and it rings, you have to turn it off immediately. There's no fast way to silence the damn thing. Always remember to put it on silent! I learned that the hard way. ===> It's so true about the case. It's a mission to get off and will break ur nails in the process. Also, you'll damage the case each time u try. For some reason the phone started giving me problems once I did succeed in opening it. ===> Buttons could be a bit bigger. Vibration could be stronger. Good: ===> Reception is not too shabby. I was using it in the elevator which is a remarkable feat considering my old phone would lose service by simply putting it in my pocket. ===> Compared to my old Samsung, this phone works quite well. The ring tones are loud enough to hear and the phone actually charges quickly and has great battery life. It doesn't heat up like a potatoe in the oven either during long phone convos. ===> Nice bright, large screen. ===> Cute ways to customize it. Scroll bar can be set to purple, pink, aqua, orange, etc. Overall: Okay phone. It serves its purpose but definitely pales in comparison to these new phones coming out from Sprint. Why get so so when you can get great?\", words=['i', 'had', 'the', 'samsung', 'a600', 'for', 'awhile', 'which', 'is', 'absolute', 'doo', 'doo', 'you', 'can', 'read', 'my', 'review', 'on', 'it', 'and', 'detect', 'my', 'rage', 'at', 'the', 'stupid', 'thing', 'it', 'finally', 'died', 'on', 'me', 'so', 'i', 'used', 'this', 'nokia', 'phone', 'i', 'bought', 'in', 'a', 'garage', 'sale', 'for', '1', 'i', 'wonder', 'y', 'she', 'sold', 'it', 'so', 'cheap', 'bad', 'i', 'hate', 'the', 'menu', 'it', 'takes', 'forever', 'to', 'get', 'to', 'what', 'you', 'want', 'because', 'you', 'have', 'to', 'scroll', 'endlessly', 'usually', 'phones', 'have', 'numbered', 'categories', 'so', 'u', 'can', 'simply', 'press', 'the', 'and', 'get', 'where', 'you', 'want', 'to', 'go', 'it', 's', 'a', 'pain', 'to', 'put', 'it', 'on', 'silent', 'or', 'vibrate', 'if', 'you', 're', 'in', 'class', 'and', 'it', 'rings', 'you', 'have', 'to', 'turn', 'it', 'off', 'immediately', 'there', 's', 'no', 'fast', 'way', 'to', 'silence', 'the', 'damn', 'thing', 'always', 'remember', 'to', 'put', 'it', 'on', 'silent', 'i', 'learned', 'that', 'the', 'hard', 'way', 'it', 's', 'so', 'true', 'about', 'the', 'case', 'it', 's', 'a', 'mission', 'to', 'get', 'off', 'and', 'will', 'break', 'ur', 'nails', 'in', 'the', 'process', 'also', 'you', 'll', 'damage', 'the', 'case', 'each', 'time', 'u', 'try', 'for', 'some', 'reason', 'the', 'phone', 'started', 'giving', 'me', 'problems', 'once', 'i', 'did', 'succeed', 'in', 'opening', 'it', 'buttons', 'could', 'be', 'a', 'bit', 'bigger', 'vibration', 'could', 'be', 'stronger', 'good', 'reception', 'is', 'not', 'too', 'shabby', 'i', 'was', 'using', 'it', 'in', 'the', 'elevator', 'which', 'is', 'a', 'remarkable', 'feat', 'considering', 'my', 'old', 'phone', 'would', 'lose', 'service', 'by', 'simply', 'putting', 'it', 'in', 'my', 'pocket', 'compared', 'to', 'my', 'old', 'samsung', 'this', 'phone', 'works', 'quite', 'well', 'the', 'ring', 'tones', 'are', 'loud', 'enough', 'to', 'hear', 'and', 'the', 'phone', 'actually', 'charges', 'quickly', 'and', 'has', 'great', 'battery', 'life', 'it', 'doesn', 't', 'heat', 'up', 'like', 'a', 'potatoe', 'in', 'the', 'oven', 'either', 'during', 'long', 'phone', 'convos', 'nice', 'bright', 'large', 'screen', 'cute', 'ways', 'to', 'customize', 'it', 'scroll', 'bar', 'can', 'be', 'set', 'to', 'purple', 'pink', 'aqua', 'orange', 'etc', 'overall', 'okay', 'phone', 'it', 'serves', 'its', 'purpose', 'but', 'definitely', 'pales', 'in', 'comparison', 'to', 'these', 'new', 'phones', 'coming', 'out', 'from', 'sprint', 'why', 'get', 'so', 'so', 'when', 'you', 'can', 'get', 'great'], TF=SparseVector(34250, {0: 14.0, 1: 8.0, 2: 17.0, 3: 7.0, 4: 6.0, 5: 6.0, 6: 14.0, 7: 3.0, 8: 2.0, 9: 3.0, 12: 5.0, 13: 1.0, 14: 8.0, 15: 1.0, 16: 1.0, 17: 1.0, 18: 4.0, 19: 1.0, 20: 3.0, 21: 8.0, 22: 2.0, 23: 4.0, 25: 6.0, 26: 1.0, 27: 1.0, 28: 1.0, 29: 1.0, 31: 1.0, 32: 1.0, 33: 1.0, 34: 3.0, 35: 1.0, 38: 1.0, 39: 4.0, 40: 2.0, 41: 1.0, 42: 1.0, 44: 1.0, 47: 1.0, 48: 1.0, 49: 1.0, 50: 1.0, 51: 5.0, 55: 1.0, 56: 1.0, 59: 1.0, 60: 1.0, 62: 2.0, 64: 2.0, 66: 1.0, 70: 1.0, 72: 1.0, 75: 1.0, 76: 1.0, 79: 1.0, 82: 1.0, 84: 2.0, 91: 1.0, 92: 1.0, 99: 1.0, 100: 1.0, 103: 1.0, 105: 1.0, 112: 1.0, 115: 1.0, 117: 2.0, 126: 2.0, 127: 1.0, 128: 1.0, 139: 1.0, 140: 2.0, 145: 1.0, 146: 1.0, 156: 2.0, 157: 2.0, 167: 1.0, 172: 1.0, 176: 2.0, 188: 2.0, 190: 1.0, 217: 1.0, 227: 1.0, 234: 1.0, 235: 1.0, 247: 2.0, 254: 1.0, 259: 1.0, 266: 1.0, 272: 1.0, 274: 1.0, 275: 1.0, 286: 1.0, 287: 1.0, 292: 1.0, 296: 1.0, 302: 1.0, 313: 1.0, 322: 1.0, 323: 1.0, 333: 1.0, 339: 1.0, 347: 1.0, 353: 1.0, 370: 1.0, 382: 1.0, 394: 1.0, 395: 1.0, 397: 1.0, 404: 1.0, 452: 1.0, 453: 1.0, 472: 1.0, 482: 1.0, 508: 1.0, 512: 1.0, 526: 1.0, 558: 1.0, 588: 1.0, 608: 1.0, 633: 1.0, 653: 1.0, 687: 1.0, 718: 1.0, 719: 1.0, 720: 1.0, 721: 2.0, 725: 1.0, 727: 1.0, 730: 2.0, 735: 1.0, 744: 1.0, 769: 1.0, 820: 1.0, 829: 1.0, 837: 1.0, 857: 1.0, 862: 1.0, 909: 1.0, 986: 1.0, 1035: 1.0, 1078: 1.0, 1192: 1.0, 1218: 1.0, 1239: 1.0, 1258: 1.0, 1329: 1.0, 1338: 1.0, 1342: 1.0, 1435: 1.0, 1463: 1.0, 1478: 1.0, 1606: 1.0, 1614: 1.0, 1638: 1.0, 1691: 1.0, 1721: 1.0, 1753: 1.0, 1825: 1.0, 1845: 1.0, 1857: 1.0, 1939: 1.0, 1949: 1.0, 2004: 1.0, 2021: 1.0, 2338: 1.0, 2488: 1.0, 2497: 2.0, 2564: 2.0, 2682: 1.0, 2878: 1.0, 3003: 1.0, 3138: 1.0, 3153: 1.0, 3164: 1.0, 3289: 1.0, 3390: 1.0, 3512: 1.0, 4212: 1.0, 4239: 1.0, 5116: 1.0, 6340: 1.0, 6511: 1.0, 7006: 1.0, 7500: 1.0, 8459: 1.0, 8607: 1.0, 9825: 1.0, 9888: 2.0, 10455: 1.0, 10924: 1.0, 12224: 1.0, 12681: 1.0, 12684: 1.0, 13586: 1.0, 20839: 1.0, 25523: 1.0, 25731: 1.0}))"
            ]
          },
          "metadata": {
            "tags": []
          },
          "execution_count": 17
        }
      ]
    },
    {
      "cell_type": "markdown",
      "metadata": {
        "id": "VIIIJ_jiThJj",
        "colab_type": "text"
      },
      "source": [
        "To see the list of words in the word count vector, one can look at the countVectorize_model."
      ]
    },
    {
      "cell_type": "code",
      "metadata": {
        "id": "d2jwiSBFTo4r",
        "colab_type": "code",
        "colab": {
          "base_uri": "https://localhost:8080/",
          "height": 34
        },
        "outputId": "199058f0-aaf9-4b07-a8f2-e0c1a9a7a0ee"
      },
      "source": [
        "countVectorize_model.vocabulary[:5]"
      ],
      "execution_count": 18,
      "outputs": [
        {
          "output_type": "execute_result",
          "data": {
            "text/plain": [
              "['the', 'i', 'it', 'phone', 'and']"
            ]
          },
          "metadata": {
            "tags": []
          },
          "execution_count": 18
        }
      ]
    },
    {
      "cell_type": "markdown",
      "metadata": {
        "id": "1H_uSuySUOr7",
        "colab_type": "text"
      },
      "source": [
        "We can use TF-IDF (Term frequency-inverse document frequency) to mine the text and determine the frequency of terms. It will find terms that are important (high frequency) in all the words but not in all the samples because that suggests it could be a stop word like \"a\", \"the\" or \"it\". "
      ]
    },
    {
      "cell_type": "code",
      "metadata": {
        "id": "9XEkzrdXQ4h4",
        "colab_type": "code",
        "colab": {}
      },
      "source": [
        "idf_model = IDF(inputCol = 'TF', outputCol = 'TFIDF').fit(new_df)\n",
        "new_df = idf_model.transform(new_df)"
      ],
      "execution_count": 0,
      "outputs": []
    },
    {
      "cell_type": "code",
      "metadata": {
        "id": "JQ0tJS4wUE6t",
        "colab_type": "code",
        "colab": {
          "base_uri": "https://localhost:8080/",
          "height": 34
        },
        "outputId": "13fe4742-acb1-4f83-cde6-66491fc928f3"
      },
      "source": [
        "new_df.columns"
      ],
      "execution_count": 20,
      "outputs": [
        {
          "output_type": "execute_result",
          "data": {
            "text/plain": [
              "['rating', 'body', 'words', 'TF', 'TFIDF']"
            ]
          },
          "metadata": {
            "tags": []
          },
          "execution_count": 20
        }
      ]
    },
    {
      "cell_type": "code",
      "metadata": {
        "id": "KJ8fj9hUUJR-",
        "colab_type": "code",
        "colab": {
          "base_uri": "https://localhost:8080/",
          "height": 54
        },
        "outputId": "7317ab23-f965-4741-c752-2d80ef662d54"
      },
      "source": [
        "new_df.select('TFIDF').head()"
      ],
      "execution_count": 21,
      "outputs": [
        {
          "output_type": "execute_result",
          "data": {
            "text/plain": [
              "Row(TFIDF=SparseVector(34250, {0: 8.6548, 1: 5.6328, 2: 11.2846, 3: 3.6635, 4: 4.3415, 5: 4.742, 6: 13.2212, 7: 3.0006, 8: 2.0553, 9: 3.5135, 12: 6.5855, 13: 1.348, 14: 11.0838, 15: 1.4097, 16: 1.5316, 17: 1.3605, 18: 5.9716, 19: 1.3818, 20: 4.9681, 21: 15.6472, 22: 3.0222, 23: 7.2207, 25: 10.4334, 26: 1.7364, 27: 1.8389, 28: 1.8969, 29: 1.8434, 31: 2.0429, 32: 2.0827, 33: 1.9715, 34: 6.2587, 35: 2.0421, 38: 1.9781, 39: 8.711, 40: 4.333, 41: 2.2323, 42: 2.1739, 44: 2.2719, 47: 2.3802, 48: 2.3069, 49: 2.3139, 50: 2.154, 51: 11.6793, 55: 2.4275, 56: 2.3889, 59: 2.4691, 60: 2.4951, 62: 5.2114, 64: 5.397, 66: 2.5357, 70: 2.6876, 72: 2.5666, 75: 2.6036, 76: 2.6484, 79: 2.7039, 82: 2.6802, 84: 5.6204, 91: 2.8374, 92: 2.7519, 99: 2.9394, 100: 2.867, 103: 2.9764, 105: 2.8993, 112: 3.0054, 115: 2.9794, 117: 6.1284, 126: 6.166, 127: 3.1157, 128: 3.1266, 139: 3.2036, 140: 6.4608, 145: 3.2195, 146: 3.3639, 156: 6.793, 157: 6.711, 167: 3.4114, 172: 3.3272, 176: 6.7551, 188: 6.905, 190: 3.4525, 217: 3.5787, 227: 3.7173, 234: 3.6674, 235: 4.1396, 247: 7.4596, 254: 3.8376, 259: 4.1358, 266: 3.9006, 272: 3.8935, 274: 3.9169, 275: 3.9036, 286: 3.9297, 287: 4.007, 292: 3.9446, 296: 3.9236, 302: 3.9737, 313: 3.954, 322: 4.0224, 323: 4.0143, 333: 4.2907, 339: 4.0821, 347: 4.0828, 353: 4.0814, 370: 4.1649, 382: 4.1965, 394: 4.2159, 395: 4.5375, 397: 4.2425, 404: 4.3184, 452: 4.4245, 453: 4.3782, 472: 4.5118, 482: 4.4265, 508: 4.5884, 512: 4.5053, 526: 4.5991, 558: 4.6572, 588: 4.8534, 608: 4.8426, 633: 4.811, 653: 4.8674, 687: 4.9441, 718: 4.9441, 719: 4.9856, 720: 4.9407, 721: 10.0068, 725: 4.9874, 727: 5.0016, 730: 10.2925, 735: 4.9856, 744: 5.0197, 769: 5.0494, 820: 5.18, 829: 5.1757, 837: 5.2465, 857: 5.2959, 862: 5.1973, 909: 5.2887, 986: 5.4437, 1035: 5.4982, 1078: 5.6543, 1192: 5.7829, 1218: 5.6823, 1239: 5.8352, 1258: 5.7908, 1329: 5.9629, 1338: 5.8189, 1342: 5.8352, 1435: 5.9489, 1463: 5.9723, 1478: 6.011, 1606: 6.1424, 1614: 6.1767, 1638: 6.1147, 1691: 6.1767, 1721: 6.2304, 1753: 6.2679, 1825: 6.3613, 1845: 6.4042, 1857: 6.3474, 1939: 6.5367, 1949: 6.4115, 2004: 6.48, 2021: 6.4879, 2338: 6.8583, 2488: 6.9804, 2497: 13.9349, 2564: 13.9608, 2682: 6.9935, 2878: 7.181, 3003: 7.197, 3138: 7.3352, 3153: 7.5865, 3164: 7.4324, 3289: 7.3924, 3390: 7.54, 3512: 7.5175, 4212: 7.8902, 4239: 7.923, 5116: 8.2331, 6340: 8.6161, 6511: 8.7592, 7006: 8.8393, 7500: 8.9263, 8459: 9.127, 8607: 9.2447, 9825: 9.3783, 9888: 19.4295, 10455: 9.7147, 10924: 9.5324, 12224: 9.7147, 12681: 9.9379, 12684: 9.9379, 13586: 9.9379, 20839: 10.631, 25523: 10.631, 25731: 10.631}))"
            ]
          },
          "metadata": {
            "tags": []
          },
          "execution_count": 21
        }
      ]
    },
    {
      "cell_type": "markdown",
      "metadata": {
        "id": "EuIWAINkVWBU",
        "colab_type": "text"
      },
      "source": [
        "There are two ways to look at the label in this case: rating. We could see it as a category, like rating 1, 2,3, 4, 5 are five separate categories. Altneratively, we could say even though people can only choose integers between 1 and 5 as the rating, a phone can have a rating of 3.5 on average so that would make the ratings conintuous."
      ]
    },
    {
      "cell_type": "code",
      "metadata": {
        "id": "AQy8NZv0WK68",
        "colab_type": "code",
        "colab": {}
      },
      "source": [
        "train_df, test_df = new_df.randomSplit([0.7, 0.3], seed = 1)"
      ],
      "execution_count": 0,
      "outputs": []
    },
    {
      "cell_type": "code",
      "metadata": {
        "id": "BCVH431JP1Zk",
        "colab_type": "code",
        "colab": {}
      },
      "source": [
        "from pyspark.ml.classification import LogisticRegression\n",
        "lr = LogisticRegression(featuresCol = 'TFIDF', labelCol = 'rating', maxIter = 10)\n",
        "lrModel = lr.fit(train_df)"
      ],
      "execution_count": 0,
      "outputs": []
    },
    {
      "cell_type": "code",
      "metadata": {
        "id": "XNLBX9l0UcmH",
        "colab_type": "code",
        "colab": {}
      },
      "source": [
        "trainingSummary = lrModel.summary"
      ],
      "execution_count": 0,
      "outputs": []
    },
    {
      "cell_type": "code",
      "metadata": {
        "id": "EwpoBAVQVCtR",
        "colab_type": "code",
        "outputId": "6d8edf4f-15a9-443b-a0f8-82b4ad87bfb1",
        "colab": {
          "base_uri": "https://localhost:8080/",
          "height": 34
        }
      },
      "source": [
        "trainingSummary.accuracy"
      ],
      "execution_count": 25,
      "outputs": [
        {
          "output_type": "execute_result",
          "data": {
            "text/plain": [
              "0.8652262310899755"
            ]
          },
          "metadata": {
            "tags": []
          },
          "execution_count": 25
        }
      ]
    },
    {
      "cell_type": "code",
      "metadata": {
        "id": "-F7X0a1YW9sB",
        "colab_type": "code",
        "colab": {}
      },
      "source": [
        "predictions = lrModel.transform(test_df)"
      ],
      "execution_count": 0,
      "outputs": []
    },
    {
      "cell_type": "code",
      "metadata": {
        "id": "2_mrojKMXBG_",
        "colab_type": "code",
        "colab": {
          "base_uri": "https://localhost:8080/",
          "height": 153
        },
        "outputId": "5732ed8e-c86c-4ad2-8735-1ecebf9c5bb7"
      },
      "source": [
        "predictions.columns"
      ],
      "execution_count": 27,
      "outputs": [
        {
          "output_type": "execute_result",
          "data": {
            "text/plain": [
              "['rating',\n",
              " 'body',\n",
              " 'words',\n",
              " 'TF',\n",
              " 'TFIDF',\n",
              " 'rawPrediction',\n",
              " 'probability',\n",
              " 'prediction']"
            ]
          },
          "metadata": {
            "tags": []
          },
          "execution_count": 27
        }
      ]
    },
    {
      "cell_type": "code",
      "metadata": {
        "id": "HxiHCItNXqEW",
        "colab_type": "code",
        "colab": {}
      },
      "source": [
        "from pyspark.ml.evaluation import MulticlassClassificationEvaluator\n",
        "evaluator = MulticlassClassificationEvaluator(\n",
        "    labelCol = 'rating', predictionCol = 'prediction', metricName = 'accuracy')"
      ],
      "execution_count": 0,
      "outputs": []
    },
    {
      "cell_type": "markdown",
      "metadata": {
        "id": "t7k2x6IVYCSL",
        "colab_type": "text"
      },
      "source": [
        "This is the accuracy for the test set. Only 0.68, not great."
      ]
    },
    {
      "cell_type": "code",
      "metadata": {
        "id": "wWdafXE9X8Hc",
        "colab_type": "code",
        "colab": {
          "base_uri": "https://localhost:8080/",
          "height": 34
        },
        "outputId": "a12310ca-4895-49ef-a3b0-a4123e24ba16"
      },
      "source": [
        "evaluator.evaluate(predictions)"
      ],
      "execution_count": 30,
      "outputs": [
        {
          "output_type": "execute_result",
          "data": {
            "text/plain": [
              "0.6840999959613909"
            ]
          },
          "metadata": {
            "tags": []
          },
          "execution_count": 30
        }
      ]
    },
    {
      "cell_type": "markdown",
      "metadata": {
        "id": "1iXCFUrVvfwc",
        "colab_type": "text"
      },
      "source": [
        "Maybe try again with 100 iterations."
      ]
    },
    {
      "cell_type": "code",
      "metadata": {
        "id": "FuRGg8PXuMl0",
        "colab_type": "code",
        "colab": {}
      },
      "source": [
        "lr2 = LogisticRegression(featuresCol = 'TFIDF', labelCol = 'rating', maxIter = 100)\n",
        "lrModel2 = lr2.fit(train_df)"
      ],
      "execution_count": 0,
      "outputs": []
    },
    {
      "cell_type": "code",
      "metadata": {
        "id": "z0SisAw9uYLV",
        "colab_type": "code",
        "colab": {
          "base_uri": "https://localhost:8080/",
          "height": 34
        },
        "outputId": "0db4ba80-bdec-4372-cb4c-d686b1a34caa"
      },
      "source": [
        "predictions2 = lrModel2.transform(test_df)\n",
        "print(\"The accuracy is: \", evaluator.evaluate(predictions2))"
      ],
      "execution_count": 32,
      "outputs": [
        {
          "output_type": "stream",
          "text": [
            "The accuracy is:  0.6292960704333428\n"
          ],
          "name": "stdout"
        }
      ]
    },
    {
      "cell_type": "markdown",
      "metadata": {
        "id": "7VbBT3bWvjC9",
        "colab_type": "text"
      },
      "source": [
        "The accuracy on the test set is lower than before. This may be the model is overfitting the training data."
      ]
    },
    {
      "cell_type": "markdown",
      "metadata": {
        "id": "0uCORtlenTGs",
        "colab_type": "text"
      },
      "source": [
        "Use col function to change the column name. It is not necessary but just a practice and consistent with what people tend to use in the field."
      ]
    },
    {
      "cell_type": "code",
      "metadata": {
        "id": "eBJhBl5tZQe0",
        "colab_type": "code",
        "colab": {}
      },
      "source": [
        "from pyspark.ml.classification import RandomForestClassifier\n",
        "RF = RandomForestClassifier(featuresCol = 'TFIDF', labelCol = 'rating')\n",
        "RF_model = RF.fit(train_df)"
      ],
      "execution_count": 0,
      "outputs": []
    },
    {
      "cell_type": "code",
      "metadata": {
        "id": "gEpwi6JznGRs",
        "colab_type": "code",
        "colab": {}
      },
      "source": [
        "RF_predictions = RF_model.transform(test_df)\n"
      ],
      "execution_count": 0,
      "outputs": []
    },
    {
      "cell_type": "code",
      "metadata": {
        "id": "pam4HdMNZrSF",
        "colab_type": "code",
        "colab": {
          "base_uri": "https://localhost:8080/",
          "height": 34
        },
        "outputId": "75033c1c-fa67-48ae-c7ad-fa712e45fb05"
      },
      "source": [
        "evaluator.evaluate(RF_predictions)"
      ],
      "execution_count": 37,
      "outputs": [
        {
          "output_type": "execute_result",
          "data": {
            "text/plain": [
              "0.5446064375429103"
            ]
          },
          "metadata": {
            "tags": []
          },
          "execution_count": 37
        }
      ]
    },
    {
      "cell_type": "markdown",
      "metadata": {
        "id": "idoVnK3bxrOc",
        "colab_type": "text"
      },
      "source": [
        "Again, the accuracy score isn't great. The problem is some machine learning methods don't work with my PySpark libraries for some reason. It's possible that based on the contents of the review, it's not easy to predict the rating and it may require deep learning. I'll come back to try to improve the machine learning."
      ]
    }
  ]
}