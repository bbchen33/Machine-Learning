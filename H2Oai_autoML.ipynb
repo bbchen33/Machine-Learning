{
  "nbformat": 4,
  "nbformat_minor": 0,
  "metadata": {
    "colab": {
      "name": "Untitled2.ipynb",
      "provenance": [],
      "include_colab_link": true
    },
    "kernelspec": {
      "name": "python3",
      "display_name": "Python 3"
    },
    "accelerator": "GPU"
  },
  "cells": [
    {
      "cell_type": "markdown",
      "metadata": {
        "id": "view-in-github",
        "colab_type": "text"
      },
      "source": [
        "<a href=\"https://colab.research.google.com/github/bbchen33/Machine-Learning/blob/master/H2Oai_autoML.ipynb\" target=\"_parent\"><img src=\"https://colab.research.google.com/assets/colab-badge.svg\" alt=\"Open In Colab\"/></a>"
      ]
    },
    {
      "cell_type": "code",
      "metadata": {
        "id": "EF6OzxrwjF3_",
        "colab_type": "code",
        "outputId": "934c1d1c-8bda-4319-a015-a5afa523f05e",
        "colab": {
          "base_uri": "https://localhost:8080/",
          "height": 224
        }
      },
      "source": [
        "!pip install requests\n",
        "!pip install tabulate\n",
        "!pip install \"colorama>=0.3.8\"\n",
        "!pip install future"
      ],
      "execution_count": 1,
      "outputs": [
        {
          "output_type": "stream",
          "text": [
            "Requirement already satisfied: requests in /usr/local/lib/python3.6/dist-packages (2.21.0)\n",
            "Requirement already satisfied: idna<2.9,>=2.5 in /usr/local/lib/python3.6/dist-packages (from requests) (2.8)\n",
            "Requirement already satisfied: certifi>=2017.4.17 in /usr/local/lib/python3.6/dist-packages (from requests) (2019.9.11)\n",
            "Requirement already satisfied: urllib3<1.25,>=1.21.1 in /usr/local/lib/python3.6/dist-packages (from requests) (1.24.3)\n",
            "Requirement already satisfied: chardet<3.1.0,>=3.0.2 in /usr/local/lib/python3.6/dist-packages (from requests) (3.0.4)\n",
            "Requirement already satisfied: tabulate in /usr/local/lib/python3.6/dist-packages (0.8.5)\n",
            "Collecting colorama>=0.3.8\n",
            "  Downloading https://files.pythonhosted.org/packages/4f/a6/728666f39bfff1719fc94c481890b2106837da9318031f71a8424b662e12/colorama-0.4.1-py2.py3-none-any.whl\n",
            "Installing collected packages: colorama\n",
            "Successfully installed colorama-0.4.1\n",
            "Requirement already satisfied: future in /usr/local/lib/python3.6/dist-packages (0.16.0)\n"
          ],
          "name": "stdout"
        }
      ]
    },
    {
      "cell_type": "code",
      "metadata": {
        "id": "ghULpZ-wjUiZ",
        "colab_type": "code",
        "outputId": "057a2978-bd57-4ba6-c89b-295ffa6b25c7",
        "colab": {
          "base_uri": "https://localhost:8080/",
          "height": 377
        }
      },
      "source": [
        "!pip install -f http://h2o-release.s3.amazonaws.com/h2o/latest_stable_Py.html h2o"
      ],
      "execution_count": 2,
      "outputs": [
        {
          "output_type": "stream",
          "text": [
            "Looking in links: http://h2o-release.s3.amazonaws.com/h2o/latest_stable_Py.html\n",
            "Collecting h2o\n",
            "\u001b[33m  WARNING: The repository located at h2o-release.s3.amazonaws.com is not a trusted or secure host and is being ignored. If this repository is available via HTTPS we recommend you use HTTPS instead, otherwise you may silence this warning and allow it anyway with '--trusted-host h2o-release.s3.amazonaws.com'.\u001b[0m\n",
            "\u001b[?25l  Downloading https://files.pythonhosted.org/packages/ff/24/c20dc233e0d85b36a66544377c01c2740219a74f78f82872f2f503a39774/h2o-3.26.0.6.tar.gz (123.6MB)\n",
            "\u001b[K     |████████████████████████████████| 123.6MB 30.4MB/s \n",
            "\u001b[?25hRequirement already satisfied: requests in /usr/local/lib/python3.6/dist-packages (from h2o) (2.21.0)\n",
            "Requirement already satisfied: tabulate in /usr/local/lib/python3.6/dist-packages (from h2o) (0.8.5)\n",
            "Requirement already satisfied: future in /usr/local/lib/python3.6/dist-packages (from h2o) (0.16.0)\n",
            "Requirement already satisfied: colorama>=0.3.8 in /usr/local/lib/python3.6/dist-packages (from h2o) (0.4.1)\n",
            "Requirement already satisfied: chardet<3.1.0,>=3.0.2 in /usr/local/lib/python3.6/dist-packages (from requests->h2o) (3.0.4)\n",
            "Requirement already satisfied: certifi>=2017.4.17 in /usr/local/lib/python3.6/dist-packages (from requests->h2o) (2019.9.11)\n",
            "Requirement already satisfied: urllib3<1.25,>=1.21.1 in /usr/local/lib/python3.6/dist-packages (from requests->h2o) (1.24.3)\n",
            "Requirement already satisfied: idna<2.9,>=2.5 in /usr/local/lib/python3.6/dist-packages (from requests->h2o) (2.8)\n",
            "Building wheels for collected packages: h2o\n",
            "  Building wheel for h2o (setup.py) ... \u001b[?25l\u001b[?25hdone\n",
            "  Created wheel for h2o: filename=h2o-3.26.0.6-py2.py3-none-any.whl size=123690782 sha256=5fefe48c7ba71782d9d3c5f51fda2892794b66e8ce96add46a883407a71c10a4\n",
            "  Stored in directory: /root/.cache/pip/wheels/eb/1a/72/252857fc093eaad70a7f91ddbcabf1dafd38fb5e6c02bcf9b3\n",
            "Successfully built h2o\n",
            "Installing collected packages: h2o\n",
            "Successfully installed h2o-3.26.0.6\n"
          ],
          "name": "stdout"
        }
      ]
    },
    {
      "cell_type": "code",
      "metadata": {
        "id": "UNE2Ryd_jXQc",
        "colab_type": "code",
        "outputId": "bfd8e730-7180-4426-ba12-a03719f4bcf0",
        "colab": {
          "base_uri": "https://localhost:8080/",
          "height": 783
        }
      },
      "source": [
        "import h2o\n",
        "h2o.init()"
      ],
      "execution_count": 3,
      "outputs": [
        {
          "output_type": "stream",
          "text": [
            "Checking whether there is an H2O instance running at http://localhost:54321 ..... not found.\n",
            "Attempting to start a local H2O server...\n",
            "  Java Version: openjdk version \"11.0.4\" 2019-07-16; OpenJDK Runtime Environment (build 11.0.4+11-post-Ubuntu-1ubuntu218.04.3); OpenJDK 64-Bit Server VM (build 11.0.4+11-post-Ubuntu-1ubuntu218.04.3, mixed mode, sharing)\n",
            "  Starting server from /usr/local/lib/python3.6/dist-packages/h2o/backend/bin/h2o.jar\n",
            "  Ice root: /tmp/tmpgibcchnt\n",
            "  JVM stdout: /tmp/tmpgibcchnt/h2o_unknownUser_started_from_python.out\n",
            "  JVM stderr: /tmp/tmpgibcchnt/h2o_unknownUser_started_from_python.err\n",
            "  Server is running at http://127.0.0.1:54321\n",
            "Connecting to H2O server at http://127.0.0.1:54321 ... successful.\n"
          ],
          "name": "stdout"
        },
        {
          "output_type": "display_data",
          "data": {
            "text/html": [
              "<div style=\"overflow:auto\"><table style=\"width:50%\"><tr><td>H2O cluster uptime:</td>\n",
              "<td>02 secs</td></tr>\n",
              "<tr><td>H2O cluster timezone:</td>\n",
              "<td>Etc/UTC</td></tr>\n",
              "<tr><td>H2O data parsing timezone:</td>\n",
              "<td>UTC</td></tr>\n",
              "<tr><td>H2O cluster version:</td>\n",
              "<td>3.26.0.6</td></tr>\n",
              "<tr><td>H2O cluster version age:</td>\n",
              "<td>9 days </td></tr>\n",
              "<tr><td>H2O cluster name:</td>\n",
              "<td>H2O_from_python_unknownUser_bjpp37</td></tr>\n",
              "<tr><td>H2O cluster total nodes:</td>\n",
              "<td>1</td></tr>\n",
              "<tr><td>H2O cluster free memory:</td>\n",
              "<td>2.938 Gb</td></tr>\n",
              "<tr><td>H2O cluster total cores:</td>\n",
              "<td>2</td></tr>\n",
              "<tr><td>H2O cluster allowed cores:</td>\n",
              "<td>2</td></tr>\n",
              "<tr><td>H2O cluster status:</td>\n",
              "<td>accepting new members, healthy</td></tr>\n",
              "<tr><td>H2O connection url:</td>\n",
              "<td>http://127.0.0.1:54321</td></tr>\n",
              "<tr><td>H2O connection proxy:</td>\n",
              "<td>None</td></tr>\n",
              "<tr><td>H2O internal security:</td>\n",
              "<td>False</td></tr>\n",
              "<tr><td>H2O API Extensions:</td>\n",
              "<td>Amazon S3, XGBoost, Algos, AutoML, Core V3, TargetEncoder, Core V4</td></tr>\n",
              "<tr><td>Python version:</td>\n",
              "<td>3.6.8 final</td></tr></table></div>"
            ],
            "text/plain": [
              "--------------------------  ------------------------------------------------------------------\n",
              "H2O cluster uptime:         02 secs\n",
              "H2O cluster timezone:       Etc/UTC\n",
              "H2O data parsing timezone:  UTC\n",
              "H2O cluster version:        3.26.0.6\n",
              "H2O cluster version age:    9 days\n",
              "H2O cluster name:           H2O_from_python_unknownUser_bjpp37\n",
              "H2O cluster total nodes:    1\n",
              "H2O cluster free memory:    2.938 Gb\n",
              "H2O cluster total cores:    2\n",
              "H2O cluster allowed cores:  2\n",
              "H2O cluster status:         accepting new members, healthy\n",
              "H2O connection url:         http://127.0.0.1:54321\n",
              "H2O connection proxy:\n",
              "H2O internal security:      False\n",
              "H2O API Extensions:         Amazon S3, XGBoost, Algos, AutoML, Core V3, TargetEncoder, Core V4\n",
              "Python version:             3.6.8 final\n",
              "--------------------------  ------------------------------------------------------------------"
            ]
          },
          "metadata": {
            "tags": []
          }
        }
      ]
    },
    {
      "cell_type": "code",
      "metadata": {
        "id": "pkrKFvzrnolP",
        "colab_type": "code",
        "outputId": "fac22df9-d082-4d92-b006-f3c6dd7ae359",
        "colab": {
          "base_uri": "https://localhost:8080/",
          "height": 224
        }
      },
      "source": [
        "!wget https://archive.ics.uci.edu/ml/machine-learning-databases/00419/Autism-Screening-Child-Data%20Plus%20Description.zip"
      ],
      "execution_count": 4,
      "outputs": [
        {
          "output_type": "stream",
          "text": [
            "--2019-10-11 16:26:13--  https://archive.ics.uci.edu/ml/machine-learning-databases/00419/Autism-Screening-Child-Data%20Plus%20Description.zip\n",
            "Resolving archive.ics.uci.edu (archive.ics.uci.edu)... 128.195.10.252\n",
            "Connecting to archive.ics.uci.edu (archive.ics.uci.edu)|128.195.10.252|:443... connected.\n",
            "HTTP request sent, awaiting response... 200 OK\n",
            "Length: 40081 (39K) [application/x-httpd-php]\n",
            "Saving to: ‘Autism-Screening-Child-Data Plus Description.zip’\n",
            "\n",
            "Autism-Screening-Ch 100%[===================>]  39.14K  --.-KB/s    in 0.04s   \n",
            "\n",
            "2019-10-11 16:26:13 (951 KB/s) - ‘Autism-Screening-Child-Data Plus Description.zip’ saved [40081/40081]\n",
            "\n"
          ],
          "name": "stdout"
        }
      ]
    },
    {
      "cell_type": "code",
      "metadata": {
        "id": "GFsfExUBnzfn",
        "colab_type": "code",
        "outputId": "b97823d8-ca6b-4c89-a28a-0993cf030a2f",
        "colab": {
          "base_uri": "https://localhost:8080/",
          "height": 68
        }
      },
      "source": [
        "!unzip 'Autism-Screening-Child-Data Plus Description.zip'"
      ],
      "execution_count": 5,
      "outputs": [
        {
          "output_type": "stream",
          "text": [
            "Archive:  Autism-Screening-Child-Data Plus Description.zip\n",
            "  inflating: Autism-Child-Data.arff  \n",
            "  inflating: Autism-Screening-Child-Data Description.docx  \n"
          ],
          "name": "stdout"
        }
      ]
    },
    {
      "cell_type": "code",
      "metadata": {
        "id": "gROm7gaWnvVO",
        "colab_type": "code",
        "outputId": "ef241373-f9aa-4b5f-fc45-ac0874248720",
        "colab": {
          "base_uri": "https://localhost:8080/",
          "height": 85
        }
      },
      "source": [
        "!ls"
      ],
      "execution_count": 6,
      "outputs": [
        {
          "output_type": "stream",
          "text": [
            " Autism-Child-Data.arff\n",
            "'Autism-Screening-Child-Data Description.docx'\n",
            "'Autism-Screening-Child-Data Plus Description.zip'\n",
            " sample_data\n"
          ],
          "name": "stdout"
        }
      ]
    },
    {
      "cell_type": "code",
      "metadata": {
        "id": "ZYVZelDUn3Ns",
        "colab_type": "code",
        "outputId": "9a38cefb-47a8-42ce-be5e-ab85c73cc534",
        "colab": {
          "base_uri": "https://localhost:8080/",
          "height": 457
        }
      },
      "source": [
        "df = h2o.import_file('Autism-Child-Data.arff')\n",
        "df.head()"
      ],
      "execution_count": 7,
      "outputs": [
        {
          "output_type": "stream",
          "text": [
            "Parse progress: |█████████████████████████████████████████████████████████| 100%\n"
          ],
          "name": "stdout"
        },
        {
          "output_type": "display_data",
          "data": {
            "text/html": [
              "<table>\n",
              "<thead>\n",
              "<tr><th style=\"text-align: right;\">  A1_Score</th><th style=\"text-align: right;\">  A2_Score</th><th style=\"text-align: right;\">  A3_Score</th><th style=\"text-align: right;\">  A4_Score</th><th style=\"text-align: right;\">  A5_Score</th><th style=\"text-align: right;\">  A6_Score</th><th style=\"text-align: right;\">  A7_Score</th><th style=\"text-align: right;\">  A8_Score</th><th style=\"text-align: right;\">  A9_Score</th><th style=\"text-align: right;\">  A10_Score</th><th style=\"text-align: right;\">  age</th><th>gender  </th><th>ethnicity        </th><th>jundice  </th><th>austim  </th><th>contry_of_res   </th><th>used_app_before  </th><th style=\"text-align: right;\">  result</th><th>age_desc    </th><th>relation  </th><th>Class/ASD  </th></tr>\n",
              "</thead>\n",
              "<tbody>\n",
              "<tr><td style=\"text-align: right;\">         1</td><td style=\"text-align: right;\">         1</td><td style=\"text-align: right;\">         0</td><td style=\"text-align: right;\">         0</td><td style=\"text-align: right;\">         1</td><td style=\"text-align: right;\">         1</td><td style=\"text-align: right;\">         0</td><td style=\"text-align: right;\">         1</td><td style=\"text-align: right;\">         0</td><td style=\"text-align: right;\">          0</td><td style=\"text-align: right;\">    6</td><td>m       </td><td>Others           </td><td>no       </td><td>no      </td><td>Jordan          </td><td>no               </td><td style=\"text-align: right;\">       5</td><td>'4-11 years'</td><td>Parent    </td><td>NO         </td></tr>\n",
              "<tr><td style=\"text-align: right;\">         1</td><td style=\"text-align: right;\">         1</td><td style=\"text-align: right;\">         0</td><td style=\"text-align: right;\">         0</td><td style=\"text-align: right;\">         1</td><td style=\"text-align: right;\">         1</td><td style=\"text-align: right;\">         0</td><td style=\"text-align: right;\">         1</td><td style=\"text-align: right;\">         0</td><td style=\"text-align: right;\">          0</td><td style=\"text-align: right;\">    6</td><td>m       </td><td>'Middle Eastern '</td><td>no       </td><td>no      </td><td>Jordan          </td><td>no               </td><td style=\"text-align: right;\">       5</td><td>'4-11 years'</td><td>Parent    </td><td>NO         </td></tr>\n",
              "<tr><td style=\"text-align: right;\">         1</td><td style=\"text-align: right;\">         1</td><td style=\"text-align: right;\">         0</td><td style=\"text-align: right;\">         0</td><td style=\"text-align: right;\">         0</td><td style=\"text-align: right;\">         1</td><td style=\"text-align: right;\">         1</td><td style=\"text-align: right;\">         1</td><td style=\"text-align: right;\">         0</td><td style=\"text-align: right;\">          0</td><td style=\"text-align: right;\">    6</td><td>m       </td><td>                 </td><td>no       </td><td>no      </td><td>Jordan          </td><td>yes              </td><td style=\"text-align: right;\">       5</td><td>'4-11 years'</td><td>          </td><td>NO         </td></tr>\n",
              "<tr><td style=\"text-align: right;\">         0</td><td style=\"text-align: right;\">         1</td><td style=\"text-align: right;\">         0</td><td style=\"text-align: right;\">         0</td><td style=\"text-align: right;\">         1</td><td style=\"text-align: right;\">         1</td><td style=\"text-align: right;\">         0</td><td style=\"text-align: right;\">         0</td><td style=\"text-align: right;\">         0</td><td style=\"text-align: right;\">          1</td><td style=\"text-align: right;\">    5</td><td>f       </td><td>                 </td><td>yes      </td><td>no      </td><td>Jordan          </td><td>no               </td><td style=\"text-align: right;\">       4</td><td>'4-11 years'</td><td>          </td><td>NO         </td></tr>\n",
              "<tr><td style=\"text-align: right;\">         1</td><td style=\"text-align: right;\">         1</td><td style=\"text-align: right;\">         1</td><td style=\"text-align: right;\">         1</td><td style=\"text-align: right;\">         1</td><td style=\"text-align: right;\">         1</td><td style=\"text-align: right;\">         1</td><td style=\"text-align: right;\">         1</td><td style=\"text-align: right;\">         1</td><td style=\"text-align: right;\">          1</td><td style=\"text-align: right;\">    5</td><td>m       </td><td>Others           </td><td>yes      </td><td>no      </td><td>'United States' </td><td>no               </td><td style=\"text-align: right;\">      10</td><td>'4-11 years'</td><td>Parent    </td><td>YES        </td></tr>\n",
              "<tr><td style=\"text-align: right;\">         0</td><td style=\"text-align: right;\">         0</td><td style=\"text-align: right;\">         1</td><td style=\"text-align: right;\">         0</td><td style=\"text-align: right;\">         1</td><td style=\"text-align: right;\">         1</td><td style=\"text-align: right;\">         0</td><td style=\"text-align: right;\">         1</td><td style=\"text-align: right;\">         0</td><td style=\"text-align: right;\">          1</td><td style=\"text-align: right;\">    4</td><td>m       </td><td>                 </td><td>no       </td><td>yes     </td><td>Egypt           </td><td>no               </td><td style=\"text-align: right;\">       5</td><td>'4-11 years'</td><td>          </td><td>NO         </td></tr>\n",
              "<tr><td style=\"text-align: right;\">         1</td><td style=\"text-align: right;\">         0</td><td style=\"text-align: right;\">         1</td><td style=\"text-align: right;\">         1</td><td style=\"text-align: right;\">         1</td><td style=\"text-align: right;\">         1</td><td style=\"text-align: right;\">         0</td><td style=\"text-align: right;\">         1</td><td style=\"text-align: right;\">         0</td><td style=\"text-align: right;\">          1</td><td style=\"text-align: right;\">    5</td><td>m       </td><td>White-European   </td><td>no       </td><td>no      </td><td>'United Kingdom'</td><td>no               </td><td style=\"text-align: right;\">       7</td><td>'4-11 years'</td><td>Parent    </td><td>YES        </td></tr>\n",
              "<tr><td style=\"text-align: right;\">         1</td><td style=\"text-align: right;\">         1</td><td style=\"text-align: right;\">         1</td><td style=\"text-align: right;\">         1</td><td style=\"text-align: right;\">         1</td><td style=\"text-align: right;\">         1</td><td style=\"text-align: right;\">         1</td><td style=\"text-align: right;\">         1</td><td style=\"text-align: right;\">         0</td><td style=\"text-align: right;\">          0</td><td style=\"text-align: right;\">    5</td><td>f       </td><td>'Middle Eastern '</td><td>no       </td><td>no      </td><td>Bahrain         </td><td>no               </td><td style=\"text-align: right;\">       8</td><td>'4-11 years'</td><td>Parent    </td><td>YES        </td></tr>\n",
              "<tr><td style=\"text-align: right;\">         1</td><td style=\"text-align: right;\">         1</td><td style=\"text-align: right;\">         1</td><td style=\"text-align: right;\">         1</td><td style=\"text-align: right;\">         1</td><td style=\"text-align: right;\">         1</td><td style=\"text-align: right;\">         1</td><td style=\"text-align: right;\">         0</td><td style=\"text-align: right;\">         0</td><td style=\"text-align: right;\">          0</td><td style=\"text-align: right;\">   11</td><td>f       </td><td>'Middle Eastern '</td><td>no       </td><td>no      </td><td>Bahrain         </td><td>no               </td><td style=\"text-align: right;\">       7</td><td>'4-11 years'</td><td>Parent    </td><td>YES        </td></tr>\n",
              "<tr><td style=\"text-align: right;\">         0</td><td style=\"text-align: right;\">         0</td><td style=\"text-align: right;\">         1</td><td style=\"text-align: right;\">         1</td><td style=\"text-align: right;\">         1</td><td style=\"text-align: right;\">         0</td><td style=\"text-align: right;\">         1</td><td style=\"text-align: right;\">         1</td><td style=\"text-align: right;\">         0</td><td style=\"text-align: right;\">          0</td><td style=\"text-align: right;\">   11</td><td>f       </td><td>                 </td><td>no       </td><td>yes     </td><td>Austria         </td><td>no               </td><td style=\"text-align: right;\">       5</td><td>'4-11 years'</td><td>          </td><td>NO         </td></tr>\n",
              "</tbody>\n",
              "</table>"
            ]
          },
          "metadata": {
            "tags": []
          }
        },
        {
          "output_type": "execute_result",
          "data": {
            "text/plain": [
              ""
            ]
          },
          "metadata": {
            "tags": []
          },
          "execution_count": 7
        }
      ]
    },
    {
      "cell_type": "code",
      "metadata": {
        "id": "n_vFce5ToiD3",
        "colab_type": "code",
        "outputId": "949fa39d-aeed-4d95-d0fe-027504cde66e",
        "colab": {
          "base_uri": "https://localhost:8080/",
          "height": 655
        }
      },
      "source": [
        "df.describe()"
      ],
      "execution_count": 8,
      "outputs": [
        {
          "output_type": "stream",
          "text": [
            "Rows:292\n",
            "Cols:21\n",
            "\n",
            "\n"
          ],
          "name": "stdout"
        },
        {
          "output_type": "display_data",
          "data": {
            "text/html": [
              "<table>\n",
              "<thead>\n",
              "<tr><th>       </th><th>A1_Score  </th><th>A2_Score  </th><th>A3_Score  </th><th>A4_Score  </th><th>A5_Score  </th><th>A6_Score  </th><th>A7_Score  </th><th>A8_Score  </th><th>A9_Score  </th><th>A10_Score  </th><th>age               </th><th>gender  </th><th>ethnicity        </th><th>jundice  </th><th>austim  </th><th>contry_of_res   </th><th>used_app_before  </th><th>result            </th><th>age_desc    </th><th>relation  </th><th>Class/ASD  </th></tr>\n",
              "</thead>\n",
              "<tbody>\n",
              "<tr><td>type   </td><td>enum      </td><td>enum      </td><td>enum      </td><td>enum      </td><td>enum      </td><td>enum      </td><td>enum      </td><td>enum      </td><td>enum      </td><td>enum       </td><td>int               </td><td>enum    </td><td>enum             </td><td>enum     </td><td>enum    </td><td>enum            </td><td>enum             </td><td>int               </td><td>enum        </td><td>enum      </td><td>enum       </td></tr>\n",
              "<tr><td>mins   </td><td>          </td><td>          </td><td>          </td><td>          </td><td>          </td><td>          </td><td>          </td><td>          </td><td>          </td><td>           </td><td>4.0               </td><td>        </td><td>                 </td><td>         </td><td>        </td><td>                </td><td>                 </td><td>0.0               </td><td>            </td><td>          </td><td>           </td></tr>\n",
              "<tr><td>mean   </td><td>          </td><td>          </td><td>          </td><td>          </td><td>          </td><td>          </td><td>          </td><td>          </td><td>          </td><td>           </td><td>6.354166666666665 </td><td>        </td><td>                 </td><td>         </td><td>        </td><td>                </td><td>                 </td><td>6.2397260273972615</td><td>            </td><td>          </td><td>           </td></tr>\n",
              "<tr><td>maxs   </td><td>          </td><td>          </td><td>          </td><td>          </td><td>          </td><td>          </td><td>          </td><td>          </td><td>          </td><td>           </td><td>11.0              </td><td>        </td><td>                 </td><td>         </td><td>        </td><td>                </td><td>                 </td><td>10.0              </td><td>            </td><td>          </td><td>           </td></tr>\n",
              "<tr><td>sigma  </td><td>          </td><td>          </td><td>          </td><td>          </td><td>          </td><td>          </td><td>          </td><td>          </td><td>          </td><td>           </td><td>2.3654562509717483</td><td>        </td><td>                 </td><td>         </td><td>        </td><td>                </td><td>                 </td><td>2.2848817170180924</td><td>            </td><td>          </td><td>           </td></tr>\n",
              "<tr><td>zeros  </td><td>          </td><td>          </td><td>          </td><td>          </td><td>          </td><td>          </td><td>          </td><td>          </td><td>          </td><td>           </td><td>0                 </td><td>        </td><td>                 </td><td>         </td><td>        </td><td>                </td><td>                 </td><td>1                 </td><td>            </td><td>          </td><td>           </td></tr>\n",
              "<tr><td>missing</td><td>0         </td><td>0         </td><td>0         </td><td>0         </td><td>0         </td><td>0         </td><td>0         </td><td>0         </td><td>0         </td><td>0          </td><td>4                 </td><td>0       </td><td>43               </td><td>0        </td><td>0       </td><td>0               </td><td>0                </td><td>0                 </td><td>0           </td><td>43        </td><td>0          </td></tr>\n",
              "<tr><td>0      </td><td>1         </td><td>1         </td><td>0         </td><td>0         </td><td>1         </td><td>1         </td><td>0         </td><td>1         </td><td>0         </td><td>0          </td><td>6.0               </td><td>m       </td><td>Others           </td><td>no       </td><td>no      </td><td>Jordan          </td><td>no               </td><td>5.0               </td><td>'4-11 years'</td><td>Parent    </td><td>NO         </td></tr>\n",
              "<tr><td>1      </td><td>1         </td><td>1         </td><td>0         </td><td>0         </td><td>1         </td><td>1         </td><td>0         </td><td>1         </td><td>0         </td><td>0          </td><td>6.0               </td><td>m       </td><td>'Middle Eastern '</td><td>no       </td><td>no      </td><td>Jordan          </td><td>no               </td><td>5.0               </td><td>'4-11 years'</td><td>Parent    </td><td>NO         </td></tr>\n",
              "<tr><td>2      </td><td>1         </td><td>1         </td><td>0         </td><td>0         </td><td>0         </td><td>1         </td><td>1         </td><td>1         </td><td>0         </td><td>0          </td><td>6.0               </td><td>m       </td><td>                 </td><td>no       </td><td>no      </td><td>Jordan          </td><td>yes              </td><td>5.0               </td><td>'4-11 years'</td><td>          </td><td>NO         </td></tr>\n",
              "<tr><td>3      </td><td>0         </td><td>1         </td><td>0         </td><td>0         </td><td>1         </td><td>1         </td><td>0         </td><td>0         </td><td>0         </td><td>1          </td><td>5.0               </td><td>f       </td><td>                 </td><td>yes      </td><td>no      </td><td>Jordan          </td><td>no               </td><td>4.0               </td><td>'4-11 years'</td><td>          </td><td>NO         </td></tr>\n",
              "<tr><td>4      </td><td>1         </td><td>1         </td><td>1         </td><td>1         </td><td>1         </td><td>1         </td><td>1         </td><td>1         </td><td>1         </td><td>1          </td><td>5.0               </td><td>m       </td><td>Others           </td><td>yes      </td><td>no      </td><td>'United States' </td><td>no               </td><td>10.0              </td><td>'4-11 years'</td><td>Parent    </td><td>YES        </td></tr>\n",
              "<tr><td>5      </td><td>0         </td><td>0         </td><td>1         </td><td>0         </td><td>1         </td><td>1         </td><td>0         </td><td>1         </td><td>0         </td><td>1          </td><td>4.0               </td><td>m       </td><td>                 </td><td>no       </td><td>yes     </td><td>Egypt           </td><td>no               </td><td>5.0               </td><td>'4-11 years'</td><td>          </td><td>NO         </td></tr>\n",
              "<tr><td>6      </td><td>1         </td><td>0         </td><td>1         </td><td>1         </td><td>1         </td><td>1         </td><td>0         </td><td>1         </td><td>0         </td><td>1          </td><td>5.0               </td><td>m       </td><td>White-European   </td><td>no       </td><td>no      </td><td>'United Kingdom'</td><td>no               </td><td>7.0               </td><td>'4-11 years'</td><td>Parent    </td><td>YES        </td></tr>\n",
              "<tr><td>7      </td><td>1         </td><td>1         </td><td>1         </td><td>1         </td><td>1         </td><td>1         </td><td>1         </td><td>1         </td><td>0         </td><td>0          </td><td>5.0               </td><td>f       </td><td>'Middle Eastern '</td><td>no       </td><td>no      </td><td>Bahrain         </td><td>no               </td><td>8.0               </td><td>'4-11 years'</td><td>Parent    </td><td>YES        </td></tr>\n",
              "<tr><td>8      </td><td>1         </td><td>1         </td><td>1         </td><td>1         </td><td>1         </td><td>1         </td><td>1         </td><td>0         </td><td>0         </td><td>0          </td><td>11.0              </td><td>f       </td><td>'Middle Eastern '</td><td>no       </td><td>no      </td><td>Bahrain         </td><td>no               </td><td>7.0               </td><td>'4-11 years'</td><td>Parent    </td><td>YES        </td></tr>\n",
              "<tr><td>9      </td><td>0         </td><td>0         </td><td>1         </td><td>1         </td><td>1         </td><td>0         </td><td>1         </td><td>1         </td><td>0         </td><td>0          </td><td>11.0              </td><td>f       </td><td>                 </td><td>no       </td><td>yes     </td><td>Austria         </td><td>no               </td><td>5.0               </td><td>'4-11 years'</td><td>          </td><td>NO         </td></tr>\n",
              "</tbody>\n",
              "</table>"
            ]
          },
          "metadata": {
            "tags": []
          }
        }
      ]
    },
    {
      "cell_type": "code",
      "metadata": {
        "id": "KOIzo2MBpfQt",
        "colab_type": "code",
        "colab": {}
      },
      "source": [
        "df['Class/ASD'] = df['Class/ASD'].asfactor()\n"
      ],
      "execution_count": 0,
      "outputs": []
    },
    {
      "cell_type": "code",
      "metadata": {
        "id": "X4STGkvjry8W",
        "colab_type": "code",
        "colab": {}
      },
      "source": [
        "df_split = df.split_frame(ratios = [0.7])\n",
        "df_train = df_split[0]\n",
        "df_test = df_split[1]"
      ],
      "execution_count": 0,
      "outputs": []
    },
    {
      "cell_type": "code",
      "metadata": {
        "id": "ah96Ntogsium",
        "colab_type": "code",
        "colab": {}
      },
      "source": [
        "feature_columns = df.columns\n",
        "feature_columns.remove('Class/ASD')\n",
        "y_column = 'Class/ASD'"
      ],
      "execution_count": 0,
      "outputs": []
    },
    {
      "cell_type": "code",
      "metadata": {
        "id": "raqChGKcsqTt",
        "colab_type": "code",
        "outputId": "51b09cfb-4f06-4c36-ed4b-94de2030a428",
        "colab": {
          "base_uri": "https://localhost:8080/",
          "height": 54
        }
      },
      "source": [
        "print(feature_columns)"
      ],
      "execution_count": 0,
      "outputs": [
        {
          "output_type": "stream",
          "text": [
            "['A1_Score', 'A2_Score', 'A3_Score', 'A4_Score', 'A5_Score', 'A6_Score', 'A7_Score', 'A8_Score', 'A9_Score', 'A10_Score', 'age', 'gender', 'ethnicity', 'jundice', 'austim', 'contry_of_res', 'used_app_before', 'result', 'age_desc', 'relation']\n"
          ],
          "name": "stdout"
        }
      ]
    },
    {
      "cell_type": "code",
      "metadata": {
        "id": "jU3eLx4ippH8",
        "colab_type": "code",
        "outputId": "db98ef6a-6dd4-4272-9f69-1762407564bc",
        "colab": {
          "base_uri": "https://localhost:8080/",
          "height": 34
        }
      },
      "source": [
        "from h2o.automl import H2OAutoML\n",
        "model1 = H2OAutoML(max_models = 10, max_runtime_secs = 60)\n",
        "model1.train(x = feature_columns, y = y_column, training_frame = df_train)"
      ],
      "execution_count": 12,
      "outputs": [
        {
          "output_type": "stream",
          "text": [
            "AutoML progress: |████████████████████████████████████████████████████████| 100%\n"
          ],
          "name": "stdout"
        }
      ]
    },
    {
      "cell_type": "code",
      "metadata": {
        "id": "hZCjeGBNrKzz",
        "colab_type": "code",
        "outputId": "e4ca965e-c30b-494a-c321-565d2c19e9ce",
        "colab": {
          "base_uri": "https://localhost:8080/",
          "height": 250
        }
      },
      "source": [
        "model1.leaderboard"
      ],
      "execution_count": 13,
      "outputs": [
        {
          "output_type": "display_data",
          "data": {
            "text/html": [
              "<table>\n",
              "<thead>\n",
              "<tr><th>model_id                                           </th><th style=\"text-align: right;\">  auc</th><th style=\"text-align: right;\">    logloss</th><th style=\"text-align: right;\">  mean_per_class_error</th><th style=\"text-align: right;\">       rmse</th><th style=\"text-align: right;\">        mse</th></tr>\n",
              "</thead>\n",
              "<tbody>\n",
              "<tr><td>StackedEnsemble_BestOfFamily_AutoML_20191011_162637</td><td style=\"text-align: right;\">    1</td><td style=\"text-align: right;\">0.00198064 </td><td style=\"text-align: right;\">                     0</td><td style=\"text-align: right;\">0.00289243 </td><td style=\"text-align: right;\">8.36618e-06</td></tr>\n",
              "<tr><td>XGBoost_3_AutoML_20191011_162637                   </td><td style=\"text-align: right;\">    1</td><td style=\"text-align: right;\">0.0504699  </td><td style=\"text-align: right;\">                     0</td><td style=\"text-align: right;\">0.0524431  </td><td style=\"text-align: right;\">0.00275028 </td></tr>\n",
              "<tr><td>XGBoost_1_AutoML_20191011_162637                   </td><td style=\"text-align: right;\">    1</td><td style=\"text-align: right;\">0.124051   </td><td style=\"text-align: right;\">                     0</td><td style=\"text-align: right;\">0.124233   </td><td style=\"text-align: right;\">0.0154337  </td></tr>\n",
              "<tr><td>GBM_1_AutoML_20191011_162637                       </td><td style=\"text-align: right;\">    1</td><td style=\"text-align: right;\">2.26586e-13</td><td style=\"text-align: right;\">                     0</td><td style=\"text-align: right;\">1.89411e-12</td><td style=\"text-align: right;\">3.58765e-24</td></tr>\n",
              "<tr><td>GBM_3_AutoML_20191011_162637                       </td><td style=\"text-align: right;\">    1</td><td style=\"text-align: right;\">3.97304e-14</td><td style=\"text-align: right;\">                     0</td><td style=\"text-align: right;\">4.61197e-13</td><td style=\"text-align: right;\">2.12703e-25</td></tr>\n",
              "<tr><td>GBM_2_AutoML_20191011_162637                       </td><td style=\"text-align: right;\">    1</td><td style=\"text-align: right;\">5.56333e-14</td><td style=\"text-align: right;\">                     0</td><td style=\"text-align: right;\">6.4648e-13 </td><td style=\"text-align: right;\">4.17936e-25</td></tr>\n",
              "<tr><td>XGBoost_2_AutoML_20191011_162637                   </td><td style=\"text-align: right;\">    1</td><td style=\"text-align: right;\">0.30403    </td><td style=\"text-align: right;\">                     0</td><td style=\"text-align: right;\">0.264332   </td><td style=\"text-align: right;\">0.0698715  </td></tr>\n",
              "<tr><td>GBM_4_AutoML_20191011_162637                       </td><td style=\"text-align: right;\">    1</td><td style=\"text-align: right;\">1.7254e-05 </td><td style=\"text-align: right;\">                     0</td><td style=\"text-align: right;\">7.56675e-05</td><td style=\"text-align: right;\">5.72558e-09</td></tr>\n",
              "<tr><td>StackedEnsemble_AllModels_AutoML_20191011_162637   </td><td style=\"text-align: right;\">    1</td><td style=\"text-align: right;\">0.00120549 </td><td style=\"text-align: right;\">                     0</td><td style=\"text-align: right;\">0.00139509 </td><td style=\"text-align: right;\">1.94627e-06</td></tr>\n",
              "<tr><td>DRF_1_AutoML_20191011_162637                       </td><td style=\"text-align: right;\">    1</td><td style=\"text-align: right;\">0.0985634  </td><td style=\"text-align: right;\">                     0</td><td style=\"text-align: right;\">0.127038   </td><td style=\"text-align: right;\">0.0161386  </td></tr>\n",
              "</tbody>\n",
              "</table>"
            ]
          },
          "metadata": {
            "tags": []
          }
        },
        {
          "output_type": "execute_result",
          "data": {
            "text/plain": [
              ""
            ]
          },
          "metadata": {
            "tags": []
          },
          "execution_count": 13
        }
      ]
    },
    {
      "cell_type": "markdown",
      "metadata": {
        "id": "iKDVPT0CtPEJ",
        "colab_type": "text"
      },
      "source": [
        "All of the top models have AUC of 1. Could it be overfitting the train data?"
      ]
    },
    {
      "cell_type": "code",
      "metadata": {
        "id": "TH12pT-Yta48",
        "colab_type": "code",
        "outputId": "a4e7aeb5-5fa9-475d-add8-01833e818891",
        "colab": {
          "base_uri": "https://localhost:8080/",
          "height": 34
        }
      },
      "source": [
        "y_pred = model1.leader.predict(df_test)"
      ],
      "execution_count": 14,
      "outputs": [
        {
          "output_type": "stream",
          "text": [
            "stackedensemble prediction progress: |████████████████████████████████████| 100%\n"
          ],
          "name": "stdout"
        }
      ]
    },
    {
      "cell_type": "code",
      "metadata": {
        "id": "HyRW5gN4y6P3",
        "colab_type": "code",
        "outputId": "62265f7e-a2d4-4da6-f713-7a9f3e553311",
        "colab": {
          "base_uri": "https://localhost:8080/",
          "height": 267
        }
      },
      "source": [
        "print(y_pred)"
      ],
      "execution_count": 15,
      "outputs": [
        {
          "output_type": "display_data",
          "data": {
            "text/html": [
              "<table>\n",
              "<thead>\n",
              "<tr><th>predict  </th><th style=\"text-align: right;\">         NO</th><th style=\"text-align: right;\">       YES</th></tr>\n",
              "</thead>\n",
              "<tbody>\n",
              "<tr><td>NO       </td><td style=\"text-align: right;\">0.998852   </td><td style=\"text-align: right;\">0.00114809</td></tr>\n",
              "<tr><td>YES      </td><td style=\"text-align: right;\">0.000686061</td><td style=\"text-align: right;\">0.999314  </td></tr>\n",
              "<tr><td>YES      </td><td style=\"text-align: right;\">0.00107919 </td><td style=\"text-align: right;\">0.998921  </td></tr>\n",
              "<tr><td>NO       </td><td style=\"text-align: right;\">0.998927   </td><td style=\"text-align: right;\">0.00107281</td></tr>\n",
              "<tr><td>YES      </td><td style=\"text-align: right;\">0.00210779 </td><td style=\"text-align: right;\">0.997892  </td></tr>\n",
              "<tr><td>YES      </td><td style=\"text-align: right;\">0.000689262</td><td style=\"text-align: right;\">0.999311  </td></tr>\n",
              "<tr><td>YES      </td><td style=\"text-align: right;\">0.000623774</td><td style=\"text-align: right;\">0.999376  </td></tr>\n",
              "<tr><td>YES      </td><td style=\"text-align: right;\">0.000699061</td><td style=\"text-align: right;\">0.999301  </td></tr>\n",
              "<tr><td>NO       </td><td style=\"text-align: right;\">0.999406   </td><td style=\"text-align: right;\">0.00059449</td></tr>\n",
              "<tr><td>YES      </td><td style=\"text-align: right;\">0.000792992</td><td style=\"text-align: right;\">0.999207  </td></tr>\n",
              "</tbody>\n",
              "</table>"
            ]
          },
          "metadata": {
            "tags": []
          }
        },
        {
          "output_type": "stream",
          "text": [
            "\n"
          ],
          "name": "stdout"
        }
      ]
    },
    {
      "cell_type": "code",
      "metadata": {
        "id": "Uh26_aJBzQ3V",
        "colab_type": "code",
        "outputId": "31cb489f-4f10-4e11-8f8b-3deb980f26bd",
        "colab": {
          "base_uri": "https://localhost:8080/",
          "height": 51
        }
      },
      "source": [
        "test_feature = df_test['Class/ASD']\n",
        "pred_feature = y_pred['predict']\n",
        "print(test_feature.shape)\n",
        "print(pred_feature.shape)"
      ],
      "execution_count": 16,
      "outputs": [
        {
          "output_type": "stream",
          "text": [
            "(92, 1)\n",
            "(92, 1)\n"
          ],
          "name": "stdout"
        }
      ]
    },
    {
      "cell_type": "code",
      "metadata": {
        "id": "9LxRhqgNzizv",
        "colab_type": "code",
        "colab": {}
      },
      "source": [
        "accuracy = 100*test_feature[test_feature == pred_feature].shape[0]/test_feature.shape[0]"
      ],
      "execution_count": 0,
      "outputs": []
    },
    {
      "cell_type": "code",
      "metadata": {
        "id": "UMiBwYjf0Nr4",
        "colab_type": "code",
        "outputId": "d00173de-e4b6-4b44-866e-dd7f00d76f9d",
        "colab": {
          "base_uri": "https://localhost:8080/",
          "height": 34
        }
      },
      "source": [
        "print(accuracy)"
      ],
      "execution_count": 18,
      "outputs": [
        {
          "output_type": "stream",
          "text": [
            "100.0\n"
          ],
          "name": "stdout"
        }
      ]
    },
    {
      "cell_type": "markdown",
      "metadata": {
        "id": "1ZmT4x9T0QeT",
        "colab_type": "text"
      },
      "source": [
        "Ok. The test accuracy using the trained model also yielded 100% accuracy without much manipulation. That's creepy.\n",
        "Let's try something else. The credit card fraud detection dataset is highly imbalanced. Let's see if h2o can perform well on that dataset too."
      ]
    },
    {
      "cell_type": "code",
      "metadata": {
        "id": "AilYREM0pY58",
        "colab_type": "code",
        "colab": {}
      },
      "source": [
        "from google.colab import files"
      ],
      "execution_count": 0,
      "outputs": []
    },
    {
      "cell_type": "code",
      "metadata": {
        "id": "b7xSS49oplcP",
        "colab_type": "code",
        "colab": {
          "resources": {
            "http://localhost:8080/nbextensions/google.colab/files.js": {
              "data": "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",
              "ok": true,
              "headers": [
                [
                  "content-type",
                  "application/javascript"
                ]
              ],
              "status": 200,
              "status_text": ""
            }
          },
          "base_uri": "https://localhost:8080/",
          "height": 74
        },
        "outputId": "ca389ad3-0681-470f-f96f-eb79a97319d5"
      },
      "source": [
        "uploaded = files.upload()"
      ],
      "execution_count": 35,
      "outputs": [
        {
          "output_type": "display_data",
          "data": {
            "text/html": [
              "\n",
              "     <input type=\"file\" id=\"files-b6ca9a20-cd5e-424e-9c7d-f4324859ed51\" name=\"files[]\" multiple disabled />\n",
              "     <output id=\"result-b6ca9a20-cd5e-424e-9c7d-f4324859ed51\">\n",
              "      Upload widget is only available when the cell has been executed in the\n",
              "      current browser session. Please rerun this cell to enable.\n",
              "      </output>\n",
              "      <script src=\"/nbextensions/google.colab/files.js\"></script> "
            ],
            "text/plain": [
              "<IPython.core.display.HTML object>"
            ]
          },
          "metadata": {
            "tags": []
          }
        },
        {
          "output_type": "stream",
          "text": [
            "Saving creditcardfraud.zip to creditcardfraud.zip\n"
          ],
          "name": "stdout"
        }
      ]
    },
    {
      "cell_type": "code",
      "metadata": {
        "id": "Ofn3SQ0SrxI0",
        "colab_type": "code",
        "colab": {
          "base_uri": "https://localhost:8080/",
          "height": 51
        },
        "outputId": "ee254d51-8f78-4da4-c1b8-4ed2052ae837"
      },
      "source": [
        "!unzip creditcardfraud.zip "
      ],
      "execution_count": 36,
      "outputs": [
        {
          "output_type": "stream",
          "text": [
            "Archive:  creditcardfraud.zip\n",
            "  inflating: creditcard.csv          \n"
          ],
          "name": "stdout"
        }
      ]
    },
    {
      "cell_type": "code",
      "metadata": {
        "id": "LqUbFgZkpzw0",
        "colab_type": "code",
        "colab": {
          "base_uri": "https://localhost:8080/",
          "height": 287
        },
        "outputId": "e25901de-3e36-4c8a-cf8f-ef93d97edb40"
      },
      "source": [
        "creditcard_df = h2o.import_file('creditcard.csv')\n",
        "creditcard_df.head()"
      ],
      "execution_count": 37,
      "outputs": [
        {
          "output_type": "stream",
          "text": [
            "Parse progress: |█████████████████████████████████████████████████████████| 100%\n"
          ],
          "name": "stdout"
        },
        {
          "output_type": "display_data",
          "data": {
            "text/html": [
              "<table>\n",
              "<thead>\n",
              "<tr><th style=\"text-align: right;\">  Time</th><th style=\"text-align: right;\">       V1</th><th style=\"text-align: right;\">        V2</th><th style=\"text-align: right;\">        V3</th><th style=\"text-align: right;\">       V4</th><th style=\"text-align: right;\">        V5</th><th style=\"text-align: right;\">        V6</th><th style=\"text-align: right;\">       V7</th><th style=\"text-align: right;\">        V8</th><th style=\"text-align: right;\">       V9</th><th style=\"text-align: right;\">       V10</th><th style=\"text-align: right;\">      V11</th><th style=\"text-align: right;\">       V12</th><th style=\"text-align: right;\">      V13</th><th style=\"text-align: right;\">       V14</th><th style=\"text-align: right;\">       V15</th><th style=\"text-align: right;\">      V16</th><th style=\"text-align: right;\">        V17</th><th style=\"text-align: right;\">       V18</th><th style=\"text-align: right;\">       V19</th><th style=\"text-align: right;\">       V20</th><th style=\"text-align: right;\">       V21</th><th style=\"text-align: right;\">       V22</th><th style=\"text-align: right;\">       V23</th><th style=\"text-align: right;\">       V24</th><th style=\"text-align: right;\">      V25</th><th style=\"text-align: right;\">       V26</th><th style=\"text-align: right;\">       V27</th><th style=\"text-align: right;\">        V28</th><th style=\"text-align: right;\">  Amount</th><th style=\"text-align: right;\">  Class</th></tr>\n",
              "</thead>\n",
              "<tbody>\n",
              "<tr><td style=\"text-align: right;\">     0</td><td style=\"text-align: right;\">-1.35981 </td><td style=\"text-align: right;\">-0.0727812</td><td style=\"text-align: right;\"> 2.53635  </td><td style=\"text-align: right;\"> 1.37816 </td><td style=\"text-align: right;\">-0.338321 </td><td style=\"text-align: right;\"> 0.462388 </td><td style=\"text-align: right;\"> 0.239599</td><td style=\"text-align: right;\"> 0.0986979</td><td style=\"text-align: right;\"> 0.363787</td><td style=\"text-align: right;\"> 0.0907942</td><td style=\"text-align: right;\">-0.5516  </td><td style=\"text-align: right;\">-0.617801 </td><td style=\"text-align: right;\">-0.99139 </td><td style=\"text-align: right;\">-0.311169 </td><td style=\"text-align: right;\"> 1.46818  </td><td style=\"text-align: right;\">-0.470401</td><td style=\"text-align: right;\"> 0.207971  </td><td style=\"text-align: right;\"> 0.0257906</td><td style=\"text-align: right;\"> 0.403993 </td><td style=\"text-align: right;\"> 0.251412 </td><td style=\"text-align: right;\">-0.0183068</td><td style=\"text-align: right;\"> 0.277838 </td><td style=\"text-align: right;\">-0.110474 </td><td style=\"text-align: right;\"> 0.0669281</td><td style=\"text-align: right;\"> 0.128539</td><td style=\"text-align: right;\">-0.189115 </td><td style=\"text-align: right;\"> 0.133558 </td><td style=\"text-align: right;\">-0.0210531 </td><td style=\"text-align: right;\">  149.62</td><td style=\"text-align: right;\">      0</td></tr>\n",
              "<tr><td style=\"text-align: right;\">     0</td><td style=\"text-align: right;\"> 1.19186 </td><td style=\"text-align: right;\"> 0.266151 </td><td style=\"text-align: right;\"> 0.16648  </td><td style=\"text-align: right;\"> 0.448154</td><td style=\"text-align: right;\"> 0.0600176</td><td style=\"text-align: right;\">-0.0823608</td><td style=\"text-align: right;\">-0.078803</td><td style=\"text-align: right;\"> 0.0851017</td><td style=\"text-align: right;\">-0.255425</td><td style=\"text-align: right;\">-0.166974 </td><td style=\"text-align: right;\"> 1.61273 </td><td style=\"text-align: right;\"> 1.06524  </td><td style=\"text-align: right;\"> 0.489095</td><td style=\"text-align: right;\">-0.143772 </td><td style=\"text-align: right;\"> 0.635558 </td><td style=\"text-align: right;\"> 0.463917</td><td style=\"text-align: right;\">-0.114805  </td><td style=\"text-align: right;\">-0.183361 </td><td style=\"text-align: right;\">-0.145783 </td><td style=\"text-align: right;\">-0.0690831</td><td style=\"text-align: right;\">-0.225775 </td><td style=\"text-align: right;\">-0.638672 </td><td style=\"text-align: right;\"> 0.101288 </td><td style=\"text-align: right;\">-0.339846 </td><td style=\"text-align: right;\"> 0.16717 </td><td style=\"text-align: right;\"> 0.125895 </td><td style=\"text-align: right;\">-0.0089831</td><td style=\"text-align: right;\"> 0.0147242 </td><td style=\"text-align: right;\">    2.69</td><td style=\"text-align: right;\">      0</td></tr>\n",
              "<tr><td style=\"text-align: right;\">     1</td><td style=\"text-align: right;\">-1.35835 </td><td style=\"text-align: right;\">-1.34016  </td><td style=\"text-align: right;\"> 1.77321  </td><td style=\"text-align: right;\"> 0.37978 </td><td style=\"text-align: right;\">-0.503198 </td><td style=\"text-align: right;\"> 1.8005   </td><td style=\"text-align: right;\"> 0.791461</td><td style=\"text-align: right;\"> 0.247676 </td><td style=\"text-align: right;\">-1.51465 </td><td style=\"text-align: right;\"> 0.207643 </td><td style=\"text-align: right;\"> 0.624501</td><td style=\"text-align: right;\"> 0.0660837</td><td style=\"text-align: right;\"> 0.717293</td><td style=\"text-align: right;\">-0.165946 </td><td style=\"text-align: right;\"> 2.34586  </td><td style=\"text-align: right;\">-2.89008 </td><td style=\"text-align: right;\"> 1.10997   </td><td style=\"text-align: right;\">-0.121359 </td><td style=\"text-align: right;\">-2.26186  </td><td style=\"text-align: right;\"> 0.52498  </td><td style=\"text-align: right;\"> 0.247998 </td><td style=\"text-align: right;\"> 0.771679 </td><td style=\"text-align: right;\"> 0.909412 </td><td style=\"text-align: right;\">-0.689281 </td><td style=\"text-align: right;\">-0.327642</td><td style=\"text-align: right;\">-0.139097 </td><td style=\"text-align: right;\">-0.0553528</td><td style=\"text-align: right;\">-0.0597518 </td><td style=\"text-align: right;\">  378.66</td><td style=\"text-align: right;\">      0</td></tr>\n",
              "<tr><td style=\"text-align: right;\">     1</td><td style=\"text-align: right;\">-0.966272</td><td style=\"text-align: right;\">-0.185226 </td><td style=\"text-align: right;\"> 1.79299  </td><td style=\"text-align: right;\">-0.863291</td><td style=\"text-align: right;\">-0.0103089</td><td style=\"text-align: right;\"> 1.2472   </td><td style=\"text-align: right;\"> 0.237609</td><td style=\"text-align: right;\"> 0.377436 </td><td style=\"text-align: right;\">-1.38702 </td><td style=\"text-align: right;\">-0.0549519</td><td style=\"text-align: right;\">-0.226487</td><td style=\"text-align: right;\"> 0.178228 </td><td style=\"text-align: right;\"> 0.507757</td><td style=\"text-align: right;\">-0.287924 </td><td style=\"text-align: right;\">-0.631418 </td><td style=\"text-align: right;\">-1.05965 </td><td style=\"text-align: right;\">-0.684093  </td><td style=\"text-align: right;\"> 1.96578  </td><td style=\"text-align: right;\">-1.23262  </td><td style=\"text-align: right;\">-0.208038 </td><td style=\"text-align: right;\">-0.1083   </td><td style=\"text-align: right;\"> 0.0052736</td><td style=\"text-align: right;\">-0.190321 </td><td style=\"text-align: right;\">-1.17558  </td><td style=\"text-align: right;\"> 0.647376</td><td style=\"text-align: right;\">-0.221929 </td><td style=\"text-align: right;\"> 0.0627228</td><td style=\"text-align: right;\"> 0.0614576 </td><td style=\"text-align: right;\">  123.5 </td><td style=\"text-align: right;\">      0</td></tr>\n",
              "<tr><td style=\"text-align: right;\">     2</td><td style=\"text-align: right;\">-1.15823 </td><td style=\"text-align: right;\"> 0.877737 </td><td style=\"text-align: right;\"> 1.54872  </td><td style=\"text-align: right;\"> 0.403034</td><td style=\"text-align: right;\">-0.407193 </td><td style=\"text-align: right;\"> 0.0959215</td><td style=\"text-align: right;\"> 0.592941</td><td style=\"text-align: right;\">-0.270533 </td><td style=\"text-align: right;\"> 0.817739</td><td style=\"text-align: right;\"> 0.753074 </td><td style=\"text-align: right;\">-0.822843</td><td style=\"text-align: right;\"> 0.538196 </td><td style=\"text-align: right;\"> 1.34585 </td><td style=\"text-align: right;\">-1.11967  </td><td style=\"text-align: right;\"> 0.175121 </td><td style=\"text-align: right;\">-0.451449</td><td style=\"text-align: right;\">-0.237033  </td><td style=\"text-align: right;\">-0.0381948</td><td style=\"text-align: right;\"> 0.803487 </td><td style=\"text-align: right;\"> 0.408542 </td><td style=\"text-align: right;\">-0.0094307</td><td style=\"text-align: right;\"> 0.798278 </td><td style=\"text-align: right;\">-0.137458 </td><td style=\"text-align: right;\"> 0.141267 </td><td style=\"text-align: right;\">-0.20601 </td><td style=\"text-align: right;\"> 0.502292 </td><td style=\"text-align: right;\"> 0.219422 </td><td style=\"text-align: right;\"> 0.215153  </td><td style=\"text-align: right;\">   69.99</td><td style=\"text-align: right;\">      0</td></tr>\n",
              "<tr><td style=\"text-align: right;\">     2</td><td style=\"text-align: right;\">-0.425966</td><td style=\"text-align: right;\"> 0.960523 </td><td style=\"text-align: right;\"> 1.14111  </td><td style=\"text-align: right;\">-0.168252</td><td style=\"text-align: right;\"> 0.420987 </td><td style=\"text-align: right;\">-0.0297276</td><td style=\"text-align: right;\"> 0.476201</td><td style=\"text-align: right;\"> 0.260314 </td><td style=\"text-align: right;\">-0.568671</td><td style=\"text-align: right;\">-0.371407 </td><td style=\"text-align: right;\"> 1.34126 </td><td style=\"text-align: right;\"> 0.359894 </td><td style=\"text-align: right;\">-0.358091</td><td style=\"text-align: right;\">-0.137134 </td><td style=\"text-align: right;\"> 0.517617 </td><td style=\"text-align: right;\"> 0.401726</td><td style=\"text-align: right;\">-0.0581328 </td><td style=\"text-align: right;\"> 0.0686531</td><td style=\"text-align: right;\">-0.0331938</td><td style=\"text-align: right;\"> 0.0849677</td><td style=\"text-align: right;\">-0.208254 </td><td style=\"text-align: right;\">-0.559825 </td><td style=\"text-align: right;\">-0.0263977</td><td style=\"text-align: right;\">-0.371427 </td><td style=\"text-align: right;\">-0.232794</td><td style=\"text-align: right;\"> 0.105915 </td><td style=\"text-align: right;\"> 0.253844 </td><td style=\"text-align: right;\"> 0.0810803 </td><td style=\"text-align: right;\">    3.67</td><td style=\"text-align: right;\">      0</td></tr>\n",
              "<tr><td style=\"text-align: right;\">     4</td><td style=\"text-align: right;\"> 1.22966 </td><td style=\"text-align: right;\"> 0.141004 </td><td style=\"text-align: right;\"> 0.0453708</td><td style=\"text-align: right;\"> 1.20261 </td><td style=\"text-align: right;\"> 0.191881 </td><td style=\"text-align: right;\"> 0.272708 </td><td style=\"text-align: right;\">-0.005159</td><td style=\"text-align: right;\"> 0.0812129</td><td style=\"text-align: right;\"> 0.46496 </td><td style=\"text-align: right;\">-0.0992543</td><td style=\"text-align: right;\">-1.41691 </td><td style=\"text-align: right;\">-0.153826 </td><td style=\"text-align: right;\">-0.751063</td><td style=\"text-align: right;\"> 0.167372 </td><td style=\"text-align: right;\"> 0.0501436</td><td style=\"text-align: right;\">-0.443587</td><td style=\"text-align: right;\"> 0.00282051</td><td style=\"text-align: right;\">-0.611987 </td><td style=\"text-align: right;\">-0.045575 </td><td style=\"text-align: right;\">-0.219633 </td><td style=\"text-align: right;\">-0.167716 </td><td style=\"text-align: right;\">-0.27071  </td><td style=\"text-align: right;\">-0.154104 </td><td style=\"text-align: right;\">-0.780055 </td><td style=\"text-align: right;\"> 0.750137</td><td style=\"text-align: right;\">-0.257237 </td><td style=\"text-align: right;\"> 0.0345074</td><td style=\"text-align: right;\"> 0.00516777</td><td style=\"text-align: right;\">    4.99</td><td style=\"text-align: right;\">      0</td></tr>\n",
              "<tr><td style=\"text-align: right;\">     7</td><td style=\"text-align: right;\">-0.644269</td><td style=\"text-align: right;\"> 1.41796  </td><td style=\"text-align: right;\"> 1.07438  </td><td style=\"text-align: right;\">-0.492199</td><td style=\"text-align: right;\"> 0.948934 </td><td style=\"text-align: right;\"> 0.428118 </td><td style=\"text-align: right;\"> 1.12063 </td><td style=\"text-align: right;\">-3.80786  </td><td style=\"text-align: right;\"> 0.615375</td><td style=\"text-align: right;\"> 1.24938  </td><td style=\"text-align: right;\">-0.619468</td><td style=\"text-align: right;\"> 0.291474 </td><td style=\"text-align: right;\"> 1.75796 </td><td style=\"text-align: right;\">-1.32387  </td><td style=\"text-align: right;\"> 0.686133 </td><td style=\"text-align: right;\">-0.076127</td><td style=\"text-align: right;\">-1.22213   </td><td style=\"text-align: right;\">-0.358222 </td><td style=\"text-align: right;\"> 0.324505 </td><td style=\"text-align: right;\">-0.156742 </td><td style=\"text-align: right;\"> 1.94347  </td><td style=\"text-align: right;\">-1.01545  </td><td style=\"text-align: right;\"> 0.0575035</td><td style=\"text-align: right;\">-0.649709 </td><td style=\"text-align: right;\">-0.415267</td><td style=\"text-align: right;\">-0.0516343</td><td style=\"text-align: right;\">-1.20692  </td><td style=\"text-align: right;\">-1.08534   </td><td style=\"text-align: right;\">   40.8 </td><td style=\"text-align: right;\">      0</td></tr>\n",
              "<tr><td style=\"text-align: right;\">     7</td><td style=\"text-align: right;\">-0.894286</td><td style=\"text-align: right;\"> 0.286157 </td><td style=\"text-align: right;\">-0.113192 </td><td style=\"text-align: right;\">-0.271526</td><td style=\"text-align: right;\"> 2.6696   </td><td style=\"text-align: right;\"> 3.72182  </td><td style=\"text-align: right;\"> 0.370145</td><td style=\"text-align: right;\"> 0.851084 </td><td style=\"text-align: right;\">-0.392048</td><td style=\"text-align: right;\">-0.41043  </td><td style=\"text-align: right;\">-0.705117</td><td style=\"text-align: right;\">-0.110452 </td><td style=\"text-align: right;\">-0.286254</td><td style=\"text-align: right;\"> 0.0743554</td><td style=\"text-align: right;\">-0.328783 </td><td style=\"text-align: right;\">-0.210077</td><td style=\"text-align: right;\">-0.499768  </td><td style=\"text-align: right;\"> 0.118765 </td><td style=\"text-align: right;\"> 0.570328 </td><td style=\"text-align: right;\"> 0.0527357</td><td style=\"text-align: right;\">-0.0734251</td><td style=\"text-align: right;\">-0.268092 </td><td style=\"text-align: right;\">-0.204233 </td><td style=\"text-align: right;\"> 1.01159  </td><td style=\"text-align: right;\"> 0.373205</td><td style=\"text-align: right;\">-0.384157 </td><td style=\"text-align: right;\"> 0.0117474</td><td style=\"text-align: right;\"> 0.142404  </td><td style=\"text-align: right;\">   93.2 </td><td style=\"text-align: right;\">      0</td></tr>\n",
              "<tr><td style=\"text-align: right;\">     9</td><td style=\"text-align: right;\">-0.338262</td><td style=\"text-align: right;\"> 1.11959  </td><td style=\"text-align: right;\"> 1.04437  </td><td style=\"text-align: right;\">-0.222187</td><td style=\"text-align: right;\"> 0.499361 </td><td style=\"text-align: right;\">-0.246761 </td><td style=\"text-align: right;\"> 0.651583</td><td style=\"text-align: right;\"> 0.0695386</td><td style=\"text-align: right;\">-0.736727</td><td style=\"text-align: right;\">-0.366846 </td><td style=\"text-align: right;\"> 1.01761 </td><td style=\"text-align: right;\"> 0.83639  </td><td style=\"text-align: right;\"> 1.00684 </td><td style=\"text-align: right;\">-0.443523 </td><td style=\"text-align: right;\"> 0.150219 </td><td style=\"text-align: right;\"> 0.739453</td><td style=\"text-align: right;\">-0.54098   </td><td style=\"text-align: right;\"> 0.476677 </td><td style=\"text-align: right;\"> 0.451773 </td><td style=\"text-align: right;\"> 0.203711 </td><td style=\"text-align: right;\">-0.246914 </td><td style=\"text-align: right;\">-0.633753 </td><td style=\"text-align: right;\">-0.120794 </td><td style=\"text-align: right;\">-0.38505  </td><td style=\"text-align: right;\">-0.069733</td><td style=\"text-align: right;\"> 0.0941988</td><td style=\"text-align: right;\"> 0.246219 </td><td style=\"text-align: right;\"> 0.0830756 </td><td style=\"text-align: right;\">    3.68</td><td style=\"text-align: right;\">      0</td></tr>\n",
              "</tbody>\n",
              "</table>"
            ]
          },
          "metadata": {
            "tags": []
          }
        },
        {
          "output_type": "execute_result",
          "data": {
            "text/plain": [
              ""
            ]
          },
          "metadata": {
            "tags": []
          },
          "execution_count": 37
        }
      ]
    },
    {
      "cell_type": "code",
      "metadata": {
        "id": "iO6T-cvNr4zJ",
        "colab_type": "code",
        "colab": {}
      },
      "source": [
        "creditcard_df['Class'] = creditcard_df['Class'].asfactor()"
      ],
      "execution_count": 0,
      "outputs": []
    },
    {
      "cell_type": "code",
      "metadata": {
        "id": "CLnieq2osIDi",
        "colab_type": "code",
        "colab": {
          "base_uri": "https://localhost:8080/",
          "height": 502
        },
        "outputId": "167c5ece-ac14-46b3-fd78-fe36c07513e4"
      },
      "source": [
        "creditcard_df.describe()"
      ],
      "execution_count": 39,
      "outputs": [
        {
          "output_type": "stream",
          "text": [
            "Rows:284807\n",
            "Cols:31\n",
            "\n",
            "\n"
          ],
          "name": "stdout"
        },
        {
          "output_type": "display_data",
          "data": {
            "text/html": [
              "<table>\n",
              "<thead>\n",
              "<tr><th>       </th><th>Time              </th><th>V1                   </th><th>V2                    </th><th>V3                     </th><th>V4                    </th><th>V5                    </th><th>V6                   </th><th>V7                     </th><th>V8                   </th><th>V9                     </th><th>V10                   </th><th>V11                  </th><th>V12                  </th><th>V13                   </th><th>V14                   </th><th>V15                  </th><th>V16                   </th><th>V17                    </th><th>V18                  </th><th>V19                   </th><th>V20                  </th><th>V21                   </th><th>V22                    </th><th>V23                  </th><th>V24                  </th><th>V25                  </th><th>V26                   </th><th>V27                    </th><th>V28                    </th><th>Amount            </th><th>Class  </th></tr>\n",
              "</thead>\n",
              "<tbody>\n",
              "<tr><td>type   </td><td>int               </td><td>real                 </td><td>real                  </td><td>real                   </td><td>real                  </td><td>real                  </td><td>real                 </td><td>real                   </td><td>real                 </td><td>real                   </td><td>real                  </td><td>real                 </td><td>real                 </td><td>real                  </td><td>real                  </td><td>real                 </td><td>real                  </td><td>real                   </td><td>real                 </td><td>real                  </td><td>real                 </td><td>real                  </td><td>real                   </td><td>real                 </td><td>real                 </td><td>real                 </td><td>real                  </td><td>real                   </td><td>real                   </td><td>real              </td><td>enum   </td></tr>\n",
              "<tr><td>mins   </td><td>0.0               </td><td>-56.407509631329     </td><td>-72.7157275629303     </td><td>-48.3255893623954      </td><td>-5.68317119816995     </td><td>-113.743306711146     </td><td>-26.1605059358433    </td><td>-43.5572415712451      </td><td>-73.2167184552674    </td><td>-13.4340663182301      </td><td>-24.5882624372475     </td><td>-4.79747346479757    </td><td>-18.6837146333443    </td><td>-5.79188120632084     </td><td>-19.2143254902614     </td><td>-4.49894467676621    </td><td>-14.1298545174931     </td><td>-25.1627993693248      </td><td>-9.49874592104677    </td><td>-7.21352743017759     </td><td>-54.497720494566     </td><td>-34.8303821448146     </td><td>-10.933143697655       </td><td>-44.8077352037913    </td><td>-2.83662691870341    </td><td>-10.2953970749851    </td><td>-2.60455055280817     </td><td>-22.5656793207827      </td><td>-15.4300839055349      </td><td>0.0               </td><td>       </td></tr>\n",
              "<tr><td>mean   </td><td>94813.85957508103 </td><td>2.094852037917049e-15</td><td>1.8361889051864377e-16</td><td>-3.5765766501022783e-16</td><td>2.4780566789994357e-15</td><td>2.0437580857727306e-16</td><td>1.379536707896593e-15</td><td>-4.3429859322670526e-16</td><td>2.235360406313924e-16</td><td>-1.1432271792291211e-15</td><td>2.0549348878043003e-15</td><td>9.196911385977287e-16</td><td>-2.05653157380881e-15</td><td>1.6701335607174033e-15</td><td>1.4322273460454212e-15</td><td>4.802831501565917e-15</td><td>1.4370174040589512e-15</td><td>-2.4269627268551175e-16</td><td>9.516248586879277e-16</td><td>1.0234757288908752e-15</td><td>6.195141697498589e-16</td><td>2.8421010880277033e-16</td><td>-3.9597812911846654e-16</td><td>2.235360406313924e-16</td><td>4.517024706758636e-15</td><td>7.025418419843761e-16</td><td>1.6030727485279855e-15</td><td>-3.5276781412141614e-16</td><td>-1.2454150835177577e-16</td><td>88.3496192509314  </td><td>       </td></tr>\n",
              "<tr><td>maxs   </td><td>172792.0          </td><td>2.45492999121121     </td><td>22.0577289904909      </td><td>9.38255843282114       </td><td>16.8753440335975      </td><td>34.8016658766686      </td><td>73.3016255459646     </td><td>120.589493945238       </td><td>20.0072083651213     </td><td>15.5949946071278       </td><td>23.7451361206545      </td><td>12.0189131816199     </td><td>7.8483920756446      </td><td>7.12688295859376      </td><td>10.5267660517847      </td><td>8.87774159774277     </td><td>17.3151115176278      </td><td>9.25352625047285       </td><td>5.04106918541184     </td><td>5.59197142733558      </td><td>39.4209042482199     </td><td>27.2028391573154      </td><td>10.5030900899454       </td><td>22.5284116897749     </td><td>4.58454913689817     </td><td>7.51958867870916     </td><td>3.5173456116238       </td><td>31.6121981061363       </td><td>33.8478078188831       </td><td>25691.16          </td><td>       </td></tr>\n",
              "<tr><td>sigma  </td><td>47488.145954566586</td><td>1.9586958038574842   </td><td>1.6513085794769953    </td><td>1.5162550051777715     </td><td>1.415868574940921     </td><td>1.380246734031439     </td><td>1.3322710897575747   </td><td>1.2370935981826667     </td><td>1.194352902669203    </td><td>1.0986320892243193     </td><td>1.0888497654025175    </td><td>1.0207130277115584   </td><td>0.999201389530144    </td><td>0.9952742301251536    </td><td>0.9585956112570626    </td><td>0.9153160116104377   </td><td>0.8762528873883699    </td><td>0.849337063674389      </td><td>0.8381762095288435   </td><td>0.8140405007685786    </td><td>0.7709250248871184   </td><td>0.7345240143713142    </td><td>0.7257015604409114     </td><td>0.6244602955949914   </td><td>0.6056470678271603   </td><td>0.5212780705409428   </td><td>0.4822270132610568    </td><td>0.40363249496503023    </td><td>0.33008326416025185    </td><td>250.12010924018836</td><td>       </td></tr>\n",
              "<tr><td>zeros  </td><td>2                 </td><td>0                    </td><td>0                     </td><td>0                      </td><td>0                     </td><td>0                     </td><td>0                    </td><td>0                      </td><td>0                    </td><td>0                      </td><td>0                     </td><td>0                    </td><td>0                    </td><td>0                     </td><td>0                     </td><td>0                    </td><td>0                     </td><td>0                      </td><td>0                    </td><td>0                     </td><td>0                    </td><td>0                     </td><td>0                      </td><td>0                    </td><td>0                    </td><td>0                    </td><td>0                     </td><td>0                      </td><td>0                      </td><td>1825              </td><td>       </td></tr>\n",
              "<tr><td>missing</td><td>0                 </td><td>0                    </td><td>0                     </td><td>0                      </td><td>0                     </td><td>0                     </td><td>0                    </td><td>0                      </td><td>0                    </td><td>0                      </td><td>0                     </td><td>0                    </td><td>0                    </td><td>0                     </td><td>0                     </td><td>0                    </td><td>0                     </td><td>0                      </td><td>0                    </td><td>0                     </td><td>0                    </td><td>0                     </td><td>0                      </td><td>0                    </td><td>0                    </td><td>0                    </td><td>0                     </td><td>0                      </td><td>0                      </td><td>0                 </td><td>0      </td></tr>\n",
              "<tr><td>0      </td><td>0.0               </td><td>-1.3598071336738     </td><td>-0.0727811733098497   </td><td>2.53634673796914       </td><td>1.37815522427443      </td><td>-0.338320769942518    </td><td>0.462387777762292    </td><td>0.239598554061257      </td><td>0.0986979012610507   </td><td>0.363786969611213      </td><td>0.0907941719789316    </td><td>-0.551599533260813   </td><td>-0.617800855762348   </td><td>-0.991389847235408    </td><td>-0.311169353699879    </td><td>1.46817697209427     </td><td>-0.470400525259478    </td><td>0.207971241929242      </td><td>0.0257905801985591   </td><td>0.403992960255733     </td><td>0.251412098239705    </td><td>-0.018306777944153    </td><td>0.277837575558899      </td><td>-0.110473910188767   </td><td>0.0669280749146731   </td><td>0.128539358273528    </td><td>-0.189114843888824    </td><td>0.133558376740387      </td><td>-0.0210530534538215    </td><td>149.62            </td><td>0      </td></tr>\n",
              "<tr><td>1      </td><td>0.0               </td><td>1.19185711131486     </td><td>0.26615071205963      </td><td>0.16648011335321       </td><td>0.448154078460911     </td><td>0.0600176492822243    </td><td>-0.0823608088155687  </td><td>-0.0788029833323113    </td><td>0.0851016549148104   </td><td>-0.255425128109186     </td><td>-0.166974414004614    </td><td>1.61272666105479     </td><td>1.06523531137287     </td><td>0.48909501589608      </td><td>-0.143772296441519    </td><td>0.635558093258208    </td><td>0.463917041022171     </td><td>-0.114804663102346     </td><td>-0.183361270123994   </td><td>-0.145783041325259    </td><td>-0.0690831352230203  </td><td>-0.225775248033138    </td><td>-0.638671952771851     </td><td>0.101288021253234    </td><td>-0.339846475529127   </td><td>0.167170404418143    </td><td>0.125894532368176     </td><td>-0.00898309914322813   </td><td>0.0147241691924927     </td><td>2.69              </td><td>0      </td></tr>\n",
              "<tr><td>2      </td><td>1.0               </td><td>-1.35835406159823    </td><td>-1.34016307473609     </td><td>1.77320934263119       </td><td>0.379779593034328     </td><td>-0.503198133318193    </td><td>1.80049938079263     </td><td>0.791460956450422      </td><td>0.247675786588991    </td><td>-1.51465432260583      </td><td>0.207642865216696     </td><td>0.624501459424895    </td><td>0.066083685268831    </td><td>0.717292731410831     </td><td>-0.165945922763554    </td><td>2.34586494901581     </td><td>-2.89008319444231     </td><td>1.10996937869599       </td><td>-0.121359313195888   </td><td>-2.26185709530414     </td><td>0.524979725224404    </td><td>0.247998153469754     </td><td>0.771679401917229      </td><td>0.909412262347719    </td><td>-0.689280956490685   </td><td>-0.327641833735251   </td><td>-0.139096571514147    </td><td>-0.0553527940384261    </td><td>-0.0597518405929204    </td><td>378.66            </td><td>0      </td></tr>\n",
              "<tr><td>3      </td><td>1.0               </td><td>-0.966271711572087   </td><td>-0.185226008082898    </td><td>1.79299333957872       </td><td>-0.863291275036453    </td><td>-0.0103088796030823   </td><td>1.24720316752486     </td><td>0.23760893977178       </td><td>0.377435874652262    </td><td>-1.38702406270197      </td><td>-0.0549519224713749   </td><td>-0.226487263835401   </td><td>0.178228225877303    </td><td>0.507756869957169     </td><td>-0.28792374549456     </td><td>-0.631418117709045   </td><td>-1.0596472454325      </td><td>-0.684092786345479     </td><td>1.96577500349538     </td><td>-1.2326219700892      </td><td>-0.208037781160366   </td><td>-0.108300452035545    </td><td>0.00527359678253453    </td><td>-0.190320518742841   </td><td>-1.17557533186321    </td><td>0.647376034602038    </td><td>-0.221928844458407    </td><td>0.0627228487293033     </td><td>0.0614576285006353     </td><td>123.5             </td><td>0      </td></tr>\n",
              "<tr><td>4      </td><td>2.0               </td><td>-1.15823309349523    </td><td>0.877736754848451     </td><td>1.548717846511         </td><td>0.403033933955121     </td><td>-0.407193377311653    </td><td>0.0959214624684256   </td><td>0.592940745385545      </td><td>-0.270532677192282   </td><td>0.817739308235294      </td><td>0.753074431976354     </td><td>-0.822842877946363   </td><td>0.53819555014995     </td><td>1.3458515932154       </td><td>-1.11966983471731     </td><td>0.175121130008994    </td><td>-0.451449182813529    </td><td>-0.237033239362776     </td><td>-0.0381947870352842  </td><td>0.803486924960175     </td><td>0.408542360392758    </td><td>-0.00943069713232919  </td><td>0.79827849458971       </td><td>-0.137458079619063   </td><td>0.141266983824769    </td><td>-0.206009587619756   </td><td>0.502292224181569     </td><td>0.219422229513348      </td><td>0.215153147499206      </td><td>69.99             </td><td>0      </td></tr>\n",
              "<tr><td>5      </td><td>2.0               </td><td>-0.425965884412454   </td><td>0.960523044882985     </td><td>1.14110934232219       </td><td>-0.168252079760302    </td><td>0.42098688077219      </td><td>-0.0297275516639742  </td><td>0.476200948720027      </td><td>0.260314333074874    </td><td>-0.56867137571251      </td><td>-0.371407196834471    </td><td>1.34126198001957     </td><td>0.359893837038039    </td><td>-0.358090652573631    </td><td>-0.137133700217612    </td><td>0.517616806555742    </td><td>0.401725895589603     </td><td>-0.0581328233640131    </td><td>0.0686531494425432   </td><td>-0.0331937877876282   </td><td>0.0849676720682049   </td><td>-0.208253514656728    </td><td>-0.559824796253248     </td><td>-0.0263976679795373  </td><td>-0.371426583174346   </td><td>-0.232793816737034   </td><td>0.105914779097957     </td><td>0.253844224739337      </td><td>0.0810802569229443     </td><td>3.67              </td><td>0      </td></tr>\n",
              "<tr><td>6      </td><td>4.0               </td><td>1.22965763450793     </td><td>0.141003507049326     </td><td>0.0453707735899449     </td><td>1.20261273673594      </td><td>0.191880988597645     </td><td>0.272708122899098    </td><td>-0.00515900288250983   </td><td>0.0812129398830894   </td><td>0.464959994783886      </td><td>-0.0992543211289237   </td><td>-1.41690724314928    </td><td>-0.153825826253651   </td><td>-0.75106271556262     </td><td>0.16737196252175      </td><td>0.0501435942254188   </td><td>-0.443586797916727    </td><td>0.00282051247234708    </td><td>-0.61198733994012    </td><td>-0.0455750446637976   </td><td>-0.21963255278686    </td><td>-0.167716265815783    </td><td>-0.270709726172363     </td><td>-0.154103786809305   </td><td>-0.780055415004671   </td><td>0.75013693580659     </td><td>-0.257236845917139    </td><td>0.0345074297438413     </td><td>0.00516776890624916    </td><td>4.99              </td><td>0      </td></tr>\n",
              "<tr><td>7      </td><td>7.0               </td><td>-0.644269442348146   </td><td>1.41796354547385      </td><td>1.0743803763556        </td><td>-0.492199018495015    </td><td>0.948934094764157     </td><td>0.428118462833089    </td><td>1.12063135838353       </td><td>-3.80786423873589    </td><td>0.615374730667027      </td><td>1.24937617815176      </td><td>-0.619467796121913   </td><td>0.291474353088705    </td><td>1.75796421396042      </td><td>-1.32386521970526     </td><td>0.686132504394383    </td><td>-0.0761269994382006   </td><td>-1.2221273453247       </td><td>-0.358221569869078   </td><td>0.324504731321494     </td><td>-0.156741852488285   </td><td>1.94346533978412      </td><td>-1.01545470979971      </td><td>0.057503529867291    </td><td>-0.649709005559993   </td><td>-0.415266566234811   </td><td>-0.0516342969262494   </td><td>-1.20692108094258      </td><td>-1.08533918832377      </td><td>40.8              </td><td>0      </td></tr>\n",
              "<tr><td>8      </td><td>7.0               </td><td>-0.89428608220282    </td><td>0.286157196276544     </td><td>-0.113192212729871     </td><td>-0.271526130088604    </td><td>2.6695986595986       </td><td>3.72181806112751     </td><td>0.370145127676916      </td><td>0.851084443200905    </td><td>-0.392047586798604     </td><td>-0.410430432848439    </td><td>-0.705116586646536   </td><td>-0.110452261733098   </td><td>-0.286253632470583    </td><td>0.0743553603016731    </td><td>-0.328783050303565   </td><td>-0.210077268148783    </td><td>-0.499767968800267     </td><td>0.118764861004217    </td><td>0.57032816746536      </td><td>0.0527356691149697   </td><td>-0.0734251001059225   </td><td>-0.268091632235551     </td><td>-0.204232669947878   </td><td>1.0115918018785      </td><td>0.373204680146282    </td><td>-0.384157307702294    </td><td>0.0117473564581996     </td><td>0.14240432992147       </td><td>93.2              </td><td>0      </td></tr>\n",
              "<tr><td>9      </td><td>9.0               </td><td>-0.33826175242575    </td><td>1.11959337641566      </td><td>1.04436655157316       </td><td>-0.222187276738296    </td><td>0.49936080649727      </td><td>-0.24676110061991    </td><td>0.651583206489972      </td><td>0.0695385865186387   </td><td>-0.736727316364109     </td><td>-0.366845639206541    </td><td>1.01761446783262     </td><td>0.836389570307029    </td><td>1.00684351373408      </td><td>-0.443522816876142    </td><td>0.150219101422635    </td><td>0.739452777052119     </td><td>-0.540979921943059     </td><td>0.47667726004282     </td><td>0.451772964394125     </td><td>0.203711454727929    </td><td>-0.246913936910008    </td><td>-0.633752642406113     </td><td>-0.12079408408185    </td><td>-0.385049925313426   </td><td>-0.0697330460416923  </td><td>0.0941988339514961    </td><td>0.246219304619926      </td><td>0.0830756493473326     </td><td>3.68              </td><td>0      </td></tr>\n",
              "</tbody>\n",
              "</table>"
            ]
          },
          "metadata": {
            "tags": []
          }
        }
      ]
    },
    {
      "cell_type": "code",
      "metadata": {
        "id": "2F2CEiihsnnE",
        "colab_type": "code",
        "colab": {
          "base_uri": "https://localhost:8080/",
          "height": 82
        },
        "outputId": "eadcfa98-a49e-4e00-f2ee-0d2e090a724b"
      },
      "source": [
        "creditcard_df['Class'].table()"
      ],
      "execution_count": 42,
      "outputs": [
        {
          "output_type": "display_data",
          "data": {
            "text/html": [
              "<table>\n",
              "<thead>\n",
              "<tr><th style=\"text-align: right;\">  Class</th><th style=\"text-align: right;\">  Count</th></tr>\n",
              "</thead>\n",
              "<tbody>\n",
              "<tr><td style=\"text-align: right;\">      0</td><td style=\"text-align: right;\"> 284315</td></tr>\n",
              "<tr><td style=\"text-align: right;\">      1</td><td style=\"text-align: right;\">    492</td></tr>\n",
              "</tbody>\n",
              "</table>"
            ]
          },
          "metadata": {
            "tags": []
          }
        },
        {
          "output_type": "execute_result",
          "data": {
            "text/plain": [
              ""
            ]
          },
          "metadata": {
            "tags": []
          },
          "execution_count": 42
        }
      ]
    },
    {
      "cell_type": "markdown",
      "metadata": {
        "id": "qYLjt7PKtV9h",
        "colab_type": "text"
      },
      "source": [
        "The number of fraud and non-fraud instances are very different so it is an imbalanced dataset."
      ]
    },
    {
      "cell_type": "code",
      "metadata": {
        "id": "uWVEczM1sRcj",
        "colab_type": "code",
        "colab": {
          "base_uri": "https://localhost:8080/",
          "height": 34
        },
        "outputId": "d3227ab1-6430-45ca-da90-ffc5681fdbda"
      },
      "source": [
        "creditcard_df_split = creditcard_df.split_frame(ratios = [0.7])\n",
        "creditcard_df_train = creditcard_df_split[0]\n",
        "creditcard_df_test = creditcard_df_split[1]\n",
        "print(creditcard_df_train.shape, creditcard_df_test.shape, creditcard_df.shape)"
      ],
      "execution_count": 40,
      "outputs": [
        {
          "output_type": "stream",
          "text": [
            "(199252, 31) (85555, 31) (284807, 31)\n"
          ],
          "name": "stdout"
        }
      ]
    },
    {
      "cell_type": "code",
      "metadata": {
        "id": "HMmNw5a-siCE",
        "colab_type": "code",
        "colab": {
          "base_uri": "https://localhost:8080/",
          "height": 54
        },
        "outputId": "eb01aaab-16f2-4ef8-d04c-63487fad034a"
      },
      "source": [
        "X_columns = creditcard_df.columns\n",
        "X_columns.remove('Class')\n",
        "y = 'Class'\n",
        "print(X_columns)"
      ],
      "execution_count": 44,
      "outputs": [
        {
          "output_type": "stream",
          "text": [
            "['Time', 'V1', 'V2', 'V3', 'V4', 'V5', 'V6', 'V7', 'V8', 'V9', 'V10', 'V11', 'V12', 'V13', 'V14', 'V15', 'V16', 'V17', 'V18', 'V19', 'V20', 'V21', 'V22', 'V23', 'V24', 'V25', 'V26', 'V27', 'V28', 'Amount']\n"
          ],
          "name": "stdout"
        }
      ]
    },
    {
      "cell_type": "code",
      "metadata": {
        "id": "8Sr7YmHetyXi",
        "colab_type": "code",
        "colab": {
          "base_uri": "https://localhost:8080/",
          "height": 34
        },
        "outputId": "41baaa73-e4b0-4a94-b8e7-00b4dd7a008d"
      },
      "source": [
        "model2 = H2OAutoML(max_models = 10, max_runtime_secs = 60)\n",
        "model2.train(x = X_columns, y = y, training_frame = creditcard_df_train)"
      ],
      "execution_count": 52,
      "outputs": [
        {
          "output_type": "stream",
          "text": [
            "AutoML progress: |████████████████████████████████████████████████████████| 100%\n"
          ],
          "name": "stdout"
        }
      ]
    },
    {
      "cell_type": "code",
      "metadata": {
        "id": "G0hjMP_2t8wM",
        "colab_type": "code",
        "colab": {
          "base_uri": "https://localhost:8080/",
          "height": 34
        },
        "outputId": "d5bc564c-64d4-4131-aba2-4c4d4e924a48"
      },
      "source": [
        "model2.leaderboard"
      ],
      "execution_count": 55,
      "outputs": [
        {
          "output_type": "stream",
          "text": [
            "This H2OFrame is empty.\n"
          ],
          "name": "stdout"
        },
        {
          "output_type": "execute_result",
          "data": {
            "text/plain": [
              ""
            ]
          },
          "metadata": {
            "tags": []
          },
          "execution_count": 55
        }
      ]
    },
    {
      "cell_type": "markdown",
      "metadata": {
        "id": "SGP9lzeDu9hi",
        "colab_type": "text"
      },
      "source": [
        "I guess they can't find a good model within 60 sec of training. Let's try 240 sec."
      ]
    },
    {
      "cell_type": "code",
      "metadata": {
        "id": "dd5ChJc7u4xw",
        "colab_type": "code",
        "colab": {
          "base_uri": "https://localhost:8080/",
          "height": 34
        },
        "outputId": "7537322a-247b-4cc6-8aad-d5cdb86fd3ce"
      },
      "source": [
        "model2 = H2OAutoML(max_models = 10, max_runtime_secs = 240)\n",
        "model2.train(x = X_columns, y = y, training_frame = creditcard_df_train)"
      ],
      "execution_count": 56,
      "outputs": [
        {
          "output_type": "stream",
          "text": [
            "AutoML progress: |████████████████████████████████████████████████████████| 100%\n"
          ],
          "name": "stdout"
        }
      ]
    },
    {
      "cell_type": "code",
      "metadata": {
        "id": "Q1wYm-GdwFpo",
        "colab_type": "code",
        "colab": {
          "base_uri": "https://localhost:8080/",
          "height": 61
        },
        "outputId": "442bae04-47a7-4ed1-a30f-9baf022f2924"
      },
      "source": [
        "model2.leaderboard"
      ],
      "execution_count": 57,
      "outputs": [
        {
          "output_type": "display_data",
          "data": {
            "text/html": [
              "<table>\n",
              "<thead>\n",
              "<tr><th>model_id                        </th><th style=\"text-align: right;\">     auc</th><th style=\"text-align: right;\">  logloss</th><th style=\"text-align: right;\">  mean_per_class_error</th><th style=\"text-align: right;\">    rmse</th><th style=\"text-align: right;\">      mse</th></tr>\n",
              "</thead>\n",
              "<tbody>\n",
              "<tr><td>XGBoost_1_AutoML_20191011_165149</td><td style=\"text-align: right;\">0.941559</td><td style=\"text-align: right;\"> 0.259116</td><td style=\"text-align: right;\">              0.105885</td><td style=\"text-align: right;\">0.300819</td><td style=\"text-align: right;\">0.0904924</td></tr>\n",
              "</tbody>\n",
              "</table>"
            ]
          },
          "metadata": {
            "tags": []
          }
        },
        {
          "output_type": "execute_result",
          "data": {
            "text/plain": [
              ""
            ]
          },
          "metadata": {
            "tags": []
          },
          "execution_count": 57
        }
      ]
    },
    {
      "cell_type": "code",
      "metadata": {
        "id": "QKSaJprhwKpI",
        "colab_type": "code",
        "colab": {
          "base_uri": "https://localhost:8080/",
          "height": 34
        },
        "outputId": "d0b5a1a8-fe90-44ec-8b9e-188a2f72e62d"
      },
      "source": [
        "model2 = H2OAutoML(max_models = 20, max_runtime_secs = 600)\n",
        "model2.train(x = X_columns, y = y, training_frame = creditcard_df_train)"
      ],
      "execution_count": 58,
      "outputs": [
        {
          "output_type": "stream",
          "text": [
            "AutoML progress: |████████████████████████████████████████████████████████| 100%\n"
          ],
          "name": "stdout"
        }
      ]
    },
    {
      "cell_type": "code",
      "metadata": {
        "id": "5_mjx_O7wPqB",
        "colab_type": "code",
        "colab": {
          "base_uri": "https://localhost:8080/",
          "height": 103
        },
        "outputId": "8f0c395c-19c8-4646-df1c-ad14460ae17c"
      },
      "source": [
        "model2.leaderboard"
      ],
      "execution_count": 59,
      "outputs": [
        {
          "output_type": "display_data",
          "data": {
            "text/html": [
              "<table>\n",
              "<thead>\n",
              "<tr><th>model_id                        </th><th style=\"text-align: right;\">     auc</th><th style=\"text-align: right;\">  logloss</th><th style=\"text-align: right;\">  mean_per_class_error</th><th style=\"text-align: right;\">    rmse</th><th style=\"text-align: right;\">      mse</th></tr>\n",
              "</thead>\n",
              "<tbody>\n",
              "<tr><td>XGBoost_1_AutoML_20191011_165149</td><td style=\"text-align: right;\">0.941559</td><td style=\"text-align: right;\"> 0.259116</td><td style=\"text-align: right;\">              0.105885</td><td style=\"text-align: right;\">0.300819</td><td style=\"text-align: right;\">0.0904924</td></tr>\n",
              "<tr><td>XGBoost_1_AutoML_20191011_165726</td><td style=\"text-align: right;\">0.927606</td><td style=\"text-align: right;\"> 0.259096</td><td style=\"text-align: right;\">              0.111695</td><td style=\"text-align: right;\">0.300834</td><td style=\"text-align: right;\">0.0905011</td></tr>\n",
              "<tr><td>XGBoost_2_AutoML_20191011_165726</td><td style=\"text-align: right;\">0.924253</td><td style=\"text-align: right;\"> 0.123357</td><td style=\"text-align: right;\">              0.114618</td><td style=\"text-align: right;\">0.122237</td><td style=\"text-align: right;\">0.014942 </td></tr>\n",
              "</tbody>\n",
              "</table>"
            ]
          },
          "metadata": {
            "tags": []
          }
        },
        {
          "output_type": "execute_result",
          "data": {
            "text/plain": [
              ""
            ]
          },
          "metadata": {
            "tags": []
          },
          "execution_count": 59
        }
      ]
    },
    {
      "cell_type": "code",
      "metadata": {
        "id": "-ZHNghBHt-8F",
        "colab_type": "code",
        "colab": {
          "base_uri": "https://localhost:8080/",
          "height": 34
        },
        "outputId": "88ef09c6-8cd9-4383-f2c6-4e23d198c371"
      },
      "source": [
        "y_pred2 = model2.predict(creditcard_df_test)"
      ],
      "execution_count": 60,
      "outputs": [
        {
          "output_type": "stream",
          "text": [
            "xgboost prediction progress: |████████████████████████████████████████████| 100%\n"
          ],
          "name": "stdout"
        }
      ]
    },
    {
      "cell_type": "code",
      "metadata": {
        "id": "pTHrWGX3uC82",
        "colab_type": "code",
        "colab": {
          "base_uri": "https://localhost:8080/",
          "height": 267
        },
        "outputId": "b4504510-e5f5-446f-a5c5-4c1f41b9213e"
      },
      "source": [
        "print(y_pred2)"
      ],
      "execution_count": 61,
      "outputs": [
        {
          "output_type": "display_data",
          "data": {
            "text/html": [
              "<table>\n",
              "<thead>\n",
              "<tr><th style=\"text-align: right;\">  predict</th><th style=\"text-align: right;\">      p0</th><th style=\"text-align: right;\">        p1</th></tr>\n",
              "</thead>\n",
              "<tbody>\n",
              "<tr><td style=\"text-align: right;\">        0</td><td style=\"text-align: right;\">0.997893</td><td style=\"text-align: right;\">0.00210686</td></tr>\n",
              "<tr><td style=\"text-align: right;\">        0</td><td style=\"text-align: right;\">0.997345</td><td style=\"text-align: right;\">0.00265481</td></tr>\n",
              "<tr><td style=\"text-align: right;\">        0</td><td style=\"text-align: right;\">0.997893</td><td style=\"text-align: right;\">0.00210686</td></tr>\n",
              "<tr><td style=\"text-align: right;\">        0</td><td style=\"text-align: right;\">0.996865</td><td style=\"text-align: right;\">0.00313474</td></tr>\n",
              "<tr><td style=\"text-align: right;\">        0</td><td style=\"text-align: right;\">0.99694 </td><td style=\"text-align: right;\">0.00305993</td></tr>\n",
              "<tr><td style=\"text-align: right;\">        0</td><td style=\"text-align: right;\">0.997893</td><td style=\"text-align: right;\">0.00210686</td></tr>\n",
              "<tr><td style=\"text-align: right;\">        0</td><td style=\"text-align: right;\">0.997893</td><td style=\"text-align: right;\">0.00210686</td></tr>\n",
              "<tr><td style=\"text-align: right;\">        0</td><td style=\"text-align: right;\">0.997893</td><td style=\"text-align: right;\">0.00210686</td></tr>\n",
              "<tr><td style=\"text-align: right;\">        0</td><td style=\"text-align: right;\">0.997893</td><td style=\"text-align: right;\">0.00210686</td></tr>\n",
              "<tr><td style=\"text-align: right;\">        0</td><td style=\"text-align: right;\">0.997893</td><td style=\"text-align: right;\">0.00210686</td></tr>\n",
              "</tbody>\n",
              "</table>"
            ]
          },
          "metadata": {
            "tags": []
          }
        },
        {
          "output_type": "stream",
          "text": [
            "\n"
          ],
          "name": "stdout"
        }
      ]
    },
    {
      "cell_type": "code",
      "metadata": {
        "id": "oZsuppk3S6at",
        "colab_type": "code",
        "colab": {}
      },
      "source": [
        "X_test = creditcard_df_test['Class']\n",
        "y_pred_class = y_pred2['predict']"
      ],
      "execution_count": 0,
      "outputs": []
    },
    {
      "cell_type": "code",
      "metadata": {
        "id": "OUS9414VTOQM",
        "colab_type": "code",
        "colab": {}
      },
      "source": [
        "accuracy2 = 100*X_test[X_test == y_pred_class].shape[0]/X_test.shape[0]"
      ],
      "execution_count": 0,
      "outputs": []
    },
    {
      "cell_type": "code",
      "metadata": {
        "id": "XYn3MabNTian",
        "colab_type": "code",
        "colab": {
          "base_uri": "https://localhost:8080/",
          "height": 34
        },
        "outputId": "c6313bda-f51d-4d56-b1b7-154d5b313014"
      },
      "source": [
        "print(accuracy2)"
      ],
      "execution_count": 69,
      "outputs": [
        {
          "output_type": "stream",
          "text": [
            "99.94272690082403\n"
          ],
          "name": "stdout"
        }
      ]
    },
    {
      "cell_type": "code",
      "metadata": {
        "id": "qvmKiF0zVRhR",
        "colab_type": "code",
        "colab": {}
      },
      "source": [
        "performance = model2.leader.model_performance(creditcard_df_test)"
      ],
      "execution_count": 0,
      "outputs": []
    },
    {
      "cell_type": "code",
      "metadata": {
        "id": "l-_3AIKZcBaM",
        "colab_type": "code",
        "colab": {
          "base_uri": "https://localhost:8080/",
          "height": 1000
        },
        "outputId": "849e0c82-40d9-436d-be58-b07ee45665fc"
      },
      "source": [
        "performance"
      ],
      "execution_count": 99,
      "outputs": [
        {
          "output_type": "stream",
          "text": [
            "\n",
            "ModelMetricsBinomial: xgboost\n",
            "** Reported on test data. **\n",
            "\n",
            "MSE: 0.0005033736887021099\n",
            "RMSE: 0.02243599092311525\n",
            "LogLoss: 0.0047319856952204205\n",
            "Mean Per-Class Error: 0.0756670502595943\n",
            "AUC: 0.9557524044649707\n",
            "pr_auc: 0.7868181964883806\n",
            "Gini: 0.9115048089299413\n",
            "\n",
            "Confusion Matrix (Act/Pred) for max f1 @ threshold = 0.3422805666923523: \n"
          ],
          "name": "stdout"
        },
        {
          "output_type": "display_data",
          "data": {
            "text/html": [
              "<div>\n",
              "<style scoped>\n",
              "    .dataframe tbody tr th:only-of-type {\n",
              "        vertical-align: middle;\n",
              "    }\n",
              "\n",
              "    .dataframe tbody tr th {\n",
              "        vertical-align: top;\n",
              "    }\n",
              "\n",
              "    .dataframe thead th {\n",
              "        text-align: right;\n",
              "    }\n",
              "</style>\n",
              "<table border=\"1\" class=\"dataframe\">\n",
              "  <thead>\n",
              "    <tr style=\"text-align: right;\">\n",
              "      <th></th>\n",
              "      <th></th>\n",
              "      <th>0</th>\n",
              "      <th>1</th>\n",
              "      <th>Error</th>\n",
              "      <th>Rate</th>\n",
              "    </tr>\n",
              "  </thead>\n",
              "  <tbody>\n",
              "    <tr>\n",
              "      <th>0</th>\n",
              "      <td>0</td>\n",
              "      <td>85397.0</td>\n",
              "      <td>11.0</td>\n",
              "      <td>0.0001</td>\n",
              "      <td>(11.0/85408.0)</td>\n",
              "    </tr>\n",
              "    <tr>\n",
              "      <th>1</th>\n",
              "      <td>1</td>\n",
              "      <td>34.0</td>\n",
              "      <td>113.0</td>\n",
              "      <td>0.2313</td>\n",
              "      <td>(34.0/147.0)</td>\n",
              "    </tr>\n",
              "    <tr>\n",
              "      <th>2</th>\n",
              "      <td>Total</td>\n",
              "      <td>85431.0</td>\n",
              "      <td>124.0</td>\n",
              "      <td>0.0005</td>\n",
              "      <td>(45.0/85555.0)</td>\n",
              "    </tr>\n",
              "  </tbody>\n",
              "</table>\n",
              "</div>"
            ],
            "text/plain": [
              "                0      1   Error             Rate\n",
              "0      0  85397.0   11.0  0.0001   (11.0/85408.0)\n",
              "1      1     34.0  113.0  0.2313     (34.0/147.0)\n",
              "2  Total  85431.0  124.0  0.0005   (45.0/85555.0)"
            ]
          },
          "metadata": {
            "tags": []
          }
        },
        {
          "output_type": "stream",
          "text": [
            "\n",
            "Maximum Metrics: Maximum metrics at their respective thresholds\n"
          ],
          "name": "stdout"
        },
        {
          "output_type": "display_data",
          "data": {
            "text/html": [
              "<div>\n",
              "<style scoped>\n",
              "    .dataframe tbody tr th:only-of-type {\n",
              "        vertical-align: middle;\n",
              "    }\n",
              "\n",
              "    .dataframe tbody tr th {\n",
              "        vertical-align: top;\n",
              "    }\n",
              "\n",
              "    .dataframe thead th {\n",
              "        text-align: right;\n",
              "    }\n",
              "</style>\n",
              "<table border=\"1\" class=\"dataframe\">\n",
              "  <thead>\n",
              "    <tr style=\"text-align: right;\">\n",
              "      <th></th>\n",
              "      <th>metric</th>\n",
              "      <th>threshold</th>\n",
              "      <th>value</th>\n",
              "      <th>idx</th>\n",
              "    </tr>\n",
              "  </thead>\n",
              "  <tbody>\n",
              "    <tr>\n",
              "      <th>0</th>\n",
              "      <td>max f1</td>\n",
              "      <td>0.342281</td>\n",
              "      <td>0.833948</td>\n",
              "      <td>100.0</td>\n",
              "    </tr>\n",
              "    <tr>\n",
              "      <th>1</th>\n",
              "      <td>max f2</td>\n",
              "      <td>0.097233</td>\n",
              "      <td>0.807537</td>\n",
              "      <td>130.0</td>\n",
              "    </tr>\n",
              "    <tr>\n",
              "      <th>2</th>\n",
              "      <td>max f0point5</td>\n",
              "      <td>0.723395</td>\n",
              "      <td>0.891938</td>\n",
              "      <td>85.0</td>\n",
              "    </tr>\n",
              "    <tr>\n",
              "      <th>3</th>\n",
              "      <td>max accuracy</td>\n",
              "      <td>0.342281</td>\n",
              "      <td>0.999474</td>\n",
              "      <td>100.0</td>\n",
              "    </tr>\n",
              "    <tr>\n",
              "      <th>4</th>\n",
              "      <td>max precision</td>\n",
              "      <td>0.993337</td>\n",
              "      <td>1.000000</td>\n",
              "      <td>0.0</td>\n",
              "    </tr>\n",
              "    <tr>\n",
              "      <th>5</th>\n",
              "      <td>max recall</td>\n",
              "      <td>0.002107</td>\n",
              "      <td>1.000000</td>\n",
              "      <td>399.0</td>\n",
              "    </tr>\n",
              "    <tr>\n",
              "      <th>6</th>\n",
              "      <td>max specificity</td>\n",
              "      <td>0.993337</td>\n",
              "      <td>1.000000</td>\n",
              "      <td>0.0</td>\n",
              "    </tr>\n",
              "    <tr>\n",
              "      <th>7</th>\n",
              "      <td>max absolute_mcc</td>\n",
              "      <td>0.342281</td>\n",
              "      <td>0.836715</td>\n",
              "      <td>100.0</td>\n",
              "    </tr>\n",
              "    <tr>\n",
              "      <th>8</th>\n",
              "      <td>max min_per_class_accuracy</td>\n",
              "      <td>0.002763</td>\n",
              "      <td>0.904762</td>\n",
              "      <td>344.0</td>\n",
              "    </tr>\n",
              "    <tr>\n",
              "      <th>9</th>\n",
              "      <td>max mean_per_class_accuracy</td>\n",
              "      <td>0.005258</td>\n",
              "      <td>0.924333</td>\n",
              "      <td>263.0</td>\n",
              "    </tr>\n",
              "    <tr>\n",
              "      <th>10</th>\n",
              "      <td>max tns</td>\n",
              "      <td>0.993337</td>\n",
              "      <td>85408.000000</td>\n",
              "      <td>0.0</td>\n",
              "    </tr>\n",
              "    <tr>\n",
              "      <th>11</th>\n",
              "      <td>max fns</td>\n",
              "      <td>0.993337</td>\n",
              "      <td>146.000000</td>\n",
              "      <td>0.0</td>\n",
              "    </tr>\n",
              "    <tr>\n",
              "      <th>12</th>\n",
              "      <td>max fps</td>\n",
              "      <td>0.002107</td>\n",
              "      <td>85408.000000</td>\n",
              "      <td>399.0</td>\n",
              "    </tr>\n",
              "    <tr>\n",
              "      <th>13</th>\n",
              "      <td>max tps</td>\n",
              "      <td>0.002107</td>\n",
              "      <td>147.000000</td>\n",
              "      <td>399.0</td>\n",
              "    </tr>\n",
              "    <tr>\n",
              "      <th>14</th>\n",
              "      <td>max tnr</td>\n",
              "      <td>0.993337</td>\n",
              "      <td>1.000000</td>\n",
              "      <td>0.0</td>\n",
              "    </tr>\n",
              "    <tr>\n",
              "      <th>15</th>\n",
              "      <td>max fnr</td>\n",
              "      <td>0.993337</td>\n",
              "      <td>0.993197</td>\n",
              "      <td>0.0</td>\n",
              "    </tr>\n",
              "    <tr>\n",
              "      <th>16</th>\n",
              "      <td>max fpr</td>\n",
              "      <td>0.002107</td>\n",
              "      <td>1.000000</td>\n",
              "      <td>399.0</td>\n",
              "    </tr>\n",
              "    <tr>\n",
              "      <th>17</th>\n",
              "      <td>max tpr</td>\n",
              "      <td>0.002107</td>\n",
              "      <td>1.000000</td>\n",
              "      <td>399.0</td>\n",
              "    </tr>\n",
              "  </tbody>\n",
              "</table>\n",
              "</div>"
            ],
            "text/plain": [
              "                         metric  threshold         value    idx\n",
              "0                        max f1   0.342281      0.833948  100.0\n",
              "1                        max f2   0.097233      0.807537  130.0\n",
              "2                  max f0point5   0.723395      0.891938   85.0\n",
              "3                  max accuracy   0.342281      0.999474  100.0\n",
              "4                 max precision   0.993337      1.000000    0.0\n",
              "5                    max recall   0.002107      1.000000  399.0\n",
              "6               max specificity   0.993337      1.000000    0.0\n",
              "7              max absolute_mcc   0.342281      0.836715  100.0\n",
              "8    max min_per_class_accuracy   0.002763      0.904762  344.0\n",
              "9   max mean_per_class_accuracy   0.005258      0.924333  263.0\n",
              "10                      max tns   0.993337  85408.000000    0.0\n",
              "11                      max fns   0.993337    146.000000    0.0\n",
              "12                      max fps   0.002107  85408.000000  399.0\n",
              "13                      max tps   0.002107    147.000000  399.0\n",
              "14                      max tnr   0.993337      1.000000    0.0\n",
              "15                      max fnr   0.993337      0.993197    0.0\n",
              "16                      max fpr   0.002107      1.000000  399.0\n",
              "17                      max tpr   0.002107      1.000000  399.0"
            ]
          },
          "metadata": {
            "tags": []
          }
        },
        {
          "output_type": "stream",
          "text": [
            "\n",
            "Gains/Lift Table: Avg response rate:  0.17 %, avg score:  0.37 %\n"
          ],
          "name": "stdout"
        },
        {
          "output_type": "display_data",
          "data": {
            "text/html": [
              "<div>\n",
              "<style scoped>\n",
              "    .dataframe tbody tr th:only-of-type {\n",
              "        vertical-align: middle;\n",
              "    }\n",
              "\n",
              "    .dataframe tbody tr th {\n",
              "        vertical-align: top;\n",
              "    }\n",
              "\n",
              "    .dataframe thead th {\n",
              "        text-align: right;\n",
              "    }\n",
              "</style>\n",
              "<table border=\"1\" class=\"dataframe\">\n",
              "  <thead>\n",
              "    <tr style=\"text-align: right;\">\n",
              "      <th></th>\n",
              "      <th></th>\n",
              "      <th>group</th>\n",
              "      <th>cumulative_data_fraction</th>\n",
              "      <th>lower_threshold</th>\n",
              "      <th>lift</th>\n",
              "      <th>cumulative_lift</th>\n",
              "      <th>response_rate</th>\n",
              "      <th>score</th>\n",
              "      <th>cumulative_response_rate</th>\n",
              "      <th>cumulative_score</th>\n",
              "      <th>capture_rate</th>\n",
              "      <th>cumulative_capture_rate</th>\n",
              "      <th>gain</th>\n",
              "      <th>cumulative_gain</th>\n",
              "    </tr>\n",
              "  </thead>\n",
              "  <tbody>\n",
              "    <tr>\n",
              "      <th>0</th>\n",
              "      <td></td>\n",
              "      <td>1</td>\n",
              "      <td>0.010005</td>\n",
              "      <td>0.005220</td>\n",
              "      <td>85.669226</td>\n",
              "      <td>85.669226</td>\n",
              "      <td>0.147196</td>\n",
              "      <td>0.143027</td>\n",
              "      <td>0.147196</td>\n",
              "      <td>0.143027</td>\n",
              "      <td>0.857143</td>\n",
              "      <td>0.857143</td>\n",
              "      <td>8466.922563</td>\n",
              "      <td>8466.922563</td>\n",
              "    </tr>\n",
              "    <tr>\n",
              "      <th>1</th>\n",
              "      <td></td>\n",
              "      <td>2</td>\n",
              "      <td>0.020011</td>\n",
              "      <td>0.003988</td>\n",
              "      <td>0.000000</td>\n",
              "      <td>42.834613</td>\n",
              "      <td>0.000000</td>\n",
              "      <td>0.004461</td>\n",
              "      <td>0.073598</td>\n",
              "      <td>0.073744</td>\n",
              "      <td>0.000000</td>\n",
              "      <td>0.857143</td>\n",
              "      <td>-100.000000</td>\n",
              "      <td>4183.461282</td>\n",
              "    </tr>\n",
              "    <tr>\n",
              "      <th>2</th>\n",
              "      <td></td>\n",
              "      <td>3</td>\n",
              "      <td>0.030004</td>\n",
              "      <td>0.003563</td>\n",
              "      <td>0.680710</td>\n",
              "      <td>28.794259</td>\n",
              "      <td>0.001170</td>\n",
              "      <td>0.003757</td>\n",
              "      <td>0.049474</td>\n",
              "      <td>0.050433</td>\n",
              "      <td>0.006803</td>\n",
              "      <td>0.863946</td>\n",
              "      <td>-31.929029</td>\n",
              "      <td>2779.425943</td>\n",
              "    </tr>\n",
              "    <tr>\n",
              "      <th>3</th>\n",
              "      <td></td>\n",
              "      <td>4</td>\n",
              "      <td>0.040009</td>\n",
              "      <td>0.003270</td>\n",
              "      <td>2.039743</td>\n",
              "      <td>22.103676</td>\n",
              "      <td>0.003505</td>\n",
              "      <td>0.003406</td>\n",
              "      <td>0.037978</td>\n",
              "      <td>0.038673</td>\n",
              "      <td>0.020408</td>\n",
              "      <td>0.884354</td>\n",
              "      <td>103.974347</td>\n",
              "      <td>2110.367641</td>\n",
              "    </tr>\n",
              "    <tr>\n",
              "      <th>4</th>\n",
              "      <td></td>\n",
              "      <td>5</td>\n",
              "      <td>0.050003</td>\n",
              "      <td>0.003080</td>\n",
              "      <td>0.000000</td>\n",
              "      <td>17.686041</td>\n",
              "      <td>0.000000</td>\n",
              "      <td>0.003171</td>\n",
              "      <td>0.030388</td>\n",
              "      <td>0.031577</td>\n",
              "      <td>0.000000</td>\n",
              "      <td>0.884354</td>\n",
              "      <td>-100.000000</td>\n",
              "      <td>1668.604122</td>\n",
              "    </tr>\n",
              "    <tr>\n",
              "      <th>5</th>\n",
              "      <td></td>\n",
              "      <td>6</td>\n",
              "      <td>0.100006</td>\n",
              "      <td>0.002600</td>\n",
              "      <td>0.408139</td>\n",
              "      <td>9.047090</td>\n",
              "      <td>0.000701</td>\n",
              "      <td>0.002799</td>\n",
              "      <td>0.015545</td>\n",
              "      <td>0.017188</td>\n",
              "      <td>0.020408</td>\n",
              "      <td>0.904762</td>\n",
              "      <td>-59.186059</td>\n",
              "      <td>804.709032</td>\n",
              "    </tr>\n",
              "    <tr>\n",
              "      <th>6</th>\n",
              "      <td></td>\n",
              "      <td>7</td>\n",
              "      <td>0.150056</td>\n",
              "      <td>0.002391</td>\n",
              "      <td>0.135919</td>\n",
              "      <td>6.074849</td>\n",
              "      <td>0.000234</td>\n",
              "      <td>0.002480</td>\n",
              "      <td>0.010438</td>\n",
              "      <td>0.012282</td>\n",
              "      <td>0.006803</td>\n",
              "      <td>0.911565</td>\n",
              "      <td>-86.408062</td>\n",
              "      <td>507.484901</td>\n",
              "    </tr>\n",
              "    <tr>\n",
              "      <th>7</th>\n",
              "      <td></td>\n",
              "      <td>8</td>\n",
              "      <td>0.200000</td>\n",
              "      <td>0.002278</td>\n",
              "      <td>0.408617</td>\n",
              "      <td>4.659864</td>\n",
              "      <td>0.000702</td>\n",
              "      <td>0.002328</td>\n",
              "      <td>0.008007</td>\n",
              "      <td>0.009796</td>\n",
              "      <td>0.020408</td>\n",
              "      <td>0.931973</td>\n",
              "      <td>-59.138301</td>\n",
              "      <td>365.986395</td>\n",
              "    </tr>\n",
              "    <tr>\n",
              "      <th>8</th>\n",
              "      <td></td>\n",
              "      <td>9</td>\n",
              "      <td>0.302379</td>\n",
              "      <td>0.002168</td>\n",
              "      <td>0.132893</td>\n",
              "      <td>3.127134</td>\n",
              "      <td>0.000228</td>\n",
              "      <td>0.002208</td>\n",
              "      <td>0.005373</td>\n",
              "      <td>0.007227</td>\n",
              "      <td>0.013605</td>\n",
              "      <td>0.945578</td>\n",
              "      <td>-86.710656</td>\n",
              "      <td>212.713357</td>\n",
              "    </tr>\n",
              "    <tr>\n",
              "      <th>9</th>\n",
              "      <td></td>\n",
              "      <td>10</td>\n",
              "      <td>0.400117</td>\n",
              "      <td>0.002113</td>\n",
              "      <td>0.139203</td>\n",
              "      <td>2.397259</td>\n",
              "      <td>0.000239</td>\n",
              "      <td>0.002133</td>\n",
              "      <td>0.004119</td>\n",
              "      <td>0.005983</td>\n",
              "      <td>0.013605</td>\n",
              "      <td>0.959184</td>\n",
              "      <td>-86.079722</td>\n",
              "      <td>139.725868</td>\n",
              "    </tr>\n",
              "    <tr>\n",
              "      <th>10</th>\n",
              "      <td></td>\n",
              "      <td>11</td>\n",
              "      <td>1.000000</td>\n",
              "      <td>0.002107</td>\n",
              "      <td>0.068040</td>\n",
              "      <td>1.000000</td>\n",
              "      <td>0.000117</td>\n",
              "      <td>0.002107</td>\n",
              "      <td>0.001718</td>\n",
              "      <td>0.003658</td>\n",
              "      <td>0.040816</td>\n",
              "      <td>1.000000</td>\n",
              "      <td>-93.195953</td>\n",
              "      <td>0.000000</td>\n",
              "    </tr>\n",
              "  </tbody>\n",
              "</table>\n",
              "</div>"
            ],
            "text/plain": [
              "      group  ...         gain  cumulative_gain\n",
              "0         1  ...  8466.922563      8466.922563\n",
              "1         2  ...  -100.000000      4183.461282\n",
              "2         3  ...   -31.929029      2779.425943\n",
              "3         4  ...   103.974347      2110.367641\n",
              "4         5  ...  -100.000000      1668.604122\n",
              "5         6  ...   -59.186059       804.709032\n",
              "6         7  ...   -86.408062       507.484901\n",
              "7         8  ...   -59.138301       365.986395\n",
              "8         9  ...   -86.710656       212.713357\n",
              "9        10  ...   -86.079722       139.725868\n",
              "10       11  ...   -93.195953         0.000000\n",
              "\n",
              "[11 rows x 14 columns]"
            ]
          },
          "metadata": {
            "tags": []
          }
        },
        {
          "output_type": "stream",
          "text": [
            "\n"
          ],
          "name": "stdout"
        },
        {
          "output_type": "execute_result",
          "data": {
            "text/plain": [
              ""
            ]
          },
          "metadata": {
            "tags": []
          },
          "execution_count": 99
        }
      ]
    }
  ]
}