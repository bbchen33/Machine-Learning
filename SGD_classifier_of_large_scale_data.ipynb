{
  "nbformat": 4,
  "nbformat_minor": 0,
  "metadata": {
    "colab": {
      "name": "Welcome To Colaboratory",
      "provenance": [],
      "collapsed_sections": [],
      "include_colab_link": true
    },
    "kernelspec": {
      "name": "python3",
      "display_name": "Python 3"
    },
    "accelerator": "GPU"
  },
  "cells": [
    {
      "cell_type": "markdown",
      "metadata": {
        "id": "view-in-github",
        "colab_type": "text"
      },
      "source": [
        "<a href=\"https://colab.research.google.com/github/bbchen33/Machine-Learning/blob/master/SGD_classifier_of_large_scale_data.ipynb\" target=\"_parent\"><img src=\"https://colab.research.google.com/assets/colab-badge.svg\" alt=\"Open In Colab\"/></a>"
      ]
    },
    {
      "cell_type": "code",
      "metadata": {
        "id": "xJS0QrjoimPu",
        "colab_type": "code",
        "colab": {}
      },
      "source": [
        "from sklearn.datasets import make_classification\n",
        "X, y = make_classification(n_samples=1000000, n_classes=2, weights=[1,1], random_state=1)\n"
      ],
      "execution_count": 0,
      "outputs": []
    },
    {
      "cell_type": "code",
      "metadata": {
        "id": "xkZrYXXhoIcx",
        "colab_type": "code",
        "colab": {}
      },
      "source": [
        "from sklearn.model_selection import train_test_split\n",
        "X_train, X_test, y_train, y_test = train_test_split(X, y, test_size=0.3, random_state=1)\n",
        "from sklearn.linear_model import SGDClassifier"
      ],
      "execution_count": 0,
      "outputs": []
    },
    {
      "cell_type": "markdown",
      "metadata": {
        "id": "a6jcYl4j4LFY",
        "colab_type": "text"
      },
      "source": [
        "Using SGD partial fit to train with the entire training set for 100 times"
      ]
    },
    {
      "cell_type": "code",
      "metadata": {
        "id": "X2so8Uxgv6qv",
        "colab_type": "code",
        "colab": {
          "base_uri": "https://localhost:8080/",
          "height": 34
        },
        "outputId": "2488d43d-4e46-42f3-81d0-077f8d51bfb6"
      },
      "source": [
        "import time\n",
        "import numpy as np\n",
        "time0= time.time()\n",
        "score = []\n",
        "clf_SGD= SGDClassifier(loss='log', random_state=1)\n",
        "for i in range(100):\n",
        "  clf_SGD.partial_fit(X_train, y_train, classes = np.array([0,1]))\n",
        "  score.append(clf_SGD.score(X_test,y_test))\n",
        "time1 = time.time()\n",
        "total_time = time1 - time0\n",
        "print(total_time)"
      ],
      "execution_count": 3,
      "outputs": [
        {
          "output_type": "stream",
          "text": [
            "42.57636857032776\n"
          ],
          "name": "stdout"
        }
      ]
    },
    {
      "cell_type": "code",
      "metadata": {
        "id": "UXsLYeu113ZF",
        "colab_type": "code",
        "outputId": "a4b4abf9-fd91-4819-a0f2-adb55090bb4b",
        "colab": {
          "base_uri": "https://localhost:8080/",
          "height": 300
        }
      },
      "source": [
        "import matplotlib.pyplot as plt\n",
        "plt.plot(range(100), score)\n",
        "plt.xlabel('iteration')\n",
        "plt.ylabel('test set accuracy')"
      ],
      "execution_count": 4,
      "outputs": [
        {
          "output_type": "execute_result",
          "data": {
            "text/plain": [
              "Text(0, 0.5, 'test set accuracy')"
            ]
          },
          "metadata": {
            "tags": []
          },
          "execution_count": 4
        },
        {
          "output_type": "display_data",
          "data": {
            "image/png": "[encoded data removed]",
            "text/plain": [
              "<Figure size 432x288 with 1 Axes>"
            ]
          },
          "metadata": {
            "tags": []
          }
        }
      ]
    },
    {
      "cell_type": "code",
      "metadata": {
        "id": "QP26WbdI5NJT",
        "colab_type": "code",
        "outputId": "b0432efd-5f76-4bc2-9260-922c3745f53e",
        "colab": {
          "base_uri": "https://localhost:8080/",
          "height": 34
        }
      },
      "source": [
        "print(f'The highest score is: {max(score)}')"
      ],
      "execution_count": 5,
      "outputs": [
        {
          "output_type": "stream",
          "text": [
            "The highest score is: 0.93653\n"
          ],
          "name": "stdout"
        }
      ]
    },
    {
      "cell_type": "markdown",
      "metadata": {
        "id": "0V24HrDn4qck",
        "colab_type": "text"
      },
      "source": [
        "The accuracy score on the test set increases as the iteration increases"
      ]
    },
    {
      "cell_type": "code",
      "metadata": {
        "id": "nMwEr-Kv2fyl",
        "colab_type": "code",
        "colab": {
          "base_uri": "https://localhost:8080/",
          "height": 34
        },
        "outputId": "11c26376-210a-4f24-a4b6-8bb05f1ea705"
      },
      "source": [
        "from sklearn.model_selection import StratifiedKFold\n",
        "time0= time.time()\n",
        "kfold = StratifiedKFold(n_splits=100,\n",
        "                        random_state=1).split(X_train, y_train)\n",
        "SGD = SGDClassifier(loss='log', random_state=1)\n",
        "K_fold_score = []\n",
        "for k, (train,test) in enumerate(kfold):\n",
        "  SGD.partial_fit(X[train], y[train],classes = np.array([0,1]))\n",
        "  K_fold_score.append(SGD.score(X_test, y_test)) \n",
        "time1 = time.time()\n",
        "total_time = time1 - time0\n",
        "print(total_time)"
      ],
      "execution_count": 6,
      "outputs": [
        {
          "output_type": "stream",
          "text": [
            "44.77104210853577\n"
          ],
          "name": "stdout"
        }
      ]
    },
    {
      "cell_type": "code",
      "metadata": {
        "id": "YWYyg_oL3q-J",
        "colab_type": "code",
        "outputId": "a6edc6a0-7e99-4cf9-a344-e2f820ae347e",
        "colab": {
          "base_uri": "https://localhost:8080/",
          "height": 286
        }
      },
      "source": [
        "plt.plot(range(50), K_fold_score[:50])"
      ],
      "execution_count": 7,
      "outputs": [
        {
          "output_type": "execute_result",
          "data": {
            "text/plain": [
              "[<matplotlib.lines.Line2D at 0x7f34b4d8fe80>]"
            ]
          },
          "metadata": {
            "tags": []
          },
          "execution_count": 7
        },
        {
          "output_type": "display_data",
          "data": {
            "image/png": "[encoded data removed]",
            "text/plain": [
              "<Figure size 432x288 with 1 Axes>"
            ]
          },
          "metadata": {
            "tags": []
          }
        }
      ]
    },
    {
      "cell_type": "code",
      "metadata": {
        "id": "RDjM2X6n5exh",
        "colab_type": "code",
        "outputId": "7b1ce038-b70a-44ca-9b1f-d44d7e1e005b",
        "colab": {
          "base_uri": "https://localhost:8080/",
          "height": 34
        }
      },
      "source": [
        "print(f'The highest score is: {max(K_fold_score)}')"
      ],
      "execution_count": 8,
      "outputs": [
        {
          "output_type": "stream",
          "text": [
            "The highest score is: 0.9366366666666667\n"
          ],
          "name": "stdout"
        }
      ]
    },
    {
      "cell_type": "markdown",
      "metadata": {
        "id": "g5SA9cmN5mwy",
        "colab_type": "text"
      },
      "source": [
        "Iterate the entire dataset 100 times or split the data to 100 fold and iterate each set give similar accuracy scores on the test set."
      ]
    },
    {
      "cell_type": "code",
      "metadata": {
        "id": "Rue7V0xZe82I",
        "colab_type": "code",
        "colab": {
          "base_uri": "https://localhost:8080/",
          "height": 54
        },
        "outputId": "f0b26f62-936a-401a-fc7f-d51b0601b7dd"
      },
      "source": [
        "from sklearn.model_selection import GridSearchCV\n",
        "SGD_model = SGDClassifier()\n",
        "print(SGD_model.get_params().keys())"
      ],
      "execution_count": 9,
      "outputs": [
        {
          "output_type": "stream",
          "text": [
            "dict_keys(['alpha', 'average', 'class_weight', 'early_stopping', 'epsilon', 'eta0', 'fit_intercept', 'l1_ratio', 'learning_rate', 'loss', 'max_iter', 'n_iter_no_change', 'n_jobs', 'penalty', 'power_t', 'random_state', 'shuffle', 'tol', 'validation_fraction', 'verbose', 'warm_start'])\n"
          ],
          "name": "stdout"
        }
      ]
    },
    {
      "cell_type": "code",
      "metadata": {
        "id": "WJqqhEfHfhyR",
        "colab_type": "code",
        "colab": {
          "base_uri": "https://localhost:8080/",
          "height": 71
        },
        "outputId": "e080ccc6-5b32-41bc-d4ce-af71575e04bf"
      },
      "source": [
        "time0 = time.time()\n",
        "param_grid = [{'alpha':np.logspace(-4,3,8),\n",
        "               'loss':['log'],\n",
        "               'penalty': ['l2'],\n",
        "               'n_jobs': [-1]}]\n",
        "\n",
        "gs = GridSearchCV(estimator = SGD_model,\n",
        "                  param_grid = param_grid,\n",
        "                  scoring = 'f1',\n",
        "                  cv = 5,\n",
        "                  n_jobs = -1)   \n",
        "\n",
        "gs = gs.fit(X_train, y_train)\n",
        "time1 = time.time()\n",
        "total_time = time1-time0\n",
        "print(f'total time:{total_time}')\n",
        "print(f'The best parameters are {gs.best_params_} with the accuracy score of {gs.best_score_}')\n"
      ],
      "execution_count": 17,
      "outputs": [
        {
          "output_type": "stream",
          "text": [
            "total time:56.48853302001953\n",
            "The best parameters are {'alpha': 0.001, 'loss': 'log', 'n_jobs': -1, 'penalty': 'l2'} with the accuracy score of 0.9343014100874628\n"
          ],
          "name": "stdout"
        }
      ]
    },
    {
      "cell_type": "code",
      "metadata": {
        "id": "Uc6BNJsYf6-p",
        "colab_type": "code",
        "colab": {
          "base_uri": "https://localhost:8080/",
          "height": 394
        },
        "outputId": "428cb960-c0e4-4e1d-9604-36c77ac342a8"
      },
      "source": [
        "!pip install parfit"
      ],
      "execution_count": 15,
      "outputs": [
        {
          "output_type": "stream",
          "text": [
            "Collecting parfit\n",
            "  Downloading https://files.pythonhosted.org/packages/08/60/8090b25f914c91914e8bb5c87819bfe52cead06b6d1a557f20afbe62c1ec/parfit-0.220.tar.gz\n",
            "Requirement already satisfied: joblib in /usr/local/lib/python3.6/dist-packages (from parfit) (0.13.2)\n",
            "Requirement already satisfied: matplotlib in /usr/local/lib/python3.6/dist-packages (from parfit) (3.0.3)\n",
            "Requirement already satisfied: sklearn in /usr/local/lib/python3.6/dist-packages (from parfit) (0.0)\n",
            "Requirement already satisfied: numpy in /usr/local/lib/python3.6/dist-packages (from parfit) (1.16.5)\n",
            "Requirement already satisfied: python-dateutil>=2.1 in /usr/local/lib/python3.6/dist-packages (from matplotlib->parfit) (2.5.3)\n",
            "Requirement already satisfied: pyparsing!=2.0.4,!=2.1.2,!=2.1.6,>=2.0.1 in /usr/local/lib/python3.6/dist-packages (from matplotlib->parfit) (2.4.2)\n",
            "Requirement already satisfied: cycler>=0.10 in /usr/local/lib/python3.6/dist-packages (from matplotlib->parfit) (0.10.0)\n",
            "Requirement already satisfied: kiwisolver>=1.0.1 in /usr/local/lib/python3.6/dist-packages (from matplotlib->parfit) (1.1.0)\n",
            "Requirement already satisfied: scikit-learn in /usr/local/lib/python3.6/dist-packages (from sklearn->parfit) (0.21.3)\n",
            "Requirement already satisfied: six>=1.5 in /usr/local/lib/python3.6/dist-packages (from python-dateutil>=2.1->matplotlib->parfit) (1.12.0)\n",
            "Requirement already satisfied: setuptools in /usr/local/lib/python3.6/dist-packages (from kiwisolver>=1.0.1->matplotlib->parfit) (41.2.0)\n",
            "Requirement already satisfied: scipy>=0.17.0 in /usr/local/lib/python3.6/dist-packages (from scikit-learn->sklearn->parfit) (1.3.1)\n",
            "Building wheels for collected packages: parfit\n",
            "  Building wheel for parfit (setup.py) ... \u001b[?25l\u001b[?25hdone\n",
            "  Created wheel for parfit: filename=parfit-0.220-cp36-none-any.whl size=8660 sha256=4ad518b8d9efe7e34ce07fcb9f2a4642dfce14cc227d4a51c69455b2629a3eab\n",
            "  Stored in directory: /root/.cache/pip/wheels/d9/8a/c9/ed86e85ad0cb41ce2fdcb6bc215902dc475bd3fb1fef7c742d\n",
            "Successfully built parfit\n",
            "Installing collected packages: parfit\n",
            "Successfully installed parfit-0.220\n"
          ],
          "name": "stdout"
        }
      ]
    },
    {
      "cell_type": "markdown",
      "metadata": {
        "id": "uTjVKhb1k_fK",
        "colab_type": "text"
      },
      "source": [
        "Use parfit to find the best parameters"
      ]
    },
    {
      "cell_type": "code",
      "metadata": {
        "id": "Gcv09TjCjGrQ",
        "colab_type": "code",
        "colab": {
          "base_uri": "https://localhost:8080/",
          "height": 681
        },
        "outputId": "642e4c3e-c83c-46d6-d526-10bfa8ce660b"
      },
      "source": [
        "import parfit.parfit as pf\n",
        "from sklearn.model_selection import ParameterGrid\n",
        "from sklearn.metrics import f1_score\n",
        "time0 = time.time()\n",
        "grid = {\n",
        "    'alpha':np.logspace(-4,3,8), \n",
        "    'loss': ['log'], \n",
        "    'penalty': ['l2'],\n",
        "    'n_jobs': [-1]\n",
        "}\n",
        "param_grid = ParameterGrid(grid)\n",
        "\n",
        "Best_model, Best_score, All_models, All_scores = pf.bestFit(SGDClassifier, param_grid,\n",
        "                                                            X_train, y_train, X_test, y_test, \n",
        "                                                            metric = f1_score, scoreLabel = \"F1\")\n",
        "time1 = time.time()\n",
        "total_time = time1-time0\n",
        "print(f'total time:{total_time}')\n",
        "print(Best_model, Best_score)"
      ],
      "execution_count": 23,
      "outputs": [
        {
          "output_type": "stream",
          "text": [
            "-------------FITTING MODELS-------------\n"
          ],
          "name": "stdout"
        },
        {
          "output_type": "stream",
          "text": [
            "[Parallel(n_jobs=-1)]: Using backend LokyBackend with 2 concurrent workers.\n",
            "[Parallel(n_jobs=-1)]: Done   1 tasks      | elapsed:    3.6s\n",
            "[Parallel(n_jobs=-1)]: Done   4 tasks      | elapsed:    7.1s\n",
            "[Parallel(n_jobs=-1)]: Done   6 out of   8 | elapsed:   10.3s remaining:    3.4s\n",
            "[Parallel(n_jobs=-1)]: Done   8 out of   8 | elapsed:   13.3s remaining:    0.0s\n",
            "[Parallel(n_jobs=-1)]: Done   8 out of   8 | elapsed:   13.3s finished\n",
            "[Parallel(n_jobs=-1)]: Using backend LokyBackend with 2 concurrent workers.\n"
          ],
          "name": "stderr"
        },
        {
          "output_type": "stream",
          "text": [
            "-------------SCORING MODELS-------------\n"
          ],
          "name": "stdout"
        },
        {
          "output_type": "stream",
          "text": [
            "[Parallel(n_jobs=-1)]: Done   8 out of   8 | elapsed:    1.5s finished\n"
          ],
          "name": "stderr"
        },
        {
          "output_type": "display_data",
          "data": {
            "image/png": "[encoded data removed]",
            "text/plain": [
              "<Figure size 432x432 with 1 Axes>"
            ]
          },
          "metadata": {
            "tags": []
          }
        },
        {
          "output_type": "stream",
          "text": [
            "total time:15.051450729370117\n",
            "SGDClassifier(alpha=0.001, average=False, class_weight=None,\n",
            "              early_stopping=False, epsilon=0.1, eta0=0.0, fit_intercept=True,\n",
            "              l1_ratio=0.15, learning_rate='optimal', loss='log', max_iter=1000,\n",
            "              n_iter_no_change=5, n_jobs=-1, penalty='l2', power_t=0.5,\n",
            "              random_state=None, shuffle=True, tol=0.001,\n",
            "              validation_fraction=0.1, verbose=0, warm_start=False) 0.9343392317652136\n"
          ],
          "name": "stdout"
        }
      ]
    },
    {
      "cell_type": "markdown",
      "metadata": {
        "id": "7u88gaJEl7Kw",
        "colab_type": "text"
      },
      "source": [
        "Parfit performed much faster than GridSearchCV (15 sec vs 56.5 sec). They both got the same parameter (alpha = 0.001). Might be a good idea to split the data to train, cross-validate and test sets and use train and cv for parfit and test set for final accuracy score."
      ]
    }
  ]
}