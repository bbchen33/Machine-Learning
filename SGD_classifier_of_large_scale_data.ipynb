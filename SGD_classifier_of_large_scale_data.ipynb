{
  "nbformat": 4,
  "nbformat_minor": 0,
  "metadata": {
    "colab": {
      "name": "Welcome To Colaboratory",
      "provenance": [],
      "collapsed_sections": [],
      "include_colab_link": true
    },
    "kernelspec": {
      "name": "python3",
      "display_name": "Python 3"
    },
    "accelerator": "GPU"
  },
  "cells": [
    {
      "cell_type": "markdown",
      "metadata": {
        "id": "view-in-github",
        "colab_type": "text"
      },
      "source": [
        "<a href=\"https://colab.research.google.com/github/bbchen33/Machine-Learning/blob/master/SGD_classifier_of_large_scale_data.ipynb\" target=\"_parent\"><img src=\"https://colab.research.google.com/assets/colab-badge.svg\" alt=\"Open In Colab\"/></a>"
      ]
    },
    {
      "cell_type": "code",
      "metadata": {
        "id": "xJS0QrjoimPu",
        "colab_type": "code",
        "colab": {}
      },
      "source": [
        "from sklearn.datasets import make_classification\n",
        "X, y = make_classification(n_samples=50000, n_classes=2, weights=[1,1], random_state=1)\n"
      ],
      "execution_count": 0,
      "outputs": []
    },
    {
      "cell_type": "code",
      "metadata": {
        "id": "xkZrYXXhoIcx",
        "colab_type": "code",
        "colab": {}
      },
      "source": [
        "from sklearn.model_selection import train_test_split\n",
        "X_train, X_test, y_train, y_test = train_test_split(X, y, test_size=0.3, random_state=1)\n",
        "from sklearn.linear_model import SGDClassifier"
      ],
      "execution_count": 0,
      "outputs": []
    },
    {
      "cell_type": "markdown",
      "metadata": {
        "id": "a6jcYl4j4LFY",
        "colab_type": "text"
      },
      "source": [
        "Using SGD partial fit to train with the entire training set for 100 times"
      ]
    },
    {
      "cell_type": "code",
      "metadata": {
        "id": "X2so8Uxgv6qv",
        "colab_type": "code",
        "colab": {}
      },
      "source": [
        "score = []\n",
        "for i in range(100):\n",
        "  clf_SGD.partial_fit(X_train, y_train, classes = np.array([0,1]))\n",
        "  score.append(clf_SGD.score(X_test,y_test))"
      ],
      "execution_count": 0,
      "outputs": []
    },
    {
      "cell_type": "code",
      "metadata": {
        "id": "UXsLYeu113ZF",
        "colab_type": "code",
        "colab": {
          "base_uri": "https://localhost:8080/",
          "height": 300
        },
        "outputId": "f34e7e8d-084a-4621-c07a-7cb08c22a6f0"
      },
      "source": [
        "import matplotlib.pyplot as plt\n",
        "plt.plot(range(100), score)\n",
        "plt.xlabel('iteration')\n",
        "plt.ylabel('test set accuracy')"
      ],
      "execution_count": 87,
      "outputs": [
        {
          "output_type": "execute_result",
          "data": {
            "text/plain": [
              "Text(0, 0.5, 'test set accuracy')"
            ]
          },
          "metadata": {
            "tags": []
          },
          "execution_count": 87
        },
        {
          "output_type": "display_data",
          "data": {
            "image/png": "[encoded data removed]",
            "text/plain": [
              "<Figure size 432x288 with 1 Axes>"
            ]
          },
          "metadata": {
            "tags": []
          }
        }
      ]
    },
    {
      "cell_type": "code",
      "metadata": {
        "id": "QP26WbdI5NJT",
        "colab_type": "code",
        "colab": {
          "base_uri": "https://localhost:8080/",
          "height": 34
        },
        "outputId": "5c173f8f-c239-4f80-e8fe-f70b0266382c"
      },
      "source": [
        "print(f'The highest score is: {max(score)}')"
      ],
      "execution_count": 92,
      "outputs": [
        {
          "output_type": "stream",
          "text": [
            "The highest score is: 0.8903\n"
          ],
          "name": "stdout"
        }
      ]
    },
    {
      "cell_type": "markdown",
      "metadata": {
        "id": "0V24HrDn4qck",
        "colab_type": "text"
      },
      "source": [
        "The accuracy score on the test set increases as the iteration increases"
      ]
    },
    {
      "cell_type": "code",
      "metadata": {
        "id": "nMwEr-Kv2fyl",
        "colab_type": "code",
        "colab": {}
      },
      "source": [
        "from sklearn.model_selection import StratifiedKFold\n",
        "kfold = StratifiedKFold(n_splits=100,\n",
        "                        random_state=1).split(X_train, y_train)\n",
        "SGD = SGDClassifier(loss='log', random_state=1)\n",
        "K_fold_score = []\n",
        "for k, (train,test) in enumerate(kfold):\n",
        "  SGD.partial_fit(X[train], y[train],classes = np.array([0,1]))\n",
        "  K_fold_score.append(SGD.score(X_test, y_test)) \n"
      ],
      "execution_count": 0,
      "outputs": []
    },
    {
      "cell_type": "code",
      "metadata": {
        "id": "YWYyg_oL3q-J",
        "colab_type": "code",
        "colab": {
          "base_uri": "https://localhost:8080/",
          "height": 286
        },
        "outputId": "2040575a-d4df-4fa0-b2c1-5bf1120e71e5"
      },
      "source": [
        "plt.plot(range(100), K_fold_score)"
      ],
      "execution_count": 89,
      "outputs": [
        {
          "output_type": "execute_result",
          "data": {
            "text/plain": [
              "[<matplotlib.lines.Line2D at 0x7fb7cbe45e80>]"
            ]
          },
          "metadata": {
            "tags": []
          },
          "execution_count": 89
        },
        {
          "output_type": "display_data",
          "data": {
            "image/png": "[encoded data removed]",
            "text/plain": [
              "<Figure size 432x288 with 1 Axes>"
            ]
          },
          "metadata": {
            "tags": []
          }
        }
      ]
    },
    {
      "cell_type": "code",
      "metadata": {
        "id": "RDjM2X6n5exh",
        "colab_type": "code",
        "colab": {
          "base_uri": "https://localhost:8080/",
          "height": 34
        },
        "outputId": "7ecb6fb5-2fc9-412a-8805-aef750917b1f"
      },
      "source": [
        "print(f'The highest score is: {max(K_fold_score)}')"
      ],
      "execution_count": 93,
      "outputs": [
        {
          "output_type": "stream",
          "text": [
            "The highest score is: 0.897\n"
          ],
          "name": "stdout"
        }
      ]
    },
    {
      "cell_type": "markdown",
      "metadata": {
        "id": "g5SA9cmN5mwy",
        "colab_type": "text"
      },
      "source": [
        "Splitting the train set into k fold actually results in rapid increase in the accuracy of the test set."
      ]
    }
  ]
}